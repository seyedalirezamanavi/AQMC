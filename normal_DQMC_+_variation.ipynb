{
  "nbformat": 4,
  "nbformat_minor": 0,
  "metadata": {
    "accelerator": "GPU",
    "colab": {
      "name": "normal DQMC + variation",
      "provenance": [],
      "collapsed_sections": []
    },
    "kernelspec": {
      "display_name": "Python 3",
      "name": "python3"
    }
  },
  "cells": [
    {
      "cell_type": "code",
      "metadata": {
        "colab": {
          "base_uri": "https://localhost:8080/"
        },
        "id": "bLZu9xX3gSpj",
        "outputId": "1434db9a-b72c-4696-bb21-b20ef0f6f024"
      },
      "source": [
        "!nvidia-smi"
      ],
      "execution_count": null,
      "outputs": [
        {
          "output_type": "stream",
          "text": [
            "Sat Jan 30 09:06:02 2021       \n",
            "+-----------------------------------------------------------------------------+\n",
            "| NVIDIA-SMI 460.32.03    Driver Version: 418.67       CUDA Version: 10.1     |\n",
            "|-------------------------------+----------------------+----------------------+\n",
            "| GPU  Name        Persistence-M| Bus-Id        Disp.A | Volatile Uncorr. ECC |\n",
            "| Fan  Temp  Perf  Pwr:Usage/Cap|         Memory-Usage | GPU-Util  Compute M. |\n",
            "|                               |                      |               MIG M. |\n",
            "|===============================+======================+======================|\n",
            "|   0  Tesla T4            Off  | 00000000:00:04.0 Off |                    0 |\n",
            "| N/A   43C    P8    10W /  70W |      0MiB / 15079MiB |      0%      Default |\n",
            "|                               |                      |                 ERR! |\n",
            "+-------------------------------+----------------------+----------------------+\n",
            "                                                                               \n",
            "+-----------------------------------------------------------------------------+\n",
            "| Processes:                                                                  |\n",
            "|  GPU   GI   CI        PID   Type   Process name                  GPU Memory |\n",
            "|        ID   ID                                                   Usage      |\n",
            "|=============================================================================|\n",
            "|  No running processes found                                                 |\n",
            "+-----------------------------------------------------------------------------+\n"
          ],
          "name": "stdout"
        }
      ]
    },
    {
      "cell_type": "code",
      "metadata": {
        "colab": {
          "base_uri": "https://localhost:8080/"
        },
        "id": "ei5AiNAUGTMV",
        "outputId": "72531015-601e-42fb-e348-7cec154cfbcd"
      },
      "source": [
        "# Load the Drive helper and mount\n",
        "from google.colab import drive\n",
        "import pickle\n",
        "# This will prompt for authorization.\n",
        "drive.mount('/content/drive')\n",
        "\n",
        "dir = '/content/drive/My Drive/scgpu/'\n",
        "!ls \"/content/drive/My Drive/scgpu/\"\n",
        "\n",
        "def save_obj(obj, name ):\n",
        "    with open(dir+'obj/'+ name + '.pkl', 'wb') as f:\n",
        "        pickle.dump(obj, f, pickle.HIGHEST_PROTOCOL)\n",
        "\n",
        "def load_obj(name ):\n",
        "    with open(name, 'rb') as f:\n",
        "        return pickle.load(f)"
      ],
      "execution_count": null,
      "outputs": [
        {
          "output_type": "stream",
          "text": [
            "Mounted at /content/drive\n",
            "'GPU doc.gsheet'\t obj1   qr.ipynb\t      results.csv\n",
            "'GPU doc - Sheet1.csv'\t obj2  'results (1).gsheet'   results.gsheet\n",
            " obj\t\t\t obj3  'results (2).gsheet'\n"
          ],
          "name": "stdout"
        }
      ]
    },
    {
      "cell_type": "code",
      "metadata": {
        "colab": {
          "base_uri": "https://localhost:8080/"
        },
        "id": "ns54ICLfteJi",
        "outputId": "ddc43bfa-9d1e-4a6c-f743-7b402d8ca637"
      },
      "source": [
        "!pip install cupy-cuda101==9.0.0b1\n",
        "!pip install line_profiler\n",
        "%load_ext line_profiler"
      ],
      "execution_count": null,
      "outputs": [
        {
          "output_type": "stream",
          "text": [
            "Collecting cupy-cuda101==9.0.0b1\n",
            "\u001b[?25l  Downloading https://files.pythonhosted.org/packages/ad/f1/b9278ae53d47b630a5a4972698755236eb5d4df45a90eee77c1a1c6f56f4/cupy_cuda101-9.0.0b1-cp36-cp36m-manylinux1_x86_64.whl (117.0MB)\n",
            "\u001b[K     |████████████████████████████████| 117.0MB 56kB/s \n",
            "\u001b[?25hRequirement already satisfied: numpy>=1.15 in /usr/local/lib/python3.6/dist-packages (from cupy-cuda101==9.0.0b1) (1.19.5)\n",
            "Requirement already satisfied: fastrlock>=0.3 in /usr/local/lib/python3.6/dist-packages (from cupy-cuda101==9.0.0b1) (0.5)\n",
            "Installing collected packages: cupy-cuda101\n",
            "  Found existing installation: cupy-cuda101 7.4.0\n",
            "    Uninstalling cupy-cuda101-7.4.0:\n",
            "      Successfully uninstalled cupy-cuda101-7.4.0\n",
            "Successfully installed cupy-cuda101-9.0.0b1\n",
            "Collecting line_profiler\n",
            "\u001b[?25l  Downloading https://files.pythonhosted.org/packages/66/eb/417ace64f45fee7a0394946f8e1f90f925420fd9b14f1f09abb5284a0ca4/line_profiler-3.1.0-cp36-cp36m-manylinux2010_x86_64.whl (63kB)\n",
            "\u001b[K     |████████████████████████████████| 71kB 8.2MB/s \n",
            "\u001b[?25hRequirement already satisfied: IPython in /usr/local/lib/python3.6/dist-packages (from line_profiler) (5.5.0)\n",
            "Requirement already satisfied: pickleshare in /usr/local/lib/python3.6/dist-packages (from IPython->line_profiler) (0.7.5)\n",
            "Requirement already satisfied: pexpect; sys_platform != \"win32\" in /usr/local/lib/python3.6/dist-packages (from IPython->line_profiler) (4.8.0)\n",
            "Requirement already satisfied: pygments in /usr/local/lib/python3.6/dist-packages (from IPython->line_profiler) (2.6.1)\n",
            "Requirement already satisfied: traitlets>=4.2 in /usr/local/lib/python3.6/dist-packages (from IPython->line_profiler) (4.3.3)\n",
            "Requirement already satisfied: decorator in /usr/local/lib/python3.6/dist-packages (from IPython->line_profiler) (4.4.2)\n",
            "Requirement already satisfied: setuptools>=18.5 in /usr/local/lib/python3.6/dist-packages (from IPython->line_profiler) (51.3.3)\n",
            "Requirement already satisfied: prompt-toolkit<2.0.0,>=1.0.4 in /usr/local/lib/python3.6/dist-packages (from IPython->line_profiler) (1.0.18)\n",
            "Requirement already satisfied: simplegeneric>0.8 in /usr/local/lib/python3.6/dist-packages (from IPython->line_profiler) (0.8.1)\n",
            "Requirement already satisfied: ptyprocess>=0.5 in /usr/local/lib/python3.6/dist-packages (from pexpect; sys_platform != \"win32\"->IPython->line_profiler) (0.7.0)\n",
            "Requirement already satisfied: ipython-genutils in /usr/local/lib/python3.6/dist-packages (from traitlets>=4.2->IPython->line_profiler) (0.2.0)\n",
            "Requirement already satisfied: six in /usr/local/lib/python3.6/dist-packages (from traitlets>=4.2->IPython->line_profiler) (1.15.0)\n",
            "Requirement already satisfied: wcwidth in /usr/local/lib/python3.6/dist-packages (from prompt-toolkit<2.0.0,>=1.0.4->IPython->line_profiler) (0.2.5)\n",
            "Installing collected packages: line-profiler\n",
            "Successfully installed line-profiler-3.1.0\n"
          ],
          "name": "stdout"
        }
      ]
    },
    {
      "cell_type": "code",
      "metadata": {
        "id": "1pnAvE2zf8ew"
      },
      "source": [
        "# %%writefile main.py\n",
        "import cupy as cp\n",
        "import numpy as np\n",
        "import matplotlib.pyplot as plt\n",
        "from numba import njit,cuda\n",
        "from numpy.linalg import inv\n",
        "from scipy.linalg import expm\n",
        "import time\n",
        "import pprint\n",
        " \n",
        "\n",
        "memory_pool = cp.cuda.MemoryPool()\n",
        "cp.cuda.set_allocator(memory_pool.malloc)\n",
        "pinned_memory_pool = cp.cuda.PinnedMemoryPool()\n",
        "cp.cuda.set_pinned_memory_allocator(pinned_memory_pool.malloc)\n",
        " \n",
        "\n",
        "def correlation(GF_up_tmp, GF_dn_tmp, sz_tmp, rho_tmp, n_up_tmp, n_dn_tmp, N_x, N_y):\n",
        "    corr_z_list = 0\n",
        "    corr_x_list = 0\n",
        "    rho_list = 0\n",
        "    N_s = N_x*N_y\n",
        "    for nx_1 in range(N_x):\n",
        "        for ny_1 in range(N_y):\n",
        "            \n",
        "            R1_0 = nx_1*N_y + ny_1 # first coordinate of the correlation function\n",
        "            R2_0 = N_y*cp.concatenate([cp.arange(nx_1+1,N_x) ,cp.arange(0,nx_1+1)]) - N_y + ny_1  # 2nd coordinate of the correlation function\n",
        "            \n",
        "            \n",
        "            # <sz(R1_0)sz(R2_0)> computation\n",
        "            szsz = sz_tmp[R1_0]*sz_tmp[R2_0] - cp.multiply(GF_up_tmp[R1_0,R2_0],GF_up_tmp[R2_0,R1_0])/4 - cp.multiply(GF_dn_tmp[R1_0,R2_0],GF_dn_tmp[R2_0,R1_0])/4\n",
        "            szsz[0] = -n_up_tmp[R1_0]*n_dn_tmp[R1_0]/2 + rho_tmp[R1_0]/2\n",
        "            \n",
        "            # <sx(R1_0)sx(R2_0)> computation\n",
        "            sxsx = -cp.multiply(GF_up_tmp[R1_0,R2_0],GF_dn_tmp[R2_0,R1_0])/2\n",
        "            sxsx[1] = n_up_tmp[R1_0]*(1-n_dn_tmp[R1_0])/2\n",
        "            \n",
        "            # <rho(R1_0)\\rho(R2_0)> computation\n",
        "            rho =  (rho_tmp[R1_0]*rho_tmp[R2_0]) - cp.multiply(GF_up_tmp[R1_0,R2_0],GF_up_tmp[R2_0,R1_0])/4 - cp.multiply(GF_dn_tmp[R1_0,R2_0],GF_dn_tmp[R2_0,R1_0])/4\n",
        "            rho[1] = n_up_tmp[R1_0]*n_dn_tmp[R1_0]/2 + rho_tmp[R1_0]/2\n",
        "\n",
        "            corr_z_list = cp.add(corr_z_list,szsz)\n",
        "            corr_x_list = cp.add(corr_x_list,sxsx)\n",
        "            rho_list = cp.add(rho_list,rho)\n",
        "    szsz_correlation = corr_z_list/N_s\n",
        "    sxsx_correlation = corr_x_list/N_s\n",
        "    rho_correlation = rho_list/N_s\n",
        "\n",
        "    return szsz_correlation,sxsx_correlation,rho_correlation\n",
        "\n",
        "        # corr_z_list = 0\n",
        "        # corr_x_list = 0\n",
        "        # rho_list = 0\n",
        "        # N_s = N_x*N_y\n",
        "        # index = cp.arange(N_s).reshape((N_x,N_y)).T\n",
        "        # for i in range(N_x):\n",
        "        #     index = cp.roll(index,-1,axis=1)\n",
        "        #     for j in range(N_y):\n",
        "        #         GF_up_shifted = cp.multiply(GF_up_tmp[index[j,0],index[j,:]], GF_up_tmp[index[j,:],index[j,0]])\n",
        "        #         GF_dn_shifted = cp.multiply(GF_dn_tmp[index[j,0],index[j,:]], GF_dn_tmp[index[j,:],index[j,0]])\n",
        "        #         szshifted = sz_tmp[index[j,:]]\n",
        "                \n",
        "        #         corr_z = szshifted[0]*szshifted - (GF_up_shifted + GF_dn_shifted)/4\n",
        "        #         corr_z[0] = -n_up_tmp[index[j,0]]*n_dn_tmp[index[j,0]]/2 + rho_tmp[index[j,0]]/2\n",
        "        #         corr_z_list = cp.add(corr_z_list,corr_z)\n",
        "\n",
        "        #         corr_x = -cp.multiply(GF_up_tmp[index[j,0],index[j,:]], GF_dn_tmp[index[j,:],index[j,0]])/2\n",
        "        #         corr_x[0] = n_up_tmp[index[j,0]]*(1 - n_dn_tmp[index[j,0]])/2 \n",
        "        #         corr_x_list = cp.add(corr_x_list,corr_x)\n",
        "\n",
        "        #         rhoshifted = rho_tmp[index[j,:]]\n",
        "        #         rho = rhoshifted[0]*rhoshifted - (GF_up_shifted + GF_dn_shifted)/4\n",
        "        #         rho[0] = n_up_tmp[index[j,0]]*n_dn_tmp[index[j,0]]/2 + rho_tmp[index[j,0]]/2\n",
        "        #         rho_list = cp.add(rho_list,rho)\n",
        "        # szsz_correlation = corr_z_list/N_s\n",
        "        # sxsx_correlation = corr_x_list/N_s\n",
        "        # rho_correlation = rho_list/N_s\n",
        "\n",
        "        # return cp.array(szsz_correlation),cp.array(sxsx_correlation),cp.array(rho_correlation)\n",
        "\n",
        "def make_hopping(n_x, n_y, periodic_x, periodic_y, tunneling):\n",
        "    hopping_matrix = np.zeros((n_y * n_x, n_y * n_x))\n",
        "    if n_y == 1:\n",
        "        periodic_y = 0\n",
        "    if n_x == 1:\n",
        "        periodic_x = 0\n",
        " \n",
        "    if n_x == 2:\n",
        "        periodic_x = 1\n",
        "    if n_y == 2:\n",
        "        periodic_y = 1\n",
        " \n",
        "    for j in range(n_x):\n",
        "        for i in range(n_y):\n",
        "            neighbour_1 = n_y * ((j + 1) % n_x) + i\n",
        "            neighbour_2 = n_y * ((j - 1) % n_x) + i\n",
        "            neighbour_3 = n_y * j + (i + 1) % n_y\n",
        "            neighbour_4 = n_y * j + (i - 1) % n_y\n",
        " \n",
        "            hopping_matrix[n_y * j + i][neighbour_1] = -1\n",
        "            hopping_matrix[n_y * j + i][neighbour_2] = -1\n",
        "            hopping_matrix[n_y * j + i][neighbour_3] = -1\n",
        "            hopping_matrix[n_y * j + i][neighbour_4] = -1\n",
        " \n",
        "            if i == 0:\n",
        "                hopping_matrix[n_y * j + i][neighbour_4] *= periodic_y\n",
        "            if i == n_y - 1:\n",
        "                hopping_matrix[n_y * j + i][neighbour_3] *= periodic_y\n",
        "            if j == 0:\n",
        "                hopping_matrix[n_y * j + i][neighbour_2] *= periodic_x\n",
        "            if j == n_x - 1:\n",
        "                hopping_matrix[n_y * j + i][neighbour_1] *= periodic_x\n",
        " \n",
        "    hopping_matrix *= tunneling\n",
        "    return hopping_matrix\n",
        "\n",
        "# @njit\n",
        "def QR(z,I):\n",
        "    Q = I\n",
        "    D = cp.diag(I)\n",
        "    T = I\n",
        " \n",
        "    for i in range(len(z)):\n",
        "        A = (z[len(z) - i - 1]).dot(Q*D)\n",
        "        Q, R = cp.linalg.qr(A)\n",
        "        D = cp.diag(R)\n",
        "        T_prime = R / D[:,None]\n",
        "        T = T_prime.dot(T)\n",
        " \n",
        "    return Q, D, T\n",
        "\n",
        " \n",
        "# @njit\n",
        "def QR_prime(z, n):\n",
        "    len_z,len_z0,_ = z.shape\n",
        "    m = len_z // n\n",
        "    if len_z % n != 0:\n",
        "        m += 1\n",
        "    z_0 = cp.empty((m,len_z0,len_z0))\n",
        "    A0 = cp.eye(len_z0)\n",
        "    A = A0\n",
        "    for i in range(len_z):\n",
        "        A = A.dot(z[i])\n",
        "        if i%n == n-1:\n",
        "            z_0[int(i/n),...] = A\n",
        "            A = A0\n",
        "    if len(z) % n != 0:\n",
        "        z_0[int(i/n),...] = A\n",
        "    # print(z_0)\n",
        "    usvh = QR(z_0,A0)\n",
        " \n",
        "    return usvh[0], usvh[1], usvh[2]\n",
        " \n",
        " \n",
        "# @njit\n",
        "def invers(Q, D, T):\n",
        "    D_p = cp.where(cp.abs(D)>1,1,D)\n",
        "    D_m = cp.where(cp.abs(D)<1,1,D)\n",
        "    A1 = cp.conj(Q.T)/D_p[:,None] + D_m[:,None]*T\n",
        "    A2 = 1/D_p\n",
        "    A3 = cp.conj(Q.T)\n",
        "    g = (cp.linalg.inv(A1)*A2).dot(A3)\n",
        "    \n",
        "    return g\n",
        " \n",
        "\n",
        "\n",
        "\n",
        "\n",
        "src = r'''\n",
        " extern \"C\"{\n",
        "__global__ void outer(double* G_upp,double* G_dnp,double* G_up,double* G_dn,int p, int N_s, double gamma1, double r_up,double gamma2, double r_dn){\n",
        "    int l = blockDim.x * blockIdx.x + threadIdx.x;\n",
        "    int j = blockDim.y * blockIdx.y + threadIdx.y;\n",
        "    double I11, I21, I12, I22;\n",
        "    \n",
        "    int id1 = j*N_s + p;\n",
        "    int id2 = p*N_s + l;\n",
        "    int id = j*N_s + l;\n",
        "    \n",
        "    I11 =  G_up[id1];\n",
        "    I12 =  G_dn[id1];\n",
        "\n",
        "    I21 = G_up[id2];\n",
        "    I22 = G_dn[id2];\n",
        "\n",
        "    I11 = - (j==p) + I11;\n",
        "    I12 = - (j==p) + I12;\n",
        "\n",
        "    I21 = gamma1/r_up * I21;\n",
        "    I22 = gamma2/r_dn * I22;\n",
        "\n",
        "    G_upp[id] = G_up[id] + I11 * I21;\n",
        "    G_dnp[id] = G_dn[id] + I12 * I22;\n",
        "\n",
        "}\n",
        "\n",
        "__global__ void copy(double* G_upp, double* G_dnp, double* G_up, double* G_dn, int N_s){\n",
        "    int l = blockDim.x * blockIdx.x + threadIdx.x;\n",
        "    int j = blockDim.y * blockIdx.y + threadIdx.y;\n",
        "    int id = j*N_s + l;\n",
        "    G_up[id] = G_upp[id];\n",
        "    G_dn[id] = G_dnp[id];\n",
        "\n",
        "}\n",
        "\n",
        "\n",
        "__global__ void update_G(double* G_upp, double* G_dnp,double* G_up, double* G_dn, double* hs,\n",
        "                         double* randomlist, int N_s, int N_t,\n",
        "                         int* sign_partition_accu, double* probability_tmp,\n",
        "                         double* gamma1_tmp, double* gamma2_tmp, int BLOCKSIZE){\n",
        "              \n",
        "        double gamma1,gamma2,P;\n",
        "        int ii ;\n",
        "        double r, r_up, r_dn;\n",
        "        int NUMGRID = N_s/BLOCKSIZE;\n",
        "        dim3 block(BLOCKSIZE,BLOCKSIZE);\n",
        "        dim3 grid(NUMGRID,NUMGRID);\n",
        "        //#pragma unroll\n",
        "        for(int i=0;i<N_s;i++)\n",
        "        {\n",
        "            if (hs[N_s*(N_t-1)+i] > 0){\n",
        "                gamma1 = gamma1_tmp[N_t-1];\n",
        "                gamma2 = gamma2_tmp[N_t-1];\n",
        "                P = probability_tmp[N_t-1];\n",
        "            }\n",
        "            else{\n",
        "                gamma1 = gamma2_tmp[N_t-1];\n",
        "                gamma2 = gamma1_tmp[N_t-1];\n",
        "                P = 1/probability_tmp[N_t-1];\n",
        "            }   \n",
        "\n",
        "            \n",
        "            ii = i * N_s + i;\n",
        "            r_up = 1 + gamma1*(1-G_up[ii]);\n",
        "            r_dn = 1 + gamma2*(1-G_dn[ii]);\n",
        "\n",
        "            r = r_up * r_dn * P;\n",
        "\n",
        "            if (abs(r)>randomlist[i]){\n",
        "                outer<<<grid,block>>>(G_upp,G_dnp,G_up,G_dn, i, N_s, gamma1, r_up, gamma2, r_dn);\n",
        "                copy<<<grid,block>>>(G_upp,G_dnp,G_up,G_dn,N_s);\n",
        "                cudaDeviceSynchronize();\n",
        "                sign_partition_accu[0] = r/abs(r) * sign_partition_accu[0];\n",
        "                hs[N_s*(N_t-1)+i] = -hs[N_s*(N_t-1)+i];\n",
        "            }\n",
        "            \n",
        "        }\n",
        "}\n",
        "}\n",
        " '''\n",
        " \n",
        "update = cp.RawModule(code=src,backend='nvcc',options=('-dc',))\n",
        "update_G = update.get_function('update_G')\n",
        " \n",
        " \n",
        "def update(G_up, G_dn, hs,sign_partition_accu,randomlist, N_s, probability_tmp, gamma1, gamma2,I):\n",
        " \n",
        "    # sign_partition_accu = cp.array([1]).astype(cp.int32)\n",
        "    for i in range(N_s):\n",
        "        # acceptance ratio\n",
        "        if hs[-1,i]>0:\n",
        "            gamma1_tmp = gamma1\n",
        "            gamma2_tmp = gamma2\n",
        "            P = probability_tmp\n",
        "        else:\n",
        "            gamma1_tmp = gamma2\n",
        "            gamma2_tmp = gamma1\n",
        "            P = 1/probability_tmp\n",
        " \n",
        "        r_1 = I + gamma1_tmp*(I-G_up[i,i])\n",
        "        r_2 = I + gamma2_tmp*(I-G_dn[i,i])\n",
        "        r = r_1 * r_2 * P\n",
        "        if cp.abs(r) > randomlist[i]:\n",
        "        # update greens \n",
        "            k_1 = -G_up[:,i][:,None]\n",
        "            k_1[i] += I\n",
        "            G_up = G_up - (gamma1_tmp / r_1) * k_1*G_up[i,:]\n",
        "            k_2 = -G_dn[:,i][:,None]\n",
        "            k_2[i] += I\n",
        "            G_dn = G_dn - (gamma2_tmp / r_2) * k_2*G_dn[i,:]\n",
        "            sign_partition_accu = cp.sign(r) *sign_partition_accu\n",
        "            hs[-1,i] = -hs[-1,i]\n",
        " \n",
        "    return G_up, G_dn, hs, sign_partition_accu\n",
        "\n",
        "\n",
        " \n",
        "src = r'''\n",
        " extern \"C\"{\n",
        " \n",
        " __global__ void calc_B (double* B_inv,double* B, double* hu, double* Bk_inv, double* Bk, const int N_s,int signU){\n",
        "    int l = blockDim.x * blockIdx.x + threadIdx.x;\n",
        "    int j = blockDim.y * blockIdx.y + threadIdx.y;\n",
        "    #pragma unroll\n",
        "    for(int li = l; li<N_s; li += gridDim.x * blockDim.x){\n",
        "            for(int ji = j; ji<2*N_s; ji += gridDim.y * blockDim.y){\n",
        "                B_inv[li*2*N_s + ji] = exp(-hu[li]) * Bk_inv[li*2*N_s + ji];\n",
        "                B_inv[(li+N_s)*2*N_s + ji] = exp(signU*hu[li]) * Bk_inv[(li+N_s)*2*N_s + ji];\n",
        "            }\n",
        "    }\n",
        "    #pragma unroll\n",
        "    for(int li = l; li<2*N_s; li += gridDim.x * blockDim.x){\n",
        "            for(int ji = j; ji<N_s; ji += gridDim.y * blockDim.y){    \n",
        "                B[li*2*N_s + ji] = exp(hu[ji]) * Bk[li*2*N_s + ji];\n",
        "                B[li*2*N_s + ji + N_s] = exp(-signU*hu[ji]) * Bk[li*2*N_s + ji + N_s];\n",
        "            }\n",
        "    }\n",
        "     \n",
        " }\n",
        "////////////////////////////////////////////////////////////////////////////////\n",
        " \n",
        "const int N = 1 << 10;\n",
        "const int SHMEM_SIZE = 1 << 10;\n",
        " \n",
        "__global__ void matrixMul(const float *a, const float *b, float *c) {\n",
        "  // Compute each thread's global row and column index\n",
        "  int row = blockIdx.y * blockDim.y + threadIdx.y;\n",
        "  int col = blockIdx.x * blockDim.x + threadIdx.x;\n",
        " \n",
        "  // Statically allocated shared memory\n",
        "  __shared__ int s_a[SHMEM_SIZE];\n",
        "  __shared__ int s_b[SHMEM_SIZE];\n",
        " \n",
        "  // Accumulate in temporary variable\n",
        "  int tmp = 0;\n",
        " \n",
        "  // Sweep tile across matrix\n",
        "  #pragma unroll\n",
        "  for (int i = 0; i < N; i += blockDim.x) {\n",
        "    // Load in elements for this tile\n",
        "    s_a[threadIdx.y * blockDim.x + threadIdx.x] = a[row * N + i + threadIdx.x];\n",
        "    s_b[threadIdx.y * blockDim.x + threadIdx.x] =\n",
        "        b[i * N + threadIdx.y * N + col];\n",
        " \n",
        "    // Wait for both tiles to be loaded in before doing computation\n",
        "    __syncthreads();\n",
        " \n",
        "    // Do matrix multiplication on the small matrix\n",
        "    for (int j = 0; j < blockDim.x; j++) {\n",
        "      tmp +=\n",
        "          s_a[threadIdx.y * blockDim.x + j] * s_b[j * blockDim.x + threadIdx.x];\n",
        "    }\n",
        " \n",
        "    // Wait for all threads to finish using current tiles before loading in new\n",
        "    // ones\n",
        "    __syncthreads();\n",
        "  }\n",
        " \n",
        "  // Write back results\n",
        "  c[row * N + col] = tmp;\n",
        "}\n",
        " \n",
        " \n",
        "////////////////////////////////////////////////////////////////////////////////\n",
        " \n",
        " \n",
        " \n",
        " \n",
        "/*\n",
        " __global__ void time_wrap(double* B_inv,double* B, double* hu, double* Bk, const int N_s, int* signU) \n",
        " {  \n",
        "    calc_B(B_inv, B, hu, Bk, N_s, signU);\n",
        " }*/\n",
        " }\n",
        " '''\n",
        " \n",
        " \n",
        " \n",
        "time_wrap_module = cp.RawModule(code=src)\n",
        "calc_B = time_wrap_module.get_function('calc_B')\n",
        "# matmul_kernel = time_wrap_module.get_function('matrixMul')\n",
        " \n",
        " \n",
        "def time_wrap_partial_kernel(B,B_inv, G, Bk, Bk_inv, h, cl, sign_U_interact,probability, gamma1, gamma2,N_s):\n",
        "    calc_B((8,8),(16,16),(B_inv,B,h[-1],Bk_inv[-1],Bk[-1],N_s,int(sign_U_interact[-1])))\n",
        "    G = B.dot(G).dot(B_inv)\n",
        "    cl[-1]= B\n",
        " \n",
        "    h = cp.roll(h,1,axis = 0)\n",
        "    Bk = cp.roll(Bk,1,axis = 0)\n",
        "    Bk_inv = cp.roll(Bk_inv,1,axis = 0)\n",
        "    cl = cp.roll(cl,1,axis = 0)\n",
        "    probability = cp.roll(probability,1,axis = 0)\n",
        "    gamma1 = cp.roll(gamma1,1,axis = 0)\n",
        "    gamma2 = cp.roll(gamma2,1,axis = 0)\n",
        "    sign_U_interact = cp.roll(sign_U_interact,1,axis = 0)\n",
        "    return G, Bk, Bk_inv, h, cl, sign_U_interact, probability, gamma1, gamma2\n",
        " \n",
        " \n",
        " \n",
        "def time_wrap(G_up, G_dn, Bk, Bk_inv, h, cl_up, cl_dn, sign_U_interact,probability, gamma1, gamma2):\n",
        "    B_up_inv = cp.diag(cp.exp(-h[-1,:])).dot(Bk_inv[-1])\n",
        "    B_up = Bk[-1].dot(cp.diag(cp.exp(h[-1,:])))\n",
        "    G_up = B_up.dot(G_up).dot(B_up_inv)\n",
        "    cl_up[-1]= B_up\n",
        "\n",
        "    B_dn_inv = cp.diag(cp.exp(sign_U_interact[-1]*h[-1,:])).dot(Bk_inv[-1])\n",
        "    B_dn = Bk[-1].dot(cp.diag(cp.exp(-sign_U_interact[-1]*h[-1,:])))\n",
        "    G_dn = B_dn.dot(G_dn).dot(B_dn_inv)\n",
        "    cl_dn[-1]= B_dn\n",
        " \n",
        "    h = cp.roll(h,1,axis = 0)\n",
        "    Bk = cp.roll(Bk,1,axis = 0)\n",
        "    Bk_inv = cp.roll(Bk_inv,1,axis = 0)\n",
        "    cl_up = cp.roll(cl_up,1,axis = 0)\n",
        "    cl_dn = cp.roll(cl_dn,1,axis = 0)\n",
        "    probability = cp.roll(probability,1,axis = 0)\n",
        "    gamma1 = cp.roll(gamma1,1,axis = 0)\n",
        "    gamma2 = cp.roll(gamma2,1,axis = 0)\n",
        "    sign_U_interact = cp.roll(sign_U_interact,1,axis = 0)\n",
        "    return G_up, G_dn, Bk, Bk_inv, h, cl_up, cl_dn, sign_U_interact,probability, gamma1, gamma2\n",
        "\n",
        "def cluster(h,Bk,sign_U_interact):\n",
        "    cl_up = cp.empty((h.shape[0],h.shape[1],h.shape[1]))\n",
        "    cl_dn = cp.empty((h.shape[0],h.shape[1],h.shape[1]))\n",
        "    for i in range(h.shape[0]):\n",
        "        cl_up[i] = Bk[i].dot(cp.diag(cp.exp(h[i,:])))\n",
        "        cl_dn[i] = Bk[i].dot(cp.diag(-sign_U_interact[i]*h[i,:]))\n",
        "    return cl_up,cl_dn\n",
        " \n",
        "def init_trotter(Beta,N_time,U_eff,H0):\n",
        "    T_hop = np.concatenate(([1/2], np.ones(N_time-1), [1/2])) * (Beta / N_time)\n",
        "    U_interact = U_eff * np.ones(N_time+1)\n",
        "    sign_U_interact = np.array(np.sign(U_interact))\n",
        "    T_u = np.concatenate(([1], np.ones(N_time - 1), [0])) * (Beta / N_time)\n",
        "    H0_array = np.array([H0 for i in range(N_time+1)])\n",
        "    lamda = np.arccosh(np.exp(np.abs(U_interact)*T_u/2))\n",
        "    probability = cp.array(np.exp(-(1 - np.sign(U_interact)) * lamda))\n",
        "    gamma1 = cp.array(np.exp(-2*lamda)-1)\n",
        "    gamma2 = cp.array(np.exp( 2*lamda*sign_U_interact)-1)\n",
        "    return cp.array(sign_U_interact), T_hop, H0_array, cp.array(lamda), probability, gamma1, gamma2\n",
        " \n",
        "def expmk(H0_array, T_hop): #cpu\n",
        "    Bk = []\n",
        "    Bk_inv = []\n",
        "    for i in range(len(T_hop)):\n",
        "        Bk.append(expm(-H0_array[i]*T_hop[i]))\n",
        "        Bk_inv.append(expm(H0_array[i]*T_hop[i]))\n",
        "    Bk = cp.array(Bk)\n",
        "    Bk_inv = cp.array(Bk_inv)\n",
        "    return Bk, Bk_inv\n",
        " \n",
        " \n",
        "def from_scratch(cl,n_qr):\n",
        "    Q,D,T = QR_prime(cl, n_qr)\n",
        "    G = invers(Q, D, T)\n",
        "    return G\n",
        " \n",
        "def given_hs(hs, alpha, alpha_p):\n",
        "    \n",
        "\n",
        "    H_0 = make_hopping(X_dimension, Y_dimension, periodic_X, periodic_Y, tunneling)\n",
        "    H_0_msr = H_0.copy()\n",
        "    H_0 += np.identity(X_dimension * Y_dimension) * ((-1) * chemical_potential)\n",
        "\n",
        "    sign_U_interact, T_hop, H0_array, lamda, probability, gamma1, gamma2 = init_trotter(Beta,N_time,U_eff,H_0)\n",
        "\n",
        "    Bk, _ = expmk(H0_array, T_hop)\n",
        "    cl_up, cl_dn = cluster(hs,Bk,sign_U_interact)\n",
        "    G_up = from_scratch(cl_up,n_qr)\n",
        "    G_dn = from_scratch(cl_dn,n_qr)\n",
        "    sign_up, logdet_up = cp.linalg.slogdet(G_up)\n",
        "    sign_dn, logdet_dn = cp.linalg.slogdet(G_dn)\n",
        "    logdet = logdet_up + logdet_dn\n",
        "\n",
        "    filling = cp.trace(G_up+G_dn)\n",
        "\n",
        "# class params:\n",
        "#     __init__(self, )\n",
        "\n",
        "\n",
        "def main(params):\n",
        " \n",
        " \n",
        "    # Set model.\n",
        "    X_dimension = params[\"X_dimension\"]\n",
        "    Y_dimension = params[\"Y_dimension\"]\n",
        "    N_s = X_dimension * Y_dimension \n",
        "\n",
        "    periodic_X = params[\"periodic_X\"]\n",
        "    periodic_Y = params[\"periodic_Y\"]\n",
        "    tunneling = params[\"tunneling\"]\n",
        "    U = params[\"U\"]\n",
        "    chemical_potential = params[\"chemical_potential\"] # half filling 0\n",
        "    N_markov = params[\"N_markov\"]\n",
        "    N_sw_measure = params[\"N_sw_measure\"]\n",
        "    N_warm_up = N_sw_measure // 5\n",
        "    N_from_scratch = params[\"N_from_scratch\"]\n",
        "    N_qr = params[\"N_qr\"]  \n",
        " \n",
        "    # Set generalized trotter\n",
        "    Beta = params[\"Beta\"]\n",
        "    N_time = params[\"N_time\"]\n",
        "    U_eff =  U\n",
        " \n",
        "    if N_s<32:\n",
        "        BLOCKSIZE = N_s\n",
        "    else:\n",
        "        BLOCKSIZE = 32\n",
        "    # making tunneling Hamiltonian matrix\n",
        "    H_0 = make_hopping(X_dimension, Y_dimension, periodic_X, periodic_Y, tunneling)\n",
        "    H_0_msr = H_0.copy()\n",
        "    H_0 += np.identity(X_dimension * Y_dimension) * ((-1) * chemical_potential)\n",
        " \n",
        "   \n",
        "    I = cp.array(1)\n",
        "    sign_U_interact, T_hop, H0_array, lamda, probability, gamma1, gamma2 = init_trotter(Beta,N_time,U_eff,H_0)\n",
        "    Bk, Bk_inv = expmk(H0_array, T_hop)\n",
        "    \n",
        "\n",
        "    N_time+=1\n",
        "\n",
        "    sign_U_interact_m = cp.empty((N_markov,N_time))\n",
        "    hs_m = cp.empty((N_markov,N_time,N_s))\n",
        "    cl_up_m = cp.empty((N_markov,N_time,N_s,N_s))\n",
        "    cl_dn_m = cp.empty((N_markov,N_time,N_s,N_s))\n",
        "    G_up_m = cp.empty((N_markov,N_s,N_s))\n",
        "    G_dn_m = cp.empty((N_markov,N_s,N_s))\n",
        "    Bk_m = cp.empty((N_markov,N_time,N_s,N_s))\n",
        "    Bk_inv_m = cp.empty((N_markov,N_time,N_s,N_s))\n",
        "    probability_m = cp.empty((N_markov,N_time))\n",
        "    gamma1_m = cp.empty((N_markov,N_time))\n",
        "    gamma2_m = cp.empty((N_markov,N_time))\n",
        "\n",
        "\n",
        "    map_streams = []\n",
        "    mark_list = []\n",
        "    for i in range(N_markov):\n",
        "        mark_list.append(i)\n",
        "        map_streams.append(cp.cuda.stream.Stream())\n",
        "        sign_U_interact_m[i] = sign_U_interact\n",
        "        hs_m[i] = lamda[:,None]*((-1)**cp.random.randint(2,size=(N_time,N_s)))\n",
        "        cl_up_m[i],cl_dn_m[i] = cluster(hs_m[i],Bk_m[i],sign_U_interact_m[i])\n",
        "        G_up_m[i] = from_scratch(cl_up_m[i],N_qr)\n",
        "        G_dn_m[i] = from_scratch(cl_dn_m[i],N_qr)\n",
        "        Bk_m[i] = Bk.copy()\n",
        "        Bk_inv_m[i] = Bk_inv.copy()\n",
        "        probability_m[i] = probability.copy()\n",
        "        gamma1_m[i] = gamma1.copy()\n",
        "        gamma2_m[i] = gamma2.copy()\n",
        "\n",
        "    check = cp.zeros((N_sw_measure+N_warm_up,N_time,N_markov))\n",
        "    n_up_dn = cp.zeros(N_markov)\n",
        "    interaction_mar = cp.zeros(N_markov)\n",
        "    sign_mar = cp.zeros(N_markov)\n",
        "    N_measure = cp.zeros(N_markov)\n",
        "    G_up_mar = cp.zeros((N_markov,N_s,N_s))\n",
        "    G_dn_mar = cp.zeros((N_markov,N_s,N_s))\n",
        "    szsz_mar = cp.zeros((N_markov,X_dimension))\n",
        "    sxsx_mar = cp.zeros((N_markov,X_dimension))\n",
        "    rho_mar = cp.zeros((N_markov,X_dimension))\n",
        "    strt = time.time()\n",
        "    sign_partition_accu = cp.array([cp.linalg.slogdet(G_up_m[i]+G_dn_m[i])[0] for i in range(N_markov)],dtype=cp.int32)[:,None]\n",
        "    for msr in range(N_sw_measure+N_warm_up):\n",
        "        for l in range(N_time):\n",
        "            for i,stream in zip(mark_list,map_streams):\n",
        "                with stream:\n",
        "                # for i in range(N_markov):\n",
        "               \n",
        "                    randomlist = cp.random.random(size=(N_s))\n",
        "                    # sign_partition_accu = cp.array([1]).astype(cp.int32)\n",
        "                    # G_up_m[i], G_dn_m[i], hs_m[i], sign_partition_accu[i] = update(G_up_m[i], G_dn_m[i], hs_m[i],sign_partition_accu[i],randomlist, N_s, probability_m[i,-1], gamma1_m[i,-1], gamma2_m[i,-1],I)\n",
        "\n",
        "                    update_G((1,),(1,),(cp.eye(N_s),cp.eye(N_s),G_up_m[i],  G_dn_m[i], hs_m[i], randomlist, N_s, N_time, sign_partition_accu[i], probability_m[i], gamma1_m[i], gamma2_m[i],BLOCKSIZE))\n",
        "                    # cl_upp_m,cl_dnp_m = cluster(hs_m[i].copy(),Bk_m[i].copy(),sign_U_interact_m[i].copy())\n",
        "                    # G_upp_m = from_scratch(cl_upp_m.copy(),N_qr)\n",
        "                    # G_dnp_m = from_scratch(cl_dnp_m.copy(),N_qr)\n",
        "                    # cp.cuda.Stream.null.synchronize()\n",
        "                    # check[msr,l,i] = cp.sum(cp.abs(G_upp_m-G_up_m[i]))\n",
        "                    # print(cp.sum(cp.abs(G_upp_m-G_up_m[i])))\n",
        "                    # print(G_up_m[i])\n",
        "                    # cp.cuda.Stream.null.synchronize()\n",
        "                    G_up_m[i], G_dn_m[i], Bk_m[i], Bk_inv_m[i], hs_m[i], cl_up_m[i], cl_dn_m[i], sign_U_interact_m[i],probability_m[i], gamma1_m[i], gamma2_m[i] = time_wrap(G_up_m[i], G_dn_m[i], Bk_m[i], Bk_inv_m[i], hs_m[i], cl_up_m[i], cl_dn_m[i], sign_U_interact_m[i],probability_m[i], gamma1_m[i], gamma2_m[i])\n",
        "                    if l%N_from_scratch == 0:\n",
        "                        G_up_m[i] = from_scratch(cl_up_m[i],N_qr)\n",
        "                        G_dn_m[i] = from_scratch(cl_dn_m[i],N_qr)\n",
        "                    if msr >= N_warm_up and l==N_time-1:\n",
        "                        G_up_mar[i] += (G_up_m[i])*sign_partition_accu[i,0]\n",
        "                        G_dn_mar[i] += (G_dn_m[i])*sign_partition_accu[i,0]\n",
        "                        n_up_tmp = 1 - cp.diag(G_up_m[i])\n",
        "                        n_dn_tmp = 1 - cp.diag(G_dn_m[i])\n",
        "                        sz_tmp = (n_up_tmp-n_dn_tmp)/2\n",
        "                        rho_tmp = (n_up_tmp+n_dn_tmp)/2\n",
        "                        interaction_mar[i] +=  cp.sum(n_up_tmp * n_dn_tmp * U)*sign_partition_accu[i,0]\n",
        "                        szsz,sxsx,rho = correlation(G_up_m[i], G_dn_m[i], sz_tmp, rho_tmp, n_up_tmp, n_dn_tmp, X_dimension, Y_dimension)\n",
        "                        szsz_mar[i] += szsz*sign_partition_accu[i,0]\n",
        "                        sxsx_mar[i] += sxsx*sign_partition_accu[i,0]\n",
        "                        rho_mar[i] += rho*sign_partition_accu[i,0]\n",
        "                        sign_mar[i] += sign_partition_accu[i,0]\n",
        "                        N_measure[i] += 1\n",
        "    cp.cuda.Stream.null.synchronize()\n",
        "    end = time.time()\n",
        "\n",
        "    # print(end-strt)\n",
        "\n",
        "    N_msr = cp.mean(N_measure,axis=0)\n",
        "    sign_msr = sign_mar/N_msr\n",
        "\n",
        "\n",
        "    G_up_msr = cp.array([G_up_mar[i]/(N_msr*sign_msr[i]) for i in range(N_markov)])\n",
        "    G_dn_msr = cp.array([G_dn_mar[i]/(N_msr*sign_msr[i]) for i in range(N_markov)])\n",
        "    interaction_msr = cp.array([interaction_mar[i]/(N_msr*sign_msr[i]) for i in range(N_markov)])\n",
        "\n",
        "    G_msr = G_up_msr+G_dn_msr\n",
        "        \n",
        "    kin = cp.array([cp.trace(cp.array(H_0_msr).dot(cp.eye(N_s)-G_msr[i]))/N_s for i in range(N_markov)])\n",
        "    intr = cp.array([interaction_msr[i]/N_s for i in range(N_markov)])\n",
        "    filling = np.trace(2*cp.eye(N_s) - cp.mean(G_msr,axis=0))/N_s\n",
        "    mean_onsite_corr = cp.mean(cp.array([interaction_mar[i]/(U*cp.mean(1-cp.diag(G_up_mar[i])*cp.mean(1-cp.diag(G_dn_mar[i])))) for i in range(N_markov)]),axis=0)\n",
        "    totenrgy = kin + intr\n",
        "    err = 100*cp.std(totenrgy,axis=0)/cp.abs(cp.mean(totenrgy,axis=0))\n",
        "    energy_mean = cp.mean(totenrgy,axis=0)\n",
        "\n",
        "    \n",
        "\n",
        "\n",
        "    \n",
        "    szsz_msr = cp.array([szsz_mar[i,:]/(N_msr*sign_msr[i]) for i in range(N_markov)])\n",
        "    sxsx_msr = cp.array([sxsx_mar[i,:]/(N_msr*sign_msr[i]) for i in range(N_markov)])\n",
        "    rho_msr = cp.array([rho_mar[i,:]/(N_msr*sign_msr[i]) for i in range(N_markov)])\n",
        "    \n",
        "    sign_msr = cp.mean(cp.abs(sign_msr),axis=0)\n",
        "\n",
        "    measures = {\"elpsd_time\":end-strt,\n",
        "                \"kinetic_energy_mean\":cp.mean(kin),\n",
        "                \"interaction_energy_mean\":cp.mean(intr),\n",
        "                \"n_mean\":filling,\n",
        "                \"mean_onsite_corr\":mean_onsite_corr,\n",
        "                \"energy_mean\":energy_mean,\n",
        "                \"err_bar\":err,\n",
        "                \"sign_mean\":sign_msr,\n",
        "                \"markov_data\":{\n",
        "                    \"G_up_mar\":G_up_mar,\n",
        "                    \"G_dn_mar\":G_dn_mar,\n",
        "                    \"N_msr\":N_msr,\n",
        "                    \"sign_mar\":sign_mar,\n",
        "                    \"interaction_mar\":interaction_mar,\n",
        "                    \"correlations\":{\n",
        "                        \"szsz_mar\":szsz_mar,\n",
        "                        \"sxsx_mar\":sxsx_mar,\n",
        "                        \"rho_mar\":rho_mar\n",
        "                    }\n",
        "                            },\n",
        "                \"model_params\":{\n",
        "                    \"N_sw_measure\" : N_sw_measure,\n",
        "                    \"N_warm_up\" : N_sw_measure // 5,\n",
        "                    \"N_from_scratch\" : N_from_scratch,\n",
        "                    \"N_qr\" : N_qr,\n",
        "                    \"N_markov\" : N_markov,\n",
        "                    \"chemical_potential\" : chemical_potential,\n",
        "                    \"U\" : U,\n",
        "                    \"tunneling\" : tunneling,\n",
        "                    \"periodic_Y\" : periodic_Y,\n",
        "                    \"periodic_X\" : periodic_X,\n",
        "                    \"X_dimension\" : X_dimension,\n",
        "                    \"Y_dimension\" : Y_dimension,\n",
        "                    \"N_s\" : X_dimension * Y_dimension,\n",
        "                    \"N_time\" : N_time,\n",
        "                    \"Beta\" : Beta,                    \n",
        "                }\n",
        "                }\n",
        "                    \n",
        "    \n",
        "    \n",
        "    # pp = pprint.PrettyPrinter(depth=1)\n",
        "    # pp.pprint(measures)\n",
        "\n",
        "    print(\" time: {}s\\n kinetic_energy_mean: {}\\n interaction_energy_mean: {}\\n n_mean: {}\\n mean_onsite_corr: {}\\n energy_mean: {}\\n err_bar: {}\\n sign_mean: {}\".format(end-strt,cp.mean(kin),cp.mean(intr),filling,mean_onsite_corr,energy_mean,err,sign_msr))\n",
        "    plt.plot(cp.asnumpy(szsz_msr[0]))\n",
        "    # print(\"kinetic_energy_mean interaction_energy_mean n_mean mean_onsite_corr energy_mean err_bar sign_mean\")\n",
        "    # print(cp.mean(kin),cp.mean(intr),filling,mean_onsite_corr,energy_mean,err,sign_msr)\n",
        "    return measures"
      ],
      "execution_count": null,
      "outputs": []
    },
    {
      "cell_type": "code",
      "metadata": {
        "colab": {
          "base_uri": "https://localhost:8080/",
          "height": 412
        },
        "id": "3TwsuX_skHzh",
        "outputId": "190fc9ba-9006-43f5-ed34-8414af0bf76e"
      },
      "source": [
        "params = {\n",
        "\"N_sw_measure\" : 10,\n",
        "\"N_warm_up\" : 10 // 5,\n",
        "\"N_from_scratch\" : 10,\n",
        "\"N_qr\" : 10,\n",
        "\"N_markov\" : 2,\n",
        "\"chemical_potential\" : 0,\n",
        "\"U\" : 4,\n",
        "\"tunneling\" : 1,\n",
        "\"periodic_Y\" : 1,\n",
        "\"periodic_X\" : 1,\n",
        "\"X_dimension\" : 16,\n",
        "\"Y_dimension\" : 8,\n",
        "\"N_s\" : 16*8,\n",
        "\"N_time\" : 100,\n",
        "\"Beta\" : 4,                    \n",
        "}\n",
        "data = main(params)"
      ],
      "execution_count": null,
      "outputs": [
        {
          "output_type": "stream",
          "text": [
            " time: 30.35423517227173s\n",
            " kinetic_energy_mean: -1.3573757391000787\n",
            " interaction_energy_mean: 0.5622943331401429\n",
            " n_mean: 0.9999999999999967\n",
            " mean_onsite_corr: 8.573995115306017\n",
            " energy_mean: -0.7950814059599358\n",
            " err_bar: 0.5738138208839566\n",
            " sign_mean: 1.0\n"
          ],
          "name": "stdout"
        },
        {
          "output_type": "display_data",
          "data": {
            "image/png": "[encoded data removed]",
            "text/plain": [
              "<Figure size 432x288 with 1 Axes>"
            ]
          },
          "metadata": {
            "tags": [],
            "needs_background": "light"
          }
        }
      ]
    },
    {
      "cell_type": "code",
      "metadata": {
        "colab": {
          "base_uri": "https://localhost:8080/"
        },
        "id": "ccvUv1m5DKfu",
        "outputId": "9330bb3d-f92f-4bb2-efe9-c0a6f0773695"
      },
      "source": [
        "data[\"markov_data\"][\"correlations\"][\"szsz_mar\"][0]"
      ],
      "execution_count": null,
      "outputs": [
        {
          "output_type": "execute_result",
          "data": {
            "text/plain": [
              "array([ 1.83623826, -0.40347365,  0.00765147, -0.00655064, -0.04591316,\n",
              "        0.04891022, -0.00310778,  0.02715689,  0.03587883,  0.02715689,\n",
              "       -0.00310778,  0.04891022, -0.04591316, -0.00655064,  0.00765147,\n",
              "       -0.40347365])"
            ]
          },
          "metadata": {
            "tags": []
          },
          "execution_count": 62
        }
      ]
    },
    {
      "cell_type": "code",
      "metadata": {
        "colab": {
          "base_uri": "https://localhost:8080/"
        },
        "id": "s1o1TbIF-6_M",
        "outputId": "ebc3ddb1-67a9-4198-8bc3-0ac09d6fa45a"
      },
      "source": [
        "import pandas as pd\n",
        "datalist = pd.read_csv(dir+\"GPU doc - Sheet1.csv\")\n",
        "N_sw_measure = list(datalist['N_measurment'])\n",
        "N_qr = list(datalist['N_qr'])\n",
        "N_markov = list(datalist['N_markov'])\n",
        "mu = list(datalist['mu'])\n",
        "U = list(datalist['U'])\n",
        "Beta = list(datalist['beta '])\n",
        "N_x = list(datalist['N_x'])\n",
        "N_y = list(datalist['N_y'])\n",
        "N_time = list(datalist['N_time'])\n",
        "\n",
        "for i in range(datalist.count()[0]):\n",
        "\n",
        "    params = {\n",
        "    \"N_sw_measure\" : N_sw_measure[i],\n",
        "    \"N_warm_up\" : N_sw_measure[i] // 5,\n",
        "    \"N_from_scratch\" : N_qr[i],\n",
        "    \"N_qr\" : N_qr[i],\n",
        "    \"N_markov\" : N_markov[i],\n",
        "    \"chemical_potential\" : mu[i],\n",
        "    \"U\" : U[i],\n",
        "    \"tunneling\" : 1,\n",
        "    \"periodic_Y\" : 1,\n",
        "    \"periodic_X\" : 1,\n",
        "    \"X_dimension\" : N_x[i],\n",
        "    \"Y_dimension\" : N_y[i],\n",
        "    \"N_s\" : N_x[i]*N_y[i],\n",
        "    \"N_time\" : N_time[i],\n",
        "    \"Beta\" : Beta[i],                    \n",
        "    }\n",
        "    name = \"N_x:{} N_y:{} Beta:{} mu:{} N_time:{} U:{} N_sw_measure:{} N_qr:{} N_markov:{}\".format(N_x[i],N_y[i],Beta[i],mu[i],N_time[i],U[i],N_sw_measure[i],N_qr[i],N_markov[i])\n",
        "    data = main(params)\n",
        "    save_obj(data, name)\n",
        "    print(name)"
      ],
      "execution_count": null,
      "outputs": [
        {
          "output_type": "stream",
          "text": [
            " time: 346.6905691623688s\n",
            " kinetic_energy_mean: -1.385682269313956\n",
            " interaction_energy_mean: 0.20395221632096838\n",
            " n_mean: 0.6549744803695007\n",
            " mean_onsite_corr: 0.0018359537757224147\n",
            " energy_mean: -1.1817300529929877\n",
            " err_bar: 0.4179658347230077\n",
            " sign_mean: 0.984\n",
            "N_x:4 N_y:4 Beta:4 mu:-1.8 N_time:40 U:4 N_sw_measure:1000 N_qr:10 N_markov:4\n",
            " time: 346.0346360206604s\n",
            " kinetic_energy_mean: -1.3104876549879219\n",
            " interaction_energy_mean: 0.50893532483517\n",
            " n_mean: 1.0\n",
            " mean_onsite_corr: 0.00403579785714208\n",
            " energy_mean: -0.801552330152752\n",
            " err_bar: 0.6552288771186909\n",
            " sign_mean: 1.0\n",
            "N_x:4 N_y:4 Beta:4 mu:0.0 N_time:40 U:4 N_sw_measure:1000 N_qr:10 N_markov:4\n",
            " time: 1376.024540424347s\n",
            " kinetic_energy_mean: -1.314749631403091\n",
            " interaction_energy_mean: 0.5089337637075871\n",
            " n_mean: 1.0\n",
            " mean_onsite_corr: 0.008159726566224572\n",
            " energy_mean: -0.8058158676955038\n",
            " err_bar: 0.6958279761185783\n",
            " sign_mean: 1.0\n",
            "N_x:4 N_y:4 Beta:4 mu:0.0 N_time:40 U:4 N_sw_measure:1000 N_qr:10 N_markov:16\n",
            " time: 174.32113409042358s\n",
            " kinetic_energy_mean: -1.376267614745295\n",
            " interaction_energy_mean: 0.22845558674471309\n",
            " n_mean: 0.6941994364569373\n",
            " mean_onsite_corr: 0.008741631218381847\n",
            " energy_mean: -1.1478120280005817\n",
            " err_bar: 0.6446409451410002\n",
            " sign_mean: 0.984\n",
            "N_x:8 N_y:4 Beta:4 mu:-1.8 N_time:40 U:4 N_sw_measure:500 N_qr:10 N_markov:4\n",
            " time: 173.19173908233643s\n",
            " kinetic_energy_mean: -1.3722213221278108\n",
            " interaction_energy_mean: 0.5501157010899651\n",
            " n_mean: 0.9999999999999999\n",
            " mean_onsite_corr: 0.03535094707586861\n",
            " energy_mean: -0.8221056210378459\n",
            " err_bar: 0.5660857588833289\n",
            " sign_mean: 1.0\n",
            "N_x:8 N_y:4 Beta:4 mu:0.0 N_time:40 U:4 N_sw_measure:500 N_qr:10 N_markov:4\n",
            " time: 47.55960464477539s\n",
            " kinetic_energy_mean: -1.3708819262130287\n",
            " interaction_energy_mean: 0.2187020136173537\n",
            " n_mean: 0.6814033262173019\n",
            " mean_onsite_corr: 0.08213905769482988\n",
            " energy_mean: -1.1521799125956749\n",
            " err_bar: 0.5574700084764512\n",
            " sign_mean: 0.995\n",
            "N_x:8 N_y:8 Beta:4 mu:-1.8 N_time:40 U:4 N_sw_measure:100 N_qr:10 N_markov:4\n",
            " time: 46.9917209148407s\n",
            " kinetic_energy_mean: -1.346975609989323\n",
            " interaction_energy_mean: 0.5403620327414669\n",
            " n_mean: 1.0\n",
            " mean_onsite_corr: 0.006347024104478488\n",
            " energy_mean: -0.8066135772478562\n",
            " err_bar: 1.1779367747071008\n",
            " sign_mean: 1.0\n",
            "N_x:8 N_y:8 Beta:4 mu:0.0 N_time:40 U:4 N_sw_measure:100 N_qr:10 N_markov:4\n",
            " time: 38.38382601737976s\n",
            " kinetic_energy_mean: -1.3570960847845563\n",
            " interaction_energy_mean: 0.21780544520229428\n",
            " n_mean: 0.6808830326151948\n",
            " mean_onsite_corr: 0.33367461783967\n",
            " energy_mean: -1.139290639582262\n",
            " err_bar: 0.6175878466984593\n",
            " sign_mean: 0.99\n",
            "N_x:16 N_y:8 Beta:4 mu:-1.8 N_time:40 U:4 N_sw_measure:50 N_qr:10 N_markov:4\n",
            " time: 37.68040108680725s\n",
            " kinetic_energy_mean: -1.345070812603142\n",
            " interaction_energy_mean: 0.547236368707809\n",
            " n_mean: 0.9999999999999954\n",
            " mean_onsite_corr: 0.04935540386406645\n",
            " energy_mean: -0.7978344438953331\n",
            " err_bar: 0.4220846683112129\n",
            " sign_mean: 1.0\n",
            "N_x:16 N_y:8 Beta:4 mu:0.0 N_time:40 U:4 N_sw_measure:50 N_qr:10 N_markov:4\n",
            " time: 21.456183195114136s\n",
            " kinetic_energy_mean: -1.356428547329883\n",
            " interaction_energy_mean: 0.21709200652336236\n",
            " n_mean: 0.6817699841698857\n",
            " mean_onsite_corr: 1.8224028943013497\n",
            " energy_mean: -1.1393365408065206\n",
            " err_bar: 0.9309119455549756\n",
            " sign_mean: 0.95\n",
            "N_x:16 N_y:16 Beta:4 mu:-1.8 N_time:40 U:4 N_sw_measure:20 N_qr:10 N_markov:4\n",
            " time: 20.479002237319946s\n",
            " kinetic_energy_mean: -1.3438463786014943\n",
            " interaction_energy_mean: 0.5446158875112366\n",
            " n_mean: 1.0000000000000016\n",
            " mean_onsite_corr: 4.159966588954294\n",
            " energy_mean: -0.7992304910902577\n",
            " err_bar: 0.9819290194228644\n",
            " sign_mean: 1.0\n",
            "N_x:16 N_y:16 Beta:4 mu:0.0 N_time:40 U:4 N_sw_measure:20 N_qr:10 N_markov:4\n",
            " time: 50.70665407180786s\n",
            " kinetic_energy_mean: -1.3618055772023556\n",
            " interaction_energy_mean: 0.49846766451382274\n",
            " n_mean: 1.0000000000029914\n",
            " mean_onsite_corr: 7.018436301155436\n",
            " energy_mean: -0.863337912688533\n",
            " err_bar: 2.99956688298227\n",
            " sign_mean: 1.0\n",
            "N_x:16 N_y:16 Beta:10 mu:0.0 N_time:100 U:4 N_sw_measure:20 N_qr:20 N_markov:4\n",
            " time: 55.95557951927185s\n",
            " kinetic_energy_mean: -1.3764445014626692\n",
            " interaction_energy_mean: 0.5116321269453704\n",
            " n_mean: 1.000000000326855\n",
            " mean_onsite_corr: 0.6191924204497048\n",
            " energy_mean: -0.8648123745172986\n",
            " err_bar: 0.39316936861518303\n",
            " sign_mean: 1.0\n",
            "N_x:16 N_y:16 Beta:10 mu:0.0 N_time:100 U:4 N_sw_measure:20 N_qr:15 N_markov:4\n",
            " time: 86.60114789009094s\n",
            " kinetic_energy_mean: -1.3693255995941447\n",
            " interaction_energy_mean: 0.5127671682831891\n",
            " n_mean: 0.9999999999999282\n",
            " mean_onsite_corr: 7.21069553984847\n",
            " energy_mean: -0.8565584313109555\n",
            " err_bar: 0.3075265113141029\n",
            " sign_mean: 1.0\n",
            "N_x:16 N_y:16 Beta:10 mu:0.0 N_time:100 U:4 N_sw_measure:20 N_qr:10 N_markov:4\n",
            " time: 236.005854845047s\n",
            " kinetic_energy_mean: -1.3833194051873479\n",
            " interaction_energy_mean: 0.5166960847109924\n",
            " n_mean: 1.0000000000002247\n",
            " mean_onsite_corr: 0.6793474892596685\n",
            " energy_mean: -0.8666233204763553\n",
            " err_bar: 1.020135539081348\n",
            " sign_mean: 1.0\n",
            "N_x:16 N_y:16 Beta:10 mu:0.0 N_time:100 U:4 N_sw_measure:20 N_qr:5 N_markov:4\n",
            " time: 90.28229212760925s\n",
            " kinetic_energy_mean: nan\n",
            " interaction_energy_mean: -inf\n",
            " n_mean: nan\n",
            " mean_onsite_corr: -4.962768491424483\n",
            " energy_mean: nan\n",
            " err_bar: nan\n",
            " sign_mean: 0.1\n",
            "N_x:16 N_y:16 Beta:10 mu:-1.8 N_time:100 U:4 N_sw_measure:20 N_qr:10 N_markov:4\n"
          ],
          "name": "stdout"
        }
      ]
    },
    {
      "cell_type": "code",
      "metadata": {
        "id": "ojyzH5Re_7en"
      },
      "source": [
        "import glob\n",
        "import csv\n",
        "\n",
        "dirs = glob.glob(\"/content/drive/My Drive/scgpu/obj/*.pkl\")\n",
        "csv_columns = ['elpsd_time','kinetic_energy_mean', 'interaction_energy_mean', 'n_mean', 'mean_onsite_corr', 'energy_mean', 'err_bar', 'sign_mean']\n",
        "\n",
        "    \n",
        "try:\n",
        "    with open(dir+\"results.csv\", 'w') as csvfile:\n",
        "        writer = csv.DictWriter(csvfile, fieldnames=csv_columns)\n",
        "        writer.writeheader()\n",
        "        for d in dirs:\n",
        "            data = load_obj(d)\n",
        "            data = {key: value for key, value in data.items() if key in csv_columns}\n",
        "            writer.writerow(data)\n",
        "except IOError:\n",
        "    print(\"I/O error\")"
      ],
      "execution_count": null,
      "outputs": []
    },
    {
      "cell_type": "code",
      "metadata": {
        "colab": {
          "base_uri": "https://localhost:8080/"
        },
        "id": "bIkEpdgZC169",
        "outputId": "c02ffce0-9230-4d70-b94c-f855fcd0b395"
      },
      "source": [
        "data.keys()"
      ],
      "execution_count": null,
      "outputs": [
        {
          "output_type": "execute_result",
          "data": {
            "text/plain": [
              "dict_keys(['elpsd_time', 'kinetic_energy_mean', 'interaction_energy_mean', 'n_mean', 'mean_onsite_corr', 'energy_mean', 'err_bar', 'sign_mean'])"
            ]
          },
          "metadata": {
            "tags": []
          },
          "execution_count": 10
        }
      ]
    },
    {
      "cell_type": "code",
      "metadata": {
        "id": "tmSSsBTGBcDE"
      },
      "source": [
        "csv_columns = ['No','Country']\n",
        "dict_data = [\n",
        "{'No': 1, 'Name': 'Alex', 'Country': 'India'},\n",
        "{'No': 2, 'Name': 'Ben', 'Country': 'USA'},\n",
        "{'No': 3, 'Name': 'Shri Ram', 'Country': 'India'},\n",
        "{'No': 4, 'Name': 'Smith', 'Country': 'USA'},\n",
        "{'No': 5, 'Name': 'Yuva Raj', 'Country': 'India'},\n",
        "]\n",
        "csv_file = \"Names.csv\"\n",
        "try:\n",
        "    with open(csv_file, 'w') as csvfile:\n",
        "        writer = csv.DictWriter(csvfile, fieldnames=csv_columns)\n",
        "        writer.writeheader()\n",
        "        for data in dict_data:\n",
        "            data = {key: value for key, value in data.items() if key in csv_columns}\n",
        "            writer.writerow(data)\n",
        "except IOError:\n",
        "    print(\"I/O error\")"
      ],
      "execution_count": null,
      "outputs": []
    },
    {
      "cell_type": "code",
      "metadata": {
        "id": "0HxvVqlJAOs5"
      },
      "source": [
        "sign_partition_accu = cp.array([cp.linalg.slogdet(cp.random.normal(size=(10,10)))[0] for i in range(10)],dtype=cp.int32)"
      ],
      "execution_count": null,
      "outputs": []
    },
    {
      "cell_type": "code",
      "metadata": {
        "colab": {
          "base_uri": "https://localhost:8080/"
        },
        "id": "qgXBIimm9jAD",
        "outputId": "ddbee04f-acea-468d-d667-afcb4fc44bf2"
      },
      "source": [
        "sign_partition_accu[:,None]"
      ],
      "execution_count": null,
      "outputs": [
        {
          "output_type": "execute_result",
          "data": {
            "text/plain": [
              "array([[ 1],\n",
              "       [ 1],\n",
              "       [-1],\n",
              "       [-1],\n",
              "       [-1],\n",
              "       [ 1],\n",
              "       [ 1],\n",
              "       [ 1],\n",
              "       [-1],\n",
              "       [ 1]], dtype=int32)"
            ]
          },
          "metadata": {
            "tags": []
          },
          "execution_count": 24
        }
      ]
    },
    {
      "cell_type": "code",
      "metadata": {
        "colab": {
          "base_uri": "https://localhost:8080/"
        },
        "id": "NqZYQP0lwpVn",
        "outputId": "b759beb9-83f2-4385-cba6-5e2e3d53fd19"
      },
      "source": [
        "m1 = main(1)\n",
        "m10 = main(10)\n",
        "10*m1/m10"
      ],
      "execution_count": null,
      "outputs": [
        {
          "output_type": "stream",
          "text": [
            "2.963663339614868\n",
            "-1.3457975854065565 0.9999999999933087\n",
            "33.25367760658264\n",
            "-1.4901133631829178 1.0000000011233912\n"
          ],
          "name": "stdout"
        },
        {
          "output_type": "execute_result",
          "data": {
            "text/plain": [
              "0.8912287460885843"
            ]
          },
          "metadata": {
            "tags": []
          },
          "execution_count": 15
        }
      ]
    },
    {
      "cell_type": "code",
      "metadata": {
        "colab": {
          "base_uri": "https://localhost:8080/"
        },
        "id": "KFQJ1Ph3chsC",
        "outputId": "8ad4d1ab-2313-41cb-9d1f-2049a825a639"
      },
      "source": [
        "m1 = main(1)\n",
        "m10 = main(10)\n",
        "10*m1/m10"
      ],
      "execution_count": null,
      "outputs": [
        {
          "output_type": "stream",
          "text": [
            "4.512484073638916\n",
            "-1.5510916287875727 1.0000000001013847\n",
            "41.77274799346924\n",
            "-1.6987394608727713 1.0000000001065275\n"
          ],
          "name": "stdout"
        },
        {
          "output_type": "execute_result",
          "data": {
            "text/plain": [
              "1.080245923573043"
            ]
          },
          "metadata": {
            "tags": []
          },
          "execution_count": 27
        }
      ]
    },
    {
      "cell_type": "code",
      "metadata": {
        "colab": {
          "base_uri": "https://localhost:8080/"
        },
        "id": "vrkngdZ29r-m",
        "outputId": "0a9dde59-20c9-43e7-8377-17ab0e61ae1e"
      },
      "source": [
        "cupy.cuda.runtime.cudaDevAttrMaxThreadsPerBlock"
      ],
      "execution_count": null,
      "outputs": [
        {
          "output_type": "execute_result",
          "data": {
            "text/plain": [
              "1"
            ]
          },
          "metadata": {
            "tags": []
          },
          "execution_count": 58
        }
      ]
    },
    {
      "cell_type": "code",
      "metadata": {
        "id": "tIhFolT7cz56"
      },
      "source": [
        "import cupy\n",
        "cupy.cuda.runtime.deviceSetLimit(cupy.cuda.runtime.cudaLimitMallocHeapSize,2048*8388608)"
      ],
      "execution_count": null,
      "outputs": []
    },
    {
      "cell_type": "code",
      "metadata": {
        "colab": {
          "base_uri": "https://localhost:8080/"
        },
        "id": "ojCUwndItxKN",
        "outputId": "13b7a772-b4a8-4908-f795-0c312d2d6e95"
      },
      "source": [
        "cupy.cuda.runtime.deviceGetLimit(cupy.cuda.runtime.cudaLimitMallocHeapSize)"
      ],
      "execution_count": null,
      "outputs": [
        {
          "output_type": "execute_result",
          "data": {
            "text/plain": [
              "17179869184"
            ]
          },
          "metadata": {
            "tags": []
          },
          "execution_count": 17
        }
      ]
    },
    {
      "cell_type": "code",
      "metadata": {
        "colab": {
          "base_uri": "https://localhost:8080/"
        },
        "id": "UaGfFeCovW6X",
        "outputId": "5d35a5a5-1494-4b0f-8397-cb11d470015c"
      },
      "source": [
        "import cupy\n",
        "cupy.cuda.runtime.deviceGetLimit(cupy.cuda.runtime.cudaLimitMallocHeapSize)"
      ],
      "execution_count": null,
      "outputs": [
        {
          "output_type": "execute_result",
          "data": {
            "text/plain": [
              "8388608"
            ]
          },
          "metadata": {
            "tags": []
          },
          "execution_count": 2
        }
      ]
    },
    {
      "cell_type": "code",
      "metadata": {
        "colab": {
          "base_uri": "https://localhost:8080/",
          "height": 521
        },
        "id": "pLujGCaD1pXQ",
        "outputId": "8e42fefd-e1f8-436c-f79a-0e61ebab0db6"
      },
      "source": [
        "import matplotlib.pyplot as plt\n",
        "\n",
        "strt = time.time()\n",
        "mark_list = []\n",
        "map_streams = []\n",
        "for i in range(100):\n",
        "    mark_list.append(i)\n",
        "    map_streams.append(cp.cuda.stream.Stream())\n",
        "ti = []\n",
        "for j in range(1,10000,100):\n",
        "    \n",
        "    for (stream,i) in zip(map_streams,mark_list):\n",
        "        with stream:\n",
        "            for i in range(j):\n",
        "                cp.random.normal(size=(10,10))\n",
        "    cupy.cuda.Stream().synchronize()\n",
        "    ti.append(time.time()-strt)\n",
        "plt.plot(ti)\n",
        "plt.plot(cp.asnumpy(cp.arange(100)))"
      ],
      "execution_count": null,
      "outputs": [
        {
          "output_type": "error",
          "ename": "KeyboardInterrupt",
          "evalue": "ignored",
          "traceback": [
            "\u001b[0;31m---------------------------------------------------------------------------\u001b[0m",
            "\u001b[0;31mKeyboardInterrupt\u001b[0m                         Traceback (most recent call last)",
            "\u001b[0;32m<ipython-input-54-5bdb4de0583b>\u001b[0m in \u001b[0;36m<module>\u001b[0;34m()\u001b[0m\n\u001b[1;32m     13\u001b[0m         \u001b[0;32mwith\u001b[0m \u001b[0mstream\u001b[0m\u001b[0;34m:\u001b[0m\u001b[0;34m\u001b[0m\u001b[0;34m\u001b[0m\u001b[0m\n\u001b[1;32m     14\u001b[0m             \u001b[0;32mfor\u001b[0m \u001b[0mi\u001b[0m \u001b[0;32min\u001b[0m \u001b[0mrange\u001b[0m\u001b[0;34m(\u001b[0m\u001b[0mj\u001b[0m\u001b[0;34m)\u001b[0m\u001b[0;34m:\u001b[0m\u001b[0;34m\u001b[0m\u001b[0;34m\u001b[0m\u001b[0m\n\u001b[0;32m---> 15\u001b[0;31m                 \u001b[0mcp\u001b[0m\u001b[0;34m.\u001b[0m\u001b[0mrandom\u001b[0m\u001b[0;34m.\u001b[0m\u001b[0mnormal\u001b[0m\u001b[0;34m(\u001b[0m\u001b[0msize\u001b[0m\u001b[0;34m=\u001b[0m\u001b[0;34m(\u001b[0m\u001b[0;36m10\u001b[0m\u001b[0;34m,\u001b[0m\u001b[0;36m10\u001b[0m\u001b[0;34m)\u001b[0m\u001b[0;34m)\u001b[0m\u001b[0;34m\u001b[0m\u001b[0;34m\u001b[0m\u001b[0m\n\u001b[0m\u001b[1;32m     16\u001b[0m     \u001b[0mcupy\u001b[0m\u001b[0;34m.\u001b[0m\u001b[0mcuda\u001b[0m\u001b[0;34m.\u001b[0m\u001b[0mStream\u001b[0m\u001b[0;34m(\u001b[0m\u001b[0;34m)\u001b[0m\u001b[0;34m.\u001b[0m\u001b[0msynchronize\u001b[0m\u001b[0;34m(\u001b[0m\u001b[0;34m)\u001b[0m\u001b[0;34m\u001b[0m\u001b[0;34m\u001b[0m\u001b[0m\n\u001b[1;32m     17\u001b[0m     \u001b[0mti\u001b[0m\u001b[0;34m.\u001b[0m\u001b[0mappend\u001b[0m\u001b[0;34m(\u001b[0m\u001b[0mtime\u001b[0m\u001b[0;34m.\u001b[0m\u001b[0mtime\u001b[0m\u001b[0;34m(\u001b[0m\u001b[0;34m)\u001b[0m\u001b[0;34m-\u001b[0m\u001b[0mstrt\u001b[0m\u001b[0;34m)\u001b[0m\u001b[0;34m\u001b[0m\u001b[0;34m\u001b[0m\u001b[0m\n",
            "\u001b[0;32m/usr/local/lib/python3.6/dist-packages/cupy/random/_distributions.py\u001b[0m in \u001b[0;36mnormal\u001b[0;34m(loc, scale, size, dtype)\u001b[0m\n\u001b[1;32m    505\u001b[0m         \u001b[0msize\u001b[0m \u001b[0;34m=\u001b[0m \u001b[0mcupy\u001b[0m\u001b[0;34m.\u001b[0m\u001b[0mbroadcast_arrays\u001b[0m\u001b[0;34m(\u001b[0m\u001b[0mloc\u001b[0m\u001b[0;34m,\u001b[0m \u001b[0mscale\u001b[0m\u001b[0;34m)\u001b[0m\u001b[0;34m[\u001b[0m\u001b[0;36m0\u001b[0m\u001b[0;34m]\u001b[0m\u001b[0;34m.\u001b[0m\u001b[0mshape\u001b[0m\u001b[0;34m\u001b[0m\u001b[0;34m\u001b[0m\u001b[0m\n\u001b[1;32m    506\u001b[0m     \u001b[0mx\u001b[0m \u001b[0;34m=\u001b[0m \u001b[0mrs\u001b[0m\u001b[0;34m.\u001b[0m\u001b[0mnormal\u001b[0m\u001b[0;34m(\u001b[0m\u001b[0;36m0\u001b[0m\u001b[0;34m,\u001b[0m \u001b[0;36m1\u001b[0m\u001b[0;34m,\u001b[0m \u001b[0msize\u001b[0m\u001b[0;34m,\u001b[0m \u001b[0mdtype\u001b[0m\u001b[0;34m)\u001b[0m\u001b[0;34m\u001b[0m\u001b[0;34m\u001b[0m\u001b[0m\n\u001b[0;32m--> 507\u001b[0;31m     \u001b[0mcupy\u001b[0m\u001b[0;34m.\u001b[0m\u001b[0mmultiply\u001b[0m\u001b[0;34m(\u001b[0m\u001b[0mx\u001b[0m\u001b[0;34m,\u001b[0m \u001b[0mscale\u001b[0m\u001b[0;34m,\u001b[0m \u001b[0mout\u001b[0m\u001b[0;34m=\u001b[0m\u001b[0mx\u001b[0m\u001b[0;34m)\u001b[0m\u001b[0;34m\u001b[0m\u001b[0;34m\u001b[0m\u001b[0m\n\u001b[0m\u001b[1;32m    508\u001b[0m     \u001b[0mcupy\u001b[0m\u001b[0;34m.\u001b[0m\u001b[0madd\u001b[0m\u001b[0;34m(\u001b[0m\u001b[0mx\u001b[0m\u001b[0;34m,\u001b[0m \u001b[0mloc\u001b[0m\u001b[0;34m,\u001b[0m \u001b[0mout\u001b[0m\u001b[0;34m=\u001b[0m\u001b[0mx\u001b[0m\u001b[0;34m)\u001b[0m\u001b[0;34m\u001b[0m\u001b[0;34m\u001b[0m\u001b[0m\n\u001b[1;32m    509\u001b[0m     \u001b[0;32mreturn\u001b[0m \u001b[0mx\u001b[0m\u001b[0;34m\u001b[0m\u001b[0;34m\u001b[0m\u001b[0m\n",
            "\u001b[0;32mcupy/core/_kernel.pyx\u001b[0m in \u001b[0;36mcupy.core._kernel.ufunc.__call__\u001b[0;34m()\u001b[0m\n",
            "\u001b[0;32mcupy/core/_kernel.pyx\u001b[0m in \u001b[0;36mcupy.core._kernel._Ops.guess_routine\u001b[0;34m()\u001b[0m\n",
            "\u001b[0;32mcupy/core/_kernel.pyx\u001b[0m in \u001b[0;36mcupy.core._kernel._min_scalar_type\u001b[0;34m()\u001b[0m\n",
            "\u001b[0;32m<__array_function__ internals>\u001b[0m in \u001b[0;36mmin_scalar_type\u001b[0;34m(*args, **kwargs)\u001b[0m\n",
            "\u001b[0;31mKeyboardInterrupt\u001b[0m: "
          ]
        }
      ]
    },
    {
      "cell_type": "code",
      "metadata": {
        "colab": {
          "base_uri": "https://localhost:8080/",
          "height": 343
        },
        "id": "8XJOKzkFPKL1",
        "outputId": "343b741a-baf8-493c-9e7c-3a133b06270f"
      },
      "source": [
        "!cuda-memcheck --tool racecheck python3 main.py"
      ],
      "execution_count": null,
      "outputs": [
        {
          "output_type": "stream",
          "text": [
            "========= CUDA-MEMCHECK\n"
          ],
          "name": "stdout"
        },
        {
          "output_type": "error",
          "ename": "KeyboardInterrupt",
          "evalue": "ignored",
          "traceback": [
            "\u001b[0;31m---------------------------------------------------------------------------\u001b[0m",
            "\u001b[0;31mKeyboardInterrupt\u001b[0m                         Traceback (most recent call last)",
            "\u001b[0;32m<ipython-input-5-08e6539db497>\u001b[0m in \u001b[0;36m<module>\u001b[0;34m()\u001b[0m\n\u001b[0;32m----> 1\u001b[0;31m \u001b[0mget_ipython\u001b[0m\u001b[0;34m(\u001b[0m\u001b[0;34m)\u001b[0m\u001b[0;34m.\u001b[0m\u001b[0msystem\u001b[0m\u001b[0;34m(\u001b[0m\u001b[0;34m'cuda-memcheck --tool racecheck python3 main.py'\u001b[0m\u001b[0;34m)\u001b[0m\u001b[0;34m\u001b[0m\u001b[0;34m\u001b[0m\u001b[0m\n\u001b[0m",
            "\u001b[0;32m/usr/local/lib/python3.6/dist-packages/google/colab/_shell.py\u001b[0m in \u001b[0;36msystem\u001b[0;34m(self, *args, **kwargs)\u001b[0m\n\u001b[1;32m    100\u001b[0m       \u001b[0mkwargs\u001b[0m\u001b[0;34m.\u001b[0m\u001b[0mupdate\u001b[0m\u001b[0;34m(\u001b[0m\u001b[0;34m{\u001b[0m\u001b[0;34m'also_return_output'\u001b[0m\u001b[0;34m:\u001b[0m \u001b[0;32mTrue\u001b[0m\u001b[0;34m}\u001b[0m\u001b[0;34m)\u001b[0m\u001b[0;34m\u001b[0m\u001b[0;34m\u001b[0m\u001b[0m\n\u001b[1;32m    101\u001b[0m \u001b[0;34m\u001b[0m\u001b[0m\n\u001b[0;32m--> 102\u001b[0;31m     \u001b[0moutput\u001b[0m \u001b[0;34m=\u001b[0m \u001b[0m_system_commands\u001b[0m\u001b[0;34m.\u001b[0m\u001b[0m_system_compat\u001b[0m\u001b[0;34m(\u001b[0m\u001b[0mself\u001b[0m\u001b[0;34m,\u001b[0m \u001b[0;34m*\u001b[0m\u001b[0margs\u001b[0m\u001b[0;34m,\u001b[0m \u001b[0;34m**\u001b[0m\u001b[0mkwargs\u001b[0m\u001b[0;34m)\u001b[0m  \u001b[0;31m# pylint:disable=protected-access\u001b[0m\u001b[0;34m\u001b[0m\u001b[0;34m\u001b[0m\u001b[0m\n\u001b[0m\u001b[1;32m    103\u001b[0m \u001b[0;34m\u001b[0m\u001b[0m\n\u001b[1;32m    104\u001b[0m     \u001b[0;32mif\u001b[0m \u001b[0mpip_warn\u001b[0m\u001b[0;34m:\u001b[0m\u001b[0;34m\u001b[0m\u001b[0;34m\u001b[0m\u001b[0m\n",
            "\u001b[0;32m/usr/local/lib/python3.6/dist-packages/google/colab/_system_commands.py\u001b[0m in \u001b[0;36m_system_compat\u001b[0;34m(shell, cmd, also_return_output)\u001b[0m\n\u001b[1;32m    438\u001b[0m   \u001b[0;31m# stack.\u001b[0m\u001b[0;34m\u001b[0m\u001b[0;34m\u001b[0m\u001b[0;34m\u001b[0m\u001b[0m\n\u001b[1;32m    439\u001b[0m   result = _run_command(\n\u001b[0;32m--> 440\u001b[0;31m       shell.var_expand(cmd, depth=2), clear_streamed_output=False)\n\u001b[0m\u001b[1;32m    441\u001b[0m   \u001b[0mshell\u001b[0m\u001b[0;34m.\u001b[0m\u001b[0muser_ns\u001b[0m\u001b[0;34m[\u001b[0m\u001b[0;34m'_exit_code'\u001b[0m\u001b[0;34m]\u001b[0m \u001b[0;34m=\u001b[0m \u001b[0mresult\u001b[0m\u001b[0;34m.\u001b[0m\u001b[0mreturncode\u001b[0m\u001b[0;34m\u001b[0m\u001b[0;34m\u001b[0m\u001b[0m\n\u001b[1;32m    442\u001b[0m   \u001b[0;32mif\u001b[0m \u001b[0;34m-\u001b[0m\u001b[0mresult\u001b[0m\u001b[0;34m.\u001b[0m\u001b[0mreturncode\u001b[0m \u001b[0;32min\u001b[0m \u001b[0m_INTERRUPTED_SIGNALS\u001b[0m\u001b[0;34m:\u001b[0m\u001b[0;34m\u001b[0m\u001b[0;34m\u001b[0m\u001b[0m\n",
            "\u001b[0;32m/usr/local/lib/python3.6/dist-packages/google/colab/_system_commands.py\u001b[0m in \u001b[0;36m_run_command\u001b[0;34m(cmd, clear_streamed_output)\u001b[0m\n\u001b[1;32m    193\u001b[0m       \u001b[0mos\u001b[0m\u001b[0;34m.\u001b[0m\u001b[0mclose\u001b[0m\u001b[0;34m(\u001b[0m\u001b[0mchild_pty\u001b[0m\u001b[0;34m)\u001b[0m\u001b[0;34m\u001b[0m\u001b[0;34m\u001b[0m\u001b[0m\n\u001b[1;32m    194\u001b[0m \u001b[0;34m\u001b[0m\u001b[0m\n\u001b[0;32m--> 195\u001b[0;31m       \u001b[0;32mreturn\u001b[0m \u001b[0m_monitor_process\u001b[0m\u001b[0;34m(\u001b[0m\u001b[0mparent_pty\u001b[0m\u001b[0;34m,\u001b[0m \u001b[0mepoll\u001b[0m\u001b[0;34m,\u001b[0m \u001b[0mp\u001b[0m\u001b[0;34m,\u001b[0m \u001b[0mcmd\u001b[0m\u001b[0;34m,\u001b[0m \u001b[0mupdate_stdin_widget\u001b[0m\u001b[0;34m)\u001b[0m\u001b[0;34m\u001b[0m\u001b[0;34m\u001b[0m\u001b[0m\n\u001b[0m\u001b[1;32m    196\u001b[0m   \u001b[0;32mfinally\u001b[0m\u001b[0;34m:\u001b[0m\u001b[0;34m\u001b[0m\u001b[0;34m\u001b[0m\u001b[0m\n\u001b[1;32m    197\u001b[0m     \u001b[0mepoll\u001b[0m\u001b[0;34m.\u001b[0m\u001b[0mclose\u001b[0m\u001b[0;34m(\u001b[0m\u001b[0;34m)\u001b[0m\u001b[0;34m\u001b[0m\u001b[0;34m\u001b[0m\u001b[0m\n",
            "\u001b[0;32m/usr/local/lib/python3.6/dist-packages/google/colab/_system_commands.py\u001b[0m in \u001b[0;36m_monitor_process\u001b[0;34m(parent_pty, epoll, p, cmd, update_stdin_widget)\u001b[0m\n\u001b[1;32m    220\u001b[0m   \u001b[0;32mwhile\u001b[0m \u001b[0;32mTrue\u001b[0m\u001b[0;34m:\u001b[0m\u001b[0;34m\u001b[0m\u001b[0;34m\u001b[0m\u001b[0m\n\u001b[1;32m    221\u001b[0m     \u001b[0;32mtry\u001b[0m\u001b[0;34m:\u001b[0m\u001b[0;34m\u001b[0m\u001b[0;34m\u001b[0m\u001b[0m\n\u001b[0;32m--> 222\u001b[0;31m       \u001b[0mresult\u001b[0m \u001b[0;34m=\u001b[0m \u001b[0m_poll_process\u001b[0m\u001b[0;34m(\u001b[0m\u001b[0mparent_pty\u001b[0m\u001b[0;34m,\u001b[0m \u001b[0mepoll\u001b[0m\u001b[0;34m,\u001b[0m \u001b[0mp\u001b[0m\u001b[0;34m,\u001b[0m \u001b[0mcmd\u001b[0m\u001b[0;34m,\u001b[0m \u001b[0mdecoder\u001b[0m\u001b[0;34m,\u001b[0m \u001b[0mstate\u001b[0m\u001b[0;34m)\u001b[0m\u001b[0;34m\u001b[0m\u001b[0;34m\u001b[0m\u001b[0m\n\u001b[0m\u001b[1;32m    223\u001b[0m       \u001b[0;32mif\u001b[0m \u001b[0mresult\u001b[0m \u001b[0;32mis\u001b[0m \u001b[0;32mnot\u001b[0m \u001b[0;32mNone\u001b[0m\u001b[0;34m:\u001b[0m\u001b[0;34m\u001b[0m\u001b[0;34m\u001b[0m\u001b[0m\n\u001b[1;32m    224\u001b[0m         \u001b[0;32mreturn\u001b[0m \u001b[0mresult\u001b[0m\u001b[0;34m\u001b[0m\u001b[0;34m\u001b[0m\u001b[0m\n",
            "\u001b[0;32m/usr/local/lib/python3.6/dist-packages/google/colab/_system_commands.py\u001b[0m in \u001b[0;36m_poll_process\u001b[0;34m(parent_pty, epoll, p, cmd, decoder, state)\u001b[0m\n\u001b[1;32m    267\u001b[0m   \u001b[0moutput_available\u001b[0m \u001b[0;34m=\u001b[0m \u001b[0;32mFalse\u001b[0m\u001b[0;34m\u001b[0m\u001b[0;34m\u001b[0m\u001b[0m\n\u001b[1;32m    268\u001b[0m \u001b[0;34m\u001b[0m\u001b[0m\n\u001b[0;32m--> 269\u001b[0;31m   \u001b[0mevents\u001b[0m \u001b[0;34m=\u001b[0m \u001b[0mepoll\u001b[0m\u001b[0;34m.\u001b[0m\u001b[0mpoll\u001b[0m\u001b[0;34m(\u001b[0m\u001b[0;34m)\u001b[0m\u001b[0;34m\u001b[0m\u001b[0;34m\u001b[0m\u001b[0m\n\u001b[0m\u001b[1;32m    270\u001b[0m   \u001b[0minput_events\u001b[0m \u001b[0;34m=\u001b[0m \u001b[0;34m[\u001b[0m\u001b[0;34m]\u001b[0m\u001b[0;34m\u001b[0m\u001b[0;34m\u001b[0m\u001b[0m\n\u001b[1;32m    271\u001b[0m   \u001b[0;32mfor\u001b[0m \u001b[0m_\u001b[0m\u001b[0;34m,\u001b[0m \u001b[0mevent\u001b[0m \u001b[0;32min\u001b[0m \u001b[0mevents\u001b[0m\u001b[0;34m:\u001b[0m\u001b[0;34m\u001b[0m\u001b[0;34m\u001b[0m\u001b[0m\n",
            "\u001b[0;31mKeyboardInterrupt\u001b[0m: "
          ]
        }
      ]
    },
    {
      "cell_type": "code",
      "metadata": {
        "colab": {
          "base_uri": "https://localhost:8080/"
        },
        "id": "2L5f3TTozx5a",
        "outputId": "597d2c54-0ab8-4af0-f7fd-d0b7140efad9"
      },
      "source": [
        "!cuda-memcheck --leak-check full python3 main.py"
      ],
      "execution_count": null,
      "outputs": [
        {
          "output_type": "stream",
          "text": [
            "========= CUDA-MEMCHECK\n",
            "0.008235737696412192\n",
            "0.007328857340110453\n",
            "0.018367269033958696\n",
            "0.018648878870509304\n",
            "0.03718320728766194\n",
            "0.04555422206976373\n",
            "0.07098982365032536\n",
            "0.38882843428519925\n",
            "0.09998389193507595\n",
            "0.17916067618277542\n",
            "10\n",
            "20.43350648880005\n",
            "Traceback (most recent call last):\n",
            "  File \"main.py\", line 618, in <module>\n",
            "    main()\n",
            "  File \"main.py\", line 616, in main\n",
            "    print(cp.trace(cp.array(H_0).dot(cp.eye(2*N_s)-G_msr/N_measure))/N_s,np.trace(cp.eye(2*N_s) - G_msr/N_measure)/N_s)\n",
            "ZeroDivisionError: division by zero\n",
            "========= LEAK SUMMARY: 0 bytes leaked in 0 allocations\n",
            "========= ERROR SUMMARY: 0 errors\n"
          ],
          "name": "stdout"
        }
      ]
    },
    {
      "cell_type": "code",
      "metadata": {
        "colab": {
          "base_uri": "https://localhost:8080/"
        },
        "id": "CD1OLHpG0Z7G",
        "outputId": "1a79d6fd-e874-4283-a185-48aff1b92f71"
      },
      "source": [
        "!cuda-memcheck --tool racecheck --racecheck-report analysis python3 main.py"
      ],
      "execution_count": null,
      "outputs": [
        {
          "output_type": "stream",
          "text": [
            "========= CUDA-MEMCHECK\n",
            "========= ERROR: Race reported between Write access at 0x00000ea0 in void larft_vtv_32<double, int=128>(int, int, double const *, unsigned long, double*, unsigned long)\n",
            "=========     and Read access at 0x00000ed0 in void larft_vtv_32<double, int=128>(int, int, double const *, unsigned long, double*, unsigned long) [1562 hazards]\n",
            "=========     and Write access at 0x00000ea0 in void larft_vtv_32<double, int=128>(int, int, double const *, unsigned long, double*, unsigned long) [19 hazards]\n",
            "=========\n",
            "========= ERROR: Race reported between Write access at 0x00000ea0 in void larft_vtv_32<double, int=128>(int, int, double const *, unsigned long, double*, unsigned long)\n",
            "=========     and Read access at 0x00000ed0 in void larft_vtv_32<double, int=128>(int, int, double const *, unsigned long, double*, unsigned long) [1562 hazards]\n",
            "=========     and Write access at 0x00000ea0 in void larft_vtv_32<double, int=128>(int, int, double const *, unsigned long, double*, unsigned long) [19 hazards]\n",
            "=========\n",
            "========= WARN: Race reported between Read access at 0x000010a0 in void larft_vtv_32<double, int=128>(int, int, double const *, unsigned long, double*, unsigned long)\n",
            "=========     and Write access at 0x00001030 in void larft_vtv_32<double, int=128>(int, int, double const *, unsigned long, double*, unsigned long) [10 hazards]\n",
            "=========     and Write access at 0x00000fe0 in void larft_vtv_32<double, int=128>(int, int, double const *, unsigned long, double*, unsigned long) [5 hazards]\n",
            "=========     and Write access at 0x00001080 in void larft_vtv_32<double, int=128>(int, int, double const *, unsigned long, double*, unsigned long) [8 hazards]\n",
            "=========     and Write access at 0x00000ef0 in void larft_vtv_32<double, int=128>(int, int, double const *, unsigned long, double*, unsigned long) [2 hazards]\n",
            "=========\n",
            "========= WARN: Race reported between Write access at 0x00000f90 in void larft_vtv_32<double, int=128>(int, int, double const *, unsigned long, double*, unsigned long)\n",
            "=========     and Read access at 0x00001000 in void larft_vtv_32<double, int=128>(int, int, double const *, unsigned long, double*, unsigned long) [16 hazards]\n",
            "=========     and Read access at 0x00000fb0 in void larft_vtv_32<double, int=128>(int, int, double const *, unsigned long, double*, unsigned long) [16 hazards]\n",
            "=========     and Read access at 0x00001050 in void larft_vtv_32<double, int=128>(int, int, double const *, unsigned long, double*, unsigned long) [18 hazards]\n",
            "=========\n",
            "========= WARN: Race reported between Write access at 0x00000f40 in void larft_vtv_32<double, int=128>(int, int, double const *, unsigned long, double*, unsigned long)\n",
            "=========     and Read access at 0x00000f60 in void larft_vtv_32<double, int=128>(int, int, double const *, unsigned long, double*, unsigned long) [352 hazards]\n",
            "=========     and Read access at 0x00000fb0 in void larft_vtv_32<double, int=128>(int, int, double const *, unsigned long, double*, unsigned long) [40 hazards]\n",
            "=========     and Read access at 0x00001050 in void larft_vtv_32<double, int=128>(int, int, double const *, unsigned long, double*, unsigned long) [2 hazards]\n",
            "=========     and Read access at 0x00001000 in void larft_vtv_32<double, int=128>(int, int, double const *, unsigned long, double*, unsigned long) [22 hazards]\n",
            "=========\n",
            "========= WARN: Race reported between Write access at 0x00001030 in void larft_vtv_32<double, int=128>(int, int, double const *, unsigned long, double*, unsigned long)\n",
            "=========     and Read access at 0x000010a0 in void larft_vtv_32<double, int=128>(int, int, double const *, unsigned long, double*, unsigned long) [10 hazards]\n",
            "=========     and Read access at 0x00001050 in void larft_vtv_32<double, int=128>(int, int, double const *, unsigned long, double*, unsigned long) [4 hazards]\n",
            "=========\n",
            "========= WARN: Race reported between Write access at 0x00000fe0 in void larft_vtv_32<double, int=128>(int, int, double const *, unsigned long, double*, unsigned long)\n",
            "=========     and Read access at 0x00001000 in void larft_vtv_32<double, int=128>(int, int, double const *, unsigned long, double*, unsigned long) [44 hazards]\n",
            "=========     and Read access at 0x00001050 in void larft_vtv_32<double, int=128>(int, int, double const *, unsigned long, double*, unsigned long) [16 hazards]\n",
            "=========     and Read access at 0x000010a0 in void larft_vtv_32<double, int=128>(int, int, double const *, unsigned long, double*, unsigned long) [5 hazards]\n",
            "=========\n",
            "========= ERROR: Race reported between Write access at 0x00000ef0 in void larft_vtv_32<double, int=128>(int, int, double const *, unsigned long, double*, unsigned long)\n",
            "=========     and Read access at 0x00001000 in void larft_vtv_32<double, int=128>(int, int, double const *, unsigned long, double*, unsigned long) [28 hazards]\n",
            "=========     and Read access at 0x00000f60 in void larft_vtv_32<double, int=128>(int, int, double const *, unsigned long, double*, unsigned long) [144 hazards]\n",
            "=========     and Read access at 0x00000fb0 in void larft_vtv_32<double, int=128>(int, int, double const *, unsigned long, double*, unsigned long) [24 hazards]\n",
            "=========     and Read access at 0x00000f10 in void larft_vtv_32<double, int=128>(int, int, double const *, unsigned long, double*, unsigned long) [777 hazards]\n",
            "=========     and Read access at 0x000010a0 in void larft_vtv_32<double, int=128>(int, int, double const *, unsigned long, double*, unsigned long) [2 hazards]\n",
            "=========\n",
            "Traceback (most recent call last):\n",
            "  File \"main.py\", line 618, in <module>\n",
            "    main()\n",
            "  File \"main.py\", line 573, in main\n",
            "    G = from_scratch(cl,N_qr)\n",
            "  File \"main.py\", line 522, in from_scratch\n",
            "    Q,D,T = QR_prime(cl, n_qr)\n",
            "  File \"main.py\", line 84, in QR_prime\n",
            "    usvh = QR(z_0,A0)\n",
            "  File \"main.py\", line 59, in QR\n",
            "    Q, R = cp.linalg.qr(A)\n",
            "  File \"/usr/local/lib/python3.6/dist-packages/cupy/linalg/_decomposition.py\", line 298, in qr\n",
            "    tau.data.ptr, workspace.data.ptr, buffersize, dev_info.data.ptr)\n",
            "  File \"cupy_backends/cuda/libs/cusolver.pyx\", line 1178, in cupy_backends.cuda.libs.cusolver.dgeqrf\n",
            "  File \"cupy_backends/cuda/libs/cusolver.pyx\", line 1186, in cupy_backends.cuda.libs.cusolver.dgeqrf\n",
            "  File \"cupy_backends/cuda/libs/cusolver.pyx\", line 700, in cupy_backends.cuda.libs.cusolver.check_status\n",
            "cupy_backends.cuda.libs.cusolver.CUSOLVERError: CUSOLVER_STATUS_INTERNAL_ERROR\n",
            "Traceback (most recent call last):\n",
            "  File \"cupy_backends/cuda/api/driver.pyx\", line 253, in cupy_backends.cuda.api.driver.moduleUnload\n",
            "  File \"cupy_backends/cuda/api/driver.pyx\", line 124, in cupy_backends.cuda.api.driver.check_status\n",
            "cupy_backends.cuda.api.driver.CUDADriverError: CUDA_ERROR_ILLEGAL_ADDRESS: an illegal memory access was encountered\n",
            "Exception ignored in: 'cupy.cuda.function.Module.__dealloc__'\n",
            "Traceback (most recent call last):\n",
            "  File \"cupy_backends/cuda/api/driver.pyx\", line 253, in cupy_backends.cuda.api.driver.moduleUnload\n",
            "  File \"cupy_backends/cuda/api/driver.pyx\", line 124, in cupy_backends.cuda.api.driver.check_status\n",
            "cupy_backends.cuda.api.driver.CUDADriverError: CUDA_ERROR_ILLEGAL_ADDRESS: an illegal memory access was encountered\n",
            "Traceback (most recent call last):\n",
            "  File \"cupy_backends/cuda/api/driver.pyx\", line 253, in cupy_backends.cuda.api.driver.moduleUnload\n",
            "  File \"cupy_backends/cuda/api/driver.pyx\", line 124, in cupy_backends.cuda.api.driver.check_status\n",
            "cupy_backends.cuda.api.driver.CUDADriverError: CUDA_ERROR_ILLEGAL_ADDRESS: an illegal memory access was encountered\n",
            "Exception ignored in: 'cupy.cuda.function.Module.__dealloc__'\n",
            "Traceback (most recent call last):\n",
            "  File \"cupy_backends/cuda/api/driver.pyx\", line 253, in cupy_backends.cuda.api.driver.moduleUnload\n",
            "  File \"cupy_backends/cuda/api/driver.pyx\", line 124, in cupy_backends.cuda.api.driver.check_status\n",
            "cupy_backends.cuda.api.driver.CUDADriverError: CUDA_ERROR_ILLEGAL_ADDRESS: an illegal memory access was encountered\n",
            "Traceback (most recent call last):\n",
            "  File \"cupy_backends/cuda/api/driver.pyx\", line 253, in cupy_backends.cuda.api.driver.moduleUnload\n",
            "  File \"cupy_backends/cuda/api/driver.pyx\", line 124, in cupy_backends.cuda.api.driver.check_status\n",
            "cupy_backends.cuda.api.driver.CUDADriverError: CUDA_ERROR_ILLEGAL_ADDRESS: an illegal memory access was encountered\n",
            "Exception ignored in: 'cupy.cuda.function.Module.__dealloc__'\n",
            "Traceback (most recent call last):\n",
            "  File \"cupy_backends/cuda/api/driver.pyx\", line 253, in cupy_backends.cuda.api.driver.moduleUnload\n",
            "  File \"cupy_backends/cuda/api/driver.pyx\", line 124, in cupy_backends.cuda.api.driver.check_status\n",
            "cupy_backends.cuda.api.driver.CUDADriverError: CUDA_ERROR_ILLEGAL_ADDRESS: an illegal memory access was encountered\n",
            "Traceback (most recent call last):\n",
            "  File \"cupy_backends/cuda/api/driver.pyx\", line 253, in cupy_backends.cuda.api.driver.moduleUnload\n",
            "  File \"cupy_backends/cuda/api/driver.pyx\", line 124, in cupy_backends.cuda.api.driver.check_status\n",
            "cupy_backends.cuda.api.driver.CUDADriverError: CUDA_ERROR_ILLEGAL_ADDRESS: an illegal memory access was encountered\n",
            "Exception ignored in: 'cupy.cuda.function.Module.__dealloc__'\n",
            "Traceback (most recent call last):\n",
            "  File \"cupy_backends/cuda/api/driver.pyx\", line 253, in cupy_backends.cuda.api.driver.moduleUnload\n",
            "  File \"cupy_backends/cuda/api/driver.pyx\", line 124, in cupy_backends.cuda.api.driver.check_status\n",
            "cupy_backends.cuda.api.driver.CUDADriverError: CUDA_ERROR_ILLEGAL_ADDRESS: an illegal memory access was encountered\n",
            "Traceback (most recent call last):\n",
            "  File \"cupy_backends/cuda/api/driver.pyx\", line 253, in cupy_backends.cuda.api.driver.moduleUnload\n",
            "  File \"cupy_backends/cuda/api/driver.pyx\", line 124, in cupy_backends.cuda.api.driver.check_status\n",
            "TypeError: 'NoneType' object is not callable\n",
            "Exception ignored in: 'cupy.cuda.function.Module.__dealloc__'\n",
            "Traceback (most recent call last):\n",
            "  File \"cupy_backends/cuda/api/driver.pyx\", line 253, in cupy_backends.cuda.api.driver.moduleUnload\n",
            "  File \"cupy_backends/cuda/api/driver.pyx\", line 124, in cupy_backends.cuda.api.driver.check_status\n",
            "TypeError: 'NoneType' object is not callable\n",
            "Traceback (most recent call last):\n",
            "  File \"cupy_backends/cuda/api/driver.pyx\", line 253, in cupy_backends.cuda.api.driver.moduleUnload\n",
            "  File \"cupy_backends/cuda/api/driver.pyx\", line 124, in cupy_backends.cuda.api.driver.check_status\n",
            "TypeError: 'NoneType' object is not callable\n",
            "Exception ignored in: 'cupy.cuda.function.Module.__dealloc__'\n",
            "Traceback (most recent call last):\n",
            "  File \"cupy_backends/cuda/api/driver.pyx\", line 253, in cupy_backends.cuda.api.driver.moduleUnload\n",
            "  File \"cupy_backends/cuda/api/driver.pyx\", line 124, in cupy_backends.cuda.api.driver.check_status\n",
            "TypeError: 'NoneType' object is not callable\n",
            "Traceback (most recent call last):\n",
            "  File \"cupy_backends/cuda/api/driver.pyx\", line 253, in cupy_backends.cuda.api.driver.moduleUnload\n",
            "  File \"cupy_backends/cuda/api/driver.pyx\", line 124, in cupy_backends.cuda.api.driver.check_status\n",
            "TypeError: 'NoneType' object is not callable\n",
            "Exception ignored in: 'cupy.cuda.function.Module.__dealloc__'\n",
            "Traceback (most recent call last):\n",
            "  File \"cupy_backends/cuda/api/driver.pyx\", line 253, in cupy_backends.cuda.api.driver.moduleUnload\n",
            "  File \"cupy_backends/cuda/api/driver.pyx\", line 124, in cupy_backends.cuda.api.driver.check_status\n",
            "TypeError: 'NoneType' object is not callable\n",
            "Traceback (most recent call last):\n",
            "  File \"cupy_backends/cuda/api/driver.pyx\", line 253, in cupy_backends.cuda.api.driver.moduleUnload\n",
            "  File \"cupy_backends/cuda/api/driver.pyx\", line 124, in cupy_backends.cuda.api.driver.check_status\n",
            "TypeError: 'NoneType' object is not callable\n",
            "Exception ignored in: 'cupy.cuda.function.Module.__dealloc__'\n",
            "Traceback (most recent call last):\n",
            "  File \"cupy_backends/cuda/api/driver.pyx\", line 253, in cupy_backends.cuda.api.driver.moduleUnload\n",
            "  File \"cupy_backends/cuda/api/driver.pyx\", line 124, in cupy_backends.cuda.api.driver.check_status\n",
            "TypeError: 'NoneType' object is not callable\n",
            "Traceback (most recent call last):\n",
            "  File \"cupy_backends/cuda/api/driver.pyx\", line 253, in cupy_backends.cuda.api.driver.moduleUnload\n",
            "  File \"cupy_backends/cuda/api/driver.pyx\", line 124, in cupy_backends.cuda.api.driver.check_status\n",
            "TypeError: 'NoneType' object is not callable\n",
            "Exception ignored in: 'cupy.cuda.function.Module.__dealloc__'\n",
            "Traceback (most recent call last):\n",
            "  File \"cupy_backends/cuda/api/driver.pyx\", line 253, in cupy_backends.cuda.api.driver.moduleUnload\n",
            "  File \"cupy_backends/cuda/api/driver.pyx\", line 124, in cupy_backends.cuda.api.driver.check_status\n",
            "TypeError: 'NoneType' object is not callable\n",
            "Traceback (most recent call last):\n",
            "  File \"cupy_backends/cuda/api/driver.pyx\", line 253, in cupy_backends.cuda.api.driver.moduleUnload\n",
            "  File \"cupy_backends/cuda/api/driver.pyx\", line 124, in cupy_backends.cuda.api.driver.check_status\n",
            "TypeError: 'NoneType' object is not callable\n",
            "Exception ignored in: 'cupy.cuda.function.Module.__dealloc__'\n",
            "Traceback (most recent call last):\n",
            "  File \"cupy_backends/cuda/api/driver.pyx\", line 253, in cupy_backends.cuda.api.driver.moduleUnload\n",
            "  File \"cupy_backends/cuda/api/driver.pyx\", line 124, in cupy_backends.cuda.api.driver.check_status\n",
            "TypeError: 'NoneType' object is not callable\n",
            "========= RACECHECK SUMMARY: 8 hazards displayed (3 errors, 5 warnings) \n"
          ],
          "name": "stdout"
        }
      ]
    },
    {
      "cell_type": "code",
      "metadata": {
        "id": "HrvXoQLjTvIP"
      },
      "source": [
        "main()"
      ],
      "execution_count": null,
      "outputs": []
    },
    {
      "cell_type": "code",
      "metadata": {
        "colab": {
          "base_uri": "https://localhost:8080/"
        },
        "id": "dXcQWv_3lQf_",
        "outputId": "4d39a9da-6319-450a-81b1-0bd0799b8a01"
      },
      "source": [
        "%lprun -f main main()"
      ],
      "execution_count": null,
      "outputs": [
        {
          "output_type": "stream",
          "text": [
            "0.11459125215915683 1.0000000000000004\n"
          ],
          "name": "stdout"
        }
      ]
    },
    {
      "cell_type": "code",
      "metadata": {
        "id": "6ZvcygSQATXU"
      },
      "source": [
        "If = cp.array([1],dtype=cp.float64)"
      ],
      "execution_count": null,
      "outputs": []
    },
    {
      "cell_type": "code",
      "metadata": {
        "colab": {
          "base_uri": "https://localhost:8080/"
        },
        "id": "CPoFDYLFA7_C",
        "outputId": "95dc1ef0-bc0c-460f-e851-40e6597bb75a"
      },
      "source": [
        "%prun If + hs[0,0]"
      ],
      "execution_count": null,
      "outputs": [
        {
          "output_type": "stream",
          "text": [
            " "
          ],
          "name": "stdout"
        }
      ]
    },
    {
      "cell_type": "code",
      "metadata": {
        "id": "HPPI2PtW_wF-"
      },
      "source": [
        "%lprun -f time_wrap time_wrap(G, Bk, Bk_inv, hs, cl, sign_U_interact,probability, gamma1, gamma2)"
      ],
      "execution_count": null,
      "outputs": []
    },
    {
      "cell_type": "code",
      "metadata": {
        "id": "fJLzugmRQCkm"
      },
      "source": [
        "%lprun -f update update(G, hs, N_s, probability_tmp, gamma1_tmp, gamma2_tmp,I)"
      ],
      "execution_count": null,
      "outputs": []
    },
    {
      "cell_type": "code",
      "metadata": {
        "id": "nCAUbpcSBbns"
      },
      "source": [
        ""
      ],
      "execution_count": null,
      "outputs": []
    },
    {
      "cell_type": "code",
      "metadata": {
        "id": "DulyKvRzwKGW"
      },
      "source": [
        "G, Bk, Bk_inv, hs, cl, sign_U_interact,probability, gamma1, gamma2 = time_wrap(G, Bk, Bk_inv, hs, cl, sign_U_interact,probability, gamma1, gamma2)\n",
        "\n",
        "%lprun -f time_wrap  G, Bk, Bk_inv, hs, cl, sign_U_interact,probability, gamma1, gamma2 = time_wrap(G, Bk, Bk_inv, hs, cl, sign_U_interact,probability, gamma1, gamma2)\n"
      ],
      "execution_count": null,
      "outputs": []
    },
    {
      "cell_type": "code",
      "metadata": {
        "colab": {
          "base_uri": "https://localhost:8080/",
          "height": 172
        },
        "id": "Lejb3p6RxO3U",
        "outputId": "433f4a6a-96f4-4e12-c90d-e407a7418278"
      },
      "source": [
        "np.trace(cp.eye(2*N_s) - G_msr/N_measure)/N_s"
      ],
      "execution_count": null,
      "outputs": [
        {
          "output_type": "error",
          "ename": "NameError",
          "evalue": "ignored",
          "traceback": [
            "\u001b[0;31m---------------------------------------------------------------------------\u001b[0m",
            "\u001b[0;31mNameError\u001b[0m                                 Traceback (most recent call last)",
            "\u001b[0;32m<ipython-input-30-b4d3a89cd83e>\u001b[0m in \u001b[0;36m<module>\u001b[0;34m()\u001b[0m\n\u001b[0;32m----> 1\u001b[0;31m \u001b[0mnp\u001b[0m\u001b[0;34m.\u001b[0m\u001b[0mtrace\u001b[0m\u001b[0;34m(\u001b[0m\u001b[0mG\u001b[0m\u001b[0;34m)\u001b[0m\u001b[0;34m/\u001b[0m\u001b[0mN_s\u001b[0m\u001b[0;34m\u001b[0m\u001b[0;34m\u001b[0m\u001b[0m\n\u001b[0m",
            "\u001b[0;31mNameError\u001b[0m: name 'G' is not defined"
          ]
        }
      ]
    },
    {
      "cell_type": "code",
      "metadata": {
        "colab": {
          "base_uri": "https://localhost:8080/",
          "height": 515
        },
        "id": "xWoajlL9HSxx",
        "outputId": "53b05d65-0de8-4347-9650-448c0cee85a3"
      },
      "source": [
        "\n",
        "\n",
        "\n",
        "import numpy as np \n",
        "import matplotlib.pyplot as plt \n",
        "   \n",
        "# set width of bar \n",
        "barWidth = 0.25\n",
        "fig, ax = plt.subplots(figsize =(12, 8)) \n",
        "   \n",
        "# set height of bar \n",
        "name = [\"from scratch\", \" time wrap\", \"sherman-morrison\",]\n",
        "cpu_time = [209,78,79]\n",
        "gpu_time = [7,1,93]\n",
        "   \n",
        "# Set position of bar on X axis \n",
        "br1 = np.arange(3) \n",
        "br2 = [x + barWidth for x in br1] \n",
        "   \n",
        "# Make the plot \n",
        "plt.bar(br1, cpu_time, color ='r', width = barWidth, \n",
        "        edgecolor ='grey', label ='cpu_time') \n",
        "plt.bar(br2, gpu_time, color ='b', width = barWidth, \n",
        "        edgecolor ='grey', label ='gpu_time') \n",
        "ax.set_yscale('log')\n",
        "   \n",
        "# Adding Xticks  \n",
        "plt.xlabel('functions', fontweight ='bold') \n",
        "plt.ylabel('time(ms)', fontweight ='bold') \n",
        "plt.xticks([r + barWidth/2 for r in range(len(cpu_time))], \n",
        "           name) \n",
        "   \n",
        "plt.legend() \n"
      ],
      "execution_count": null,
      "outputs": [
        {
          "output_type": "execute_result",
          "data": {
            "text/plain": [
              "<matplotlib.legend.Legend at 0x7fc904bb97b8>"
            ]
          },
          "metadata": {
            "tags": []
          },
          "execution_count": 50
        },
        {
          "output_type": "display_data",
          "data": {
            "image/png": "[encoded data removed]",
            "text/plain": [
              "<Figure size 864x576 with 1 Axes>"
            ]
          },
          "metadata": {
            "tags": []
          }
        }
      ]
    },
    {
      "cell_type": "code",
      "metadata": {
        "colab": {
          "base_uri": "https://localhost:8080/",
          "height": 591
        },
        "id": "lzoZBmdSLVIk",
        "outputId": "a91f25e6-123a-4a37-e735-dadb4f61155d"
      },
      "source": [
        "\n",
        "fig, ax = plt.subplots(figsize=(20, 10), subplot_kw=dict(aspect=\"equal\"))\n",
        "\n",
        "recipe = [\"95 s sherman-morrison\",\n",
        "          \"94 s time-wrap\",\n",
        "          \"25 s from-scratch\",\n",
        "          \"4 s others\"]\n",
        "\n",
        "data = [float(x.split()[0]) for x in recipe]\n",
        "ingredients = [x.split()[-1] for x in recipe]\n",
        "\n",
        "\n",
        "def func(pct, allvals):\n",
        "    absolute = int(pct/100.*np.sum(allvals))\n",
        "    return \"{:.1f}%\\n({:d} s)\".format(pct, absolute)\n",
        "\n",
        "\n",
        "wedges, texts, autotexts = ax.pie(data, autopct=lambda pct: func(pct, data),\n",
        "                                  textprops=dict(color=\"w\"))\n",
        "\n",
        "ax.legend(wedges, ingredients,\n",
        "          title=\"functions\",\n",
        "          loc=\"center left\",\n",
        "          bbox_to_anchor=(1, 0, 0.5, 1))\n",
        "\n",
        "plt.setp(autotexts, size=8, weight=\"bold\")\n",
        "\n",
        "ax.set_title(\"cpu-time: 218 s overall\")\n",
        "\n",
        "plt.show()"
      ],
      "execution_count": null,
      "outputs": [
        {
          "output_type": "display_data",
          "data": {
            "image/png": "[encoded data removed]",
            "text/plain": [
              "<Figure size 1440x720 with 1 Axes>"
            ]
          },
          "metadata": {
            "tags": []
          }
        }
      ]
    },
    {
      "cell_type": "code",
      "metadata": {
        "colab": {
          "base_uri": "https://localhost:8080/",
          "height": 591
        },
        "id": "Upp29_gfQms_",
        "outputId": "770b9a5d-426f-4148-f967-4840aaae804b"
      },
      "source": [
        "fig, ax = plt.subplots(figsize=(20, 10), subplot_kw=dict(aspect=\"equal\"))\n",
        "\n",
        "recipe = [\"112 s sherman-morrison\",\n",
        "          \"1.2 s time-wrap\",\n",
        "          \"0.8 s from-scratch\",\n",
        "          \"3 s others\"]\n",
        "\n",
        "data = [float(x.split()[0]) for x in recipe]\n",
        "ingredients = [x.split()[-1] for x in recipe]\n",
        "\n",
        "\n",
        "def func(pct, allvals):\n",
        "    absolute = int(pct/100.*np.sum(allvals))\n",
        "    return \"{:.1f}%\\n({:d} s)\".format(pct, absolute)\n",
        "\n",
        "\n",
        "wedges, texts, autotexts = ax.pie(data, autopct=lambda pct: func(pct, data),\n",
        "                                  textprops=dict(color=\"w\"))\n",
        "\n",
        "ax.legend(wedges, ingredients,\n",
        "          title=\"functions\",\n",
        "          loc=\"center left\",\n",
        "          bbox_to_anchor=(1, 0, 0.5, 1))\n",
        "\n",
        "plt.setp(autotexts, size=8, weight=\"bold\")\n",
        "\n",
        "ax.set_title(\"gpu-time: 117 s overall\")\n",
        "\n",
        "plt.show()"
      ],
      "execution_count": null,
      "outputs": [
        {
          "output_type": "display_data",
          "data": {
            "image/png": "[encoded data removed]",
            "text/plain": [
              "<Figure size 1440x720 with 1 Axes>"
            ]
          },
          "metadata": {
            "tags": []
          }
        }
      ]
    },
    {
      "cell_type": "code",
      "metadata": {
        "id": "aKkwuj7-ApbE"
      },
      "source": [
        ""
      ],
      "execution_count": null,
      "outputs": []
    },
    {
      "cell_type": "code",
      "metadata": {
        "colab": {
          "base_uri": "https://localhost:8080/"
        },
        "id": "lyTtr9Vn6fmH",
        "outputId": "6724f90e-19ab-45e9-ee8e-271bd5d54e1d"
      },
      "source": [
        "Beta = 1\n",
        "N_time = 10\n",
        "N_s = 10\n",
        "\n",
        "H_0 = make_hopping(10, 1, 1, 1, 1)\n",
        "H_0_measure = H_0.copy()\n",
        "H_0 += np.identity(10 * 1) * ((-1) * 0)\n",
        "H_0 = np.kron(np.array([[1, 0], [0, 1]]), H_0) \n",
        "\n",
        "\n",
        "T_hop = np.concatenate(([1], np.ones(N_time-1))) * (Beta / N_time)\n",
        "U_interact = 1 * np.ones(N_time)\n",
        "sign_U_interact = np.array(np.sign(U_interact))\n",
        "T_u = np.concatenate(([1], np.ones(N_time - 2), [1])) * (Beta / N_time)\n",
        "H0_array = np.array([H_0 for i in range(N_time)])\n",
        "lamda = np.arccosh(np.exp(np.abs(U_interact)*T_u/2))\n",
        "probability = cp.array(np.exp(-(1 - np.sign(U_interact)) * lamda))\n",
        "gamma1 = cp.array(np.exp(-2*lamda)-1)\n",
        "gamma2 = cp.array(np.exp( 2*lamda*sign_U_interact)-1)\n",
        "\n",
        "\n",
        "hs = lamda[:,None]*((-1)**cp.random.randint(2,size=(N_time,N_s)))\n",
        "Bk, Bk_inv = expmk(H0_array.copy(), T_hop.copy())\n",
        "cl = cluster(hs.copy(),Bk.copy(),sign_U_interact.copy())\n",
        "G = from_scratch(cl.copy(),1)\n",
        "I = 1\n",
        "probability_tmp = probability[-1].copy()\n",
        "gamma1_tmp = gamma1[-1].copy()\n",
        "gamma2_tmp = gamma2[-1].copy()\n",
        "G_sher, hs_new, sign_tmp = update(G.copy(), hs.copy(), N_s, probability_tmp, gamma1_tmp, gamma2_tmp)\n",
        "cl2 = cluster(hs_new.copy(),Bk.copy(),sign_U_interact.copy())\n",
        "G_f = from_scratch(cl2.copy(),1)\n",
        "print(np.mean(2* cp.isclose(G_sher,G_f)),hs.shape)\n",
        "sign_partition_accu = I\n",
        "for i in range(1):\n",
        "    # acceptance ratio\n",
        "    if hs[-1,i]<0:\n",
        "        gamma1_tmp, gamma2_tmp = gamma2_tmp, gamma1_tmp\n",
        "\n",
        "    P = (probability_tmp if hs[-1,i]>0 else 1/probability_tmp)\n",
        "    r_1 = (I + gamma1_tmp*(I-G[i,i]))\n",
        "    alpha = G[i+N_s,i+N_s] + gamma1_tmp * G[i+N_s,i] * G[i,i+N_s] / r_1\n",
        "    r_2 = I + gamma2_tmp*(I-alpha)\n",
        "    r = r_1 * r_2 * P\n",
        "    # if cp.abs(r) > cp.random.random():\n",
        "    # update greens \n",
        "    k_1 = -G[:,i][:,None]\n",
        "    k_1[i] += I\n",
        "    G_1 = G - (gamma1_tmp / r_1) * (k_1*G[i,:])\n",
        "    k_2 = -G_1[:,i+N_s][:,None]\n",
        "    k_2[i+N_s] += I\n",
        "    G = G_1 - (gamma2_tmp / r_2) * (k_2*G_1[i+N_s,:])\n",
        "    # sign_partition_accu = cp.sign(r) *sign_partition_accu\n",
        "        # hs[-1,i] = -hs[-1,i].copy()\n"
      ],
      "execution_count": null,
      "outputs": [
        {
          "output_type": "stream",
          "text": [
            "2.0 (10, 10)\n"
          ],
          "name": "stdout"
        }
      ]
    },
    {
      "cell_type": "code",
      "metadata": {
        "colab": {
          "base_uri": "https://localhost:8080/"
        },
        "id": "ggrjTIq7NP0L",
        "outputId": "747cb342-5a46-44f6-81cc-bda2f9866861"
      },
      "source": [
        "type(G)"
      ],
      "execution_count": null,
      "outputs": [
        {
          "output_type": "execute_result",
          "data": {
            "text/plain": [
              "numpy.ndarray"
            ]
          },
          "metadata": {
            "tags": []
          },
          "execution_count": 20
        }
      ]
    },
    {
      "cell_type": "code",
      "metadata": {
        "colab": {
          "base_uri": "https://localhost:8080/"
        },
        "id": "Q8SEZ_apMEWw",
        "outputId": "1b51b07d-35af-4e7e-ce6e-3349e866b73b"
      },
      "source": [
        "import numpy as np\n",
        "for i in range(10):\n",
        "    G = np.random.normal(size=(10,10))\n",
        "    e = np.eye(len(G)) \n",
        "    I = 1\n",
        "    k_1 = -G[:,0][:,None]\n",
        "    k_1[0] += 1\n",
        "    G_1 = k_1*G[0,:]\n",
        "    G_2 = np.outer((e - G)[:,0],G[0,:])\n",
        "    print(np.mean(np.isclose(G_1,G_2)*1))"
      ],
      "execution_count": null,
      "outputs": [
        {
          "output_type": "stream",
          "text": [
            "1.0\n",
            "1.0\n",
            "1.0\n",
            "1.0\n",
            "1.0\n",
            "1.0\n",
            "1.0\n",
            "1.0\n",
            "1.0\n",
            "1.0\n"
          ],
          "name": "stdout"
        }
      ]
    },
    {
      "cell_type": "code",
      "metadata": {
        "colab": {
          "base_uri": "https://localhost:8080/"
        },
        "id": "AWDCmoYAYp2X",
        "outputId": "614f2a11-aa02-4a47-c10c-1289671b762b"
      },
      "source": [
        "import numpy as np\r\n",
        "hs = ((-1)**np.random.randint(2,size=(10, 10)))\r\n",
        "hs"
      ],
      "execution_count": null,
      "outputs": [
        {
          "output_type": "execute_result",
          "data": {
            "text/plain": [
              "array([[ 1, -1, -1, -1, -1,  1,  1, -1,  1,  1],\n",
              "       [-1,  1, -1, -1, -1,  1,  1,  1,  1,  1],\n",
              "       [-1,  1, -1, -1,  1, -1, -1,  1,  1,  1],\n",
              "       [-1,  1,  1,  1, -1,  1, -1, -1, -1,  1],\n",
              "       [ 1, -1,  1,  1,  1, -1,  1,  1, -1,  1],\n",
              "       [ 1, -1,  1, -1, -1,  1, -1,  1, -1,  1],\n",
              "       [-1, -1,  1,  1,  1, -1,  1, -1,  1,  1],\n",
              "       [-1, -1,  1, -1, -1, -1, -1, -1, -1, -1],\n",
              "       [ 1, -1, -1, -1, -1,  1, -1,  1,  1, -1],\n",
              "       [-1,  1,  1, -1,  1, -1,  1,  1, -1,  1]])"
            ]
          },
          "metadata": {
            "tags": []
          },
          "execution_count": 5
        }
      ]
    },
    {
      "cell_type": "code",
      "metadata": {
        "colab": {
          "base_uri": "https://localhost:8080/"
        },
        "id": "2kBB2qEN7hhu",
        "outputId": "3f7008be-2afb-48c5-f92e-314a5f8eff54"
      },
      "source": [
        "np.isclose(Bk[5],expm(-H0_array[5]*T_hop[5]))*1"
      ],
      "execution_count": null,
      "outputs": [
        {
          "output_type": "execute_result",
          "data": {
            "text/plain": [
              "array([[1, 1, 1, 1, 1, 1, 1, 1, 1, 1, 1, 1, 1, 1, 1, 1, 1, 1, 1, 1],\n",
              "       [1, 1, 1, 1, 1, 1, 1, 1, 1, 1, 1, 1, 1, 1, 1, 1, 1, 1, 1, 1],\n",
              "       [1, 1, 1, 1, 1, 1, 1, 1, 1, 1, 1, 1, 1, 1, 1, 1, 1, 1, 1, 1],\n",
              "       [1, 1, 1, 1, 1, 1, 1, 1, 1, 1, 1, 1, 1, 1, 1, 1, 1, 1, 1, 1],\n",
              "       [1, 1, 1, 1, 1, 1, 1, 1, 1, 1, 1, 1, 1, 1, 1, 1, 1, 1, 1, 1],\n",
              "       [1, 1, 1, 1, 1, 1, 1, 1, 1, 1, 1, 1, 1, 1, 1, 1, 1, 1, 1, 1],\n",
              "       [1, 1, 1, 1, 1, 1, 1, 1, 1, 1, 1, 1, 1, 1, 1, 1, 1, 1, 1, 1],\n",
              "       [1, 1, 1, 1, 1, 1, 1, 1, 1, 1, 1, 1, 1, 1, 1, 1, 1, 1, 1, 1],\n",
              "       [1, 1, 1, 1, 1, 1, 1, 1, 1, 1, 1, 1, 1, 1, 1, 1, 1, 1, 1, 1],\n",
              "       [1, 1, 1, 1, 1, 1, 1, 1, 1, 1, 1, 1, 1, 1, 1, 1, 1, 1, 1, 1],\n",
              "       [1, 1, 1, 1, 1, 1, 1, 1, 1, 1, 1, 1, 1, 1, 1, 1, 1, 1, 1, 1],\n",
              "       [1, 1, 1, 1, 1, 1, 1, 1, 1, 1, 1, 1, 1, 1, 1, 1, 1, 1, 1, 1],\n",
              "       [1, 1, 1, 1, 1, 1, 1, 1, 1, 1, 1, 1, 1, 1, 1, 1, 1, 1, 1, 1],\n",
              "       [1, 1, 1, 1, 1, 1, 1, 1, 1, 1, 1, 1, 1, 1, 1, 1, 1, 1, 1, 1],\n",
              "       [1, 1, 1, 1, 1, 1, 1, 1, 1, 1, 1, 1, 1, 1, 1, 1, 1, 1, 1, 1],\n",
              "       [1, 1, 1, 1, 1, 1, 1, 1, 1, 1, 1, 1, 1, 1, 1, 1, 1, 1, 1, 1],\n",
              "       [1, 1, 1, 1, 1, 1, 1, 1, 1, 1, 1, 1, 1, 1, 1, 1, 1, 1, 1, 1],\n",
              "       [1, 1, 1, 1, 1, 1, 1, 1, 1, 1, 1, 1, 1, 1, 1, 1, 1, 1, 1, 1],\n",
              "       [1, 1, 1, 1, 1, 1, 1, 1, 1, 1, 1, 1, 1, 1, 1, 1, 1, 1, 1, 1],\n",
              "       [1, 1, 1, 1, 1, 1, 1, 1, 1, 1, 1, 1, 1, 1, 1, 1, 1, 1, 1, 1]])"
            ]
          },
          "metadata": {
            "tags": []
          },
          "execution_count": 3
        }
      ]
    },
    {
      "cell_type": "code",
      "metadata": {
        "colab": {
          "base_uri": "https://localhost:8080/"
        },
        "id": "4NHnoVPH_ZMk",
        "outputId": "e5895c9d-27de-4004-a259-44db7e998f8c"
      },
      "source": [
        "np.isclose(cl[0],Bk[0].dot(np.diag(np.exp(np.concatenate([hs[0,:],-hs[0,:]])))))*1"
      ],
      "execution_count": null,
      "outputs": [
        {
          "output_type": "execute_result",
          "data": {
            "text/plain": [
              "array([[1, 1, 1, 1, 1, 1, 1, 1, 1, 1, 1, 1, 1, 1, 1, 1, 1, 1, 1, 1],\n",
              "       [1, 1, 1, 1, 1, 1, 1, 1, 1, 1, 1, 1, 1, 1, 1, 1, 1, 1, 1, 1],\n",
              "       [1, 1, 1, 1, 1, 1, 1, 1, 1, 1, 1, 1, 1, 1, 1, 1, 1, 1, 1, 1],\n",
              "       [1, 1, 1, 1, 1, 1, 1, 1, 1, 1, 1, 1, 1, 1, 1, 1, 1, 1, 1, 1],\n",
              "       [1, 1, 1, 1, 1, 1, 1, 1, 1, 1, 1, 1, 1, 1, 1, 1, 1, 1, 1, 1],\n",
              "       [1, 1, 1, 1, 1, 1, 1, 1, 1, 1, 1, 1, 1, 1, 1, 1, 1, 1, 1, 1],\n",
              "       [1, 1, 1, 1, 1, 1, 1, 1, 1, 1, 1, 1, 1, 1, 1, 1, 1, 1, 1, 1],\n",
              "       [1, 1, 1, 1, 1, 1, 1, 1, 1, 1, 1, 1, 1, 1, 1, 1, 1, 1, 1, 1],\n",
              "       [1, 1, 1, 1, 1, 1, 1, 1, 1, 1, 1, 1, 1, 1, 1, 1, 1, 1, 1, 1],\n",
              "       [1, 1, 1, 1, 1, 1, 1, 1, 1, 1, 1, 1, 1, 1, 1, 1, 1, 1, 1, 1],\n",
              "       [1, 1, 1, 1, 1, 1, 1, 1, 1, 1, 1, 1, 1, 1, 1, 1, 1, 1, 1, 1],\n",
              "       [1, 1, 1, 1, 1, 1, 1, 1, 1, 1, 1, 1, 1, 1, 1, 1, 1, 1, 1, 1],\n",
              "       [1, 1, 1, 1, 1, 1, 1, 1, 1, 1, 1, 1, 1, 1, 1, 1, 1, 1, 1, 1],\n",
              "       [1, 1, 1, 1, 1, 1, 1, 1, 1, 1, 1, 1, 1, 1, 1, 1, 1, 1, 1, 1],\n",
              "       [1, 1, 1, 1, 1, 1, 1, 1, 1, 1, 1, 1, 1, 1, 1, 1, 1, 1, 1, 1],\n",
              "       [1, 1, 1, 1, 1, 1, 1, 1, 1, 1, 1, 1, 1, 1, 1, 1, 1, 1, 1, 1],\n",
              "       [1, 1, 1, 1, 1, 1, 1, 1, 1, 1, 1, 1, 1, 1, 1, 1, 1, 1, 1, 1],\n",
              "       [1, 1, 1, 1, 1, 1, 1, 1, 1, 1, 1, 1, 1, 1, 1, 1, 1, 1, 1, 1],\n",
              "       [1, 1, 1, 1, 1, 1, 1, 1, 1, 1, 1, 1, 1, 1, 1, 1, 1, 1, 1, 1],\n",
              "       [1, 1, 1, 1, 1, 1, 1, 1, 1, 1, 1, 1, 1, 1, 1, 1, 1, 1, 1, 1]])"
            ]
          },
          "metadata": {
            "tags": []
          },
          "execution_count": 4
        }
      ]
    },
    {
      "cell_type": "code",
      "metadata": {
        "colab": {
          "base_uri": "https://localhost:8080/"
        },
        "id": "hzEY_GndAQxx",
        "outputId": "ab57528a-05f5-49d6-e351-8e9436defc68"
      },
      "source": [
        "a = cl[0]\n",
        "for i in range(1,len(cl)):\n",
        "    a = a.dot(cl[i])\n",
        "np.isclose(from_scratch(cl.copy(),1),np.linalg.inv(np.eye(len(a)) + a))*1"
      ],
      "execution_count": null,
      "outputs": [
        {
          "output_type": "execute_result",
          "data": {
            "text/plain": [
              "array([[1, 1, 1, 1, 1, 1, 1, 1, 1, 1, 1, 1, 1, 1, 1, 1, 1, 1, 1, 1],\n",
              "       [1, 1, 1, 1, 1, 1, 1, 1, 1, 1, 1, 1, 1, 1, 1, 1, 1, 1, 1, 1],\n",
              "       [1, 1, 1, 1, 1, 1, 1, 1, 1, 1, 1, 1, 1, 1, 1, 1, 1, 1, 1, 1],\n",
              "       [1, 1, 1, 1, 1, 1, 1, 1, 1, 1, 1, 1, 1, 1, 1, 1, 1, 1, 1, 1],\n",
              "       [1, 1, 1, 1, 1, 1, 1, 1, 1, 1, 1, 1, 1, 1, 1, 1, 1, 1, 1, 1],\n",
              "       [1, 1, 1, 1, 1, 1, 1, 1, 1, 1, 1, 1, 1, 1, 1, 1, 1, 1, 1, 1],\n",
              "       [1, 1, 1, 1, 1, 1, 1, 1, 1, 1, 1, 1, 1, 1, 1, 1, 1, 1, 1, 1],\n",
              "       [1, 1, 1, 1, 1, 1, 1, 1, 1, 1, 1, 1, 1, 1, 1, 1, 1, 1, 1, 1],\n",
              "       [1, 1, 1, 1, 1, 1, 1, 1, 1, 1, 1, 1, 1, 1, 1, 1, 1, 1, 1, 1],\n",
              "       [1, 1, 1, 1, 1, 1, 1, 1, 1, 1, 1, 1, 1, 1, 1, 1, 1, 1, 1, 1],\n",
              "       [1, 1, 1, 1, 1, 1, 1, 1, 1, 1, 1, 1, 1, 1, 1, 1, 1, 1, 1, 1],\n",
              "       [1, 1, 1, 1, 1, 1, 1, 1, 1, 1, 1, 1, 1, 1, 1, 1, 1, 1, 1, 1],\n",
              "       [1, 1, 1, 1, 1, 1, 1, 1, 1, 1, 1, 1, 1, 1, 1, 1, 1, 1, 1, 1],\n",
              "       [1, 1, 1, 1, 1, 1, 1, 1, 1, 1, 1, 1, 1, 1, 1, 1, 1, 1, 1, 1],\n",
              "       [1, 1, 1, 1, 1, 1, 1, 1, 1, 1, 1, 1, 1, 1, 1, 1, 1, 1, 1, 1],\n",
              "       [1, 1, 1, 1, 1, 1, 1, 1, 1, 1, 1, 1, 1, 1, 1, 1, 1, 1, 1, 1],\n",
              "       [1, 1, 1, 1, 1, 1, 1, 1, 1, 1, 1, 1, 1, 1, 1, 1, 1, 1, 1, 1],\n",
              "       [1, 1, 1, 1, 1, 1, 1, 1, 1, 1, 1, 1, 1, 1, 1, 1, 1, 1, 1, 1],\n",
              "       [1, 1, 1, 1, 1, 1, 1, 1, 1, 1, 1, 1, 1, 1, 1, 1, 1, 1, 1, 1],\n",
              "       [1, 1, 1, 1, 1, 1, 1, 1, 1, 1, 1, 1, 1, 1, 1, 1, 1, 1, 1, 1]])"
            ]
          },
          "metadata": {
            "tags": []
          },
          "execution_count": 5
        }
      ]
    },
    {
      "cell_type": "code",
      "metadata": {
        "colab": {
          "base_uri": "https://localhost:8080/"
        },
        "id": "W7oDt9oXDABr",
        "outputId": "41d134a9-f514-4acc-dfc8-6cd5616303af"
      },
      "source": [
        "hs[-1,0]"
      ],
      "execution_count": null,
      "outputs": [
        {
          "output_type": "execute_result",
          "data": {
            "text/plain": [
              "0.31886946750622885"
            ]
          },
          "metadata": {
            "tags": []
          },
          "execution_count": 11
        }
      ]
    },
    {
      "cell_type": "code",
      "metadata": {
        "id": "oHVm5iDTCkhF"
      },
      "source": [
        "hs[-1,0] = hs[-1,0].copy()\n",
        "cl2 = cluster(hs.copy(),Bk.copy(),sign_U_interact.copy())\n",
        "G_f = from_scratch(cl2.copy(),1)"
      ],
      "execution_count": null,
      "outputs": []
    },
    {
      "cell_type": "code",
      "metadata": {
        "colab": {
          "base_uri": "https://localhost:8080/"
        },
        "id": "qDYbcXmQCw3Z",
        "outputId": "193f8dcd-fe04-46e0-ca46-567f5e5099af"
      },
      "source": [
        "np.isclose(G_f,G)*1"
      ],
      "execution_count": null,
      "outputs": [
        {
          "output_type": "execute_result",
          "data": {
            "text/plain": [
              "array([[0, 0, 0, 0, 0, 0, 0, 0, 0, 0, 1, 1, 1, 1, 1, 1, 1, 1, 1, 1],\n",
              "       [0, 0, 0, 0, 0, 0, 0, 0, 0, 0, 1, 1, 1, 1, 1, 1, 1, 1, 1, 1],\n",
              "       [0, 0, 0, 0, 0, 0, 0, 0, 0, 0, 1, 1, 1, 1, 1, 1, 1, 1, 1, 1],\n",
              "       [0, 0, 0, 0, 0, 0, 0, 0, 0, 0, 1, 1, 1, 1, 1, 1, 1, 1, 1, 1],\n",
              "       [0, 0, 0, 0, 0, 0, 0, 0, 0, 0, 1, 1, 1, 1, 1, 1, 1, 1, 1, 1],\n",
              "       [0, 0, 0, 0, 0, 0, 0, 0, 0, 0, 1, 1, 1, 1, 1, 1, 1, 1, 1, 1],\n",
              "       [0, 0, 0, 0, 0, 0, 0, 0, 0, 0, 1, 1, 1, 1, 1, 1, 1, 1, 1, 1],\n",
              "       [0, 0, 0, 0, 0, 0, 0, 0, 0, 0, 1, 1, 1, 1, 1, 1, 1, 1, 1, 1],\n",
              "       [0, 0, 0, 0, 0, 0, 0, 0, 0, 0, 1, 1, 1, 1, 1, 1, 1, 1, 1, 1],\n",
              "       [0, 0, 0, 0, 0, 0, 0, 0, 0, 0, 1, 1, 1, 1, 1, 1, 1, 1, 1, 1],\n",
              "       [1, 1, 1, 1, 1, 1, 1, 1, 1, 1, 0, 0, 0, 0, 0, 0, 0, 0, 0, 0],\n",
              "       [1, 1, 1, 1, 1, 1, 1, 1, 1, 1, 0, 0, 0, 0, 0, 0, 0, 0, 0, 0],\n",
              "       [1, 1, 1, 1, 1, 1, 1, 1, 1, 1, 0, 0, 0, 0, 0, 0, 0, 0, 0, 0],\n",
              "       [1, 1, 1, 1, 1, 1, 1, 1, 1, 1, 0, 0, 0, 0, 0, 0, 0, 0, 0, 0],\n",
              "       [1, 1, 1, 1, 1, 1, 1, 1, 1, 1, 0, 0, 0, 0, 0, 0, 0, 0, 0, 0],\n",
              "       [1, 1, 1, 1, 1, 1, 1, 1, 1, 1, 0, 0, 0, 0, 0, 1, 0, 0, 0, 0],\n",
              "       [1, 1, 1, 1, 1, 1, 1, 1, 1, 1, 0, 0, 0, 0, 0, 0, 0, 0, 0, 0],\n",
              "       [1, 1, 1, 1, 1, 1, 1, 1, 1, 1, 0, 0, 0, 0, 0, 0, 0, 0, 0, 0],\n",
              "       [1, 1, 1, 1, 1, 1, 1, 1, 1, 1, 0, 0, 0, 0, 0, 0, 0, 0, 0, 0],\n",
              "       [1, 1, 1, 1, 1, 1, 1, 1, 1, 1, 0, 0, 0, 0, 0, 0, 0, 0, 0, 0]])"
            ]
          },
          "metadata": {
            "tags": []
          },
          "execution_count": 13
        }
      ]
    },
    {
      "cell_type": "code",
      "metadata": {
        "id": "9439k9kogR3X"
      },
      "source": [
        "def make_hopping(n_x, n_y, periodic_x, periodic_y, tunneling):\n",
        "    hopping_matrix = np.zeros((n_y * n_x, n_y * n_x))\n",
        "    if n_y == 1:\n",
        "        periodic_y = 0\n",
        "    if n_x == 1:\n",
        "        periodic_x = 0\n",
        " \n",
        "    if n_x == 2:\n",
        "        periodic_x = 1\n",
        "    if n_y == 2:\n",
        "        periodic_y = 1\n",
        " \n",
        "    for j in range(n_x):\n",
        "        for i in range(n_y):\n",
        "            neighbour_1 = n_y * ((j + 1) % n_x) + i\n",
        "            neighbour_2 = n_y * ((j - 1) % n_x) + i\n",
        "            neighbour_3 = n_y * j + (i + 1) % n_y\n",
        "            neighbour_4 = n_y * j + (i - 1) % n_y\n",
        " \n",
        "            hopping_matrix[n_y * j + i][neighbour_1] = -1\n",
        "            hopping_matrix[n_y * j + i][neighbour_2] = -1\n",
        "            hopping_matrix[n_y * j + i][neighbour_3] = -1\n",
        "            hopping_matrix[n_y * j + i][neighbour_4] = -1\n",
        " \n",
        "            if i == 0:\n",
        "                hopping_matrix[n_y * j + i][neighbour_4] *= periodic_y\n",
        "            if i == n_y - 1:\n",
        "                hopping_matrix[n_y * j + i][neighbour_3] *= periodic_y\n",
        "            if j == 0:\n",
        "                hopping_matrix[n_y * j + i][neighbour_2] *= periodic_x\n",
        "            if j == n_x - 1:\n",
        "                hopping_matrix[n_y * j + i][neighbour_1] *= periodic_x\n",
        " \n",
        "    hopping_matrix *= tunneling\n",
        "    return hopping_matrix\n",
        " \n",
        " \n",
        "def QR(z,I):\n",
        "    Q = I\n",
        "    D = cp.diag(I)\n",
        "    T = I\n",
        " \n",
        "    for i in range(len(z)):\n",
        "        A = (z[len(z) - i - 1]).dot(Q*D)\n",
        "        Q, R = cp.linalg.qr(A)\n",
        "        D = cp.diag(R)\n",
        "        T_prime = R / D[:,None]\n",
        "        T = T_prime.dot(T)\n",
        " \n",
        "    return Q, D, T\n",
        " \n",
        " \n",
        " \n",
        "def QR_prime(z, n):\n",
        "    len_z,len_z0,_ = z.shape\n",
        "    m = len_z // n\n",
        "    if len_z % n != 0:\n",
        "        m += 1\n",
        "    z_0 = cp.empty((m,len_z0,len_z0))\n",
        "    A0 = cp.eye(len_z0)\n",
        "    A = A0\n",
        "    for i in range(len_z):\n",
        "        A = A.dot(z[i])\n",
        "        if i%n == n-1:\n",
        "            z_0[int(i/n),...] = A\n",
        "            A = A0\n",
        "    if len(z) % n != 0:\n",
        "        z_0[int(i/n),...] = A\n",
        "    # print(z_0)\n",
        "    usvh = QR(z_0.copy(),A0.copy())\n",
        " \n",
        "    return usvh[0], usvh[1], usvh[2]\n",
        " \n",
        " \n",
        " \n",
        "def invers(Q, D, T):\n",
        "    D_p = cp.where(cp.abs(D)>1,1,D)\n",
        "    D_m = cp.where(cp.abs(D)<1,1,D)\n",
        "    A1 = cp.conj(Q.T)/D_p[:,None] + D_m[:,None]*T\n",
        "    A2 = 1/D_p\n",
        "    A3 = cp.conj(Q.T)\n",
        "    g = (cp.linalg.inv(A1)*A2).dot(A3)\n",
        "    \n",
        "    return g\n",
        " \n",
        " \n",
        "def update(G, hs, N_s, probability_tmp, gamma1_tmp, gamma2_tmp, I):\n",
        "    sign_partition_accu = I\n",
        "    for i in range(N_s):\n",
        "        # acceptance ratio\n",
        "        if hs[-1,i]<0:\n",
        "            gamma1_tmp, gamma2_tmp = gamma2_tmp, gamma1_tmp\n",
        " \n",
        "        P = (probability_tmp if hs[-1,i]>0 else 1/probability_tmp)\n",
        "        r_1 = (I + gamma1_tmp*(I-G[i,i]))\n",
        "        alpha = G[i+N_s,i+N_s] + gamma1_tmp * G[i+N_s,i] * G[i,i+N_s] / r_1\n",
        "        r_2 = I + gamma2_tmp*(I-alpha)\n",
        "        r = r_1 * r_2 * P\n",
        "        if cp.abs(r) > cp.random.random():\n",
        "        # update greens \n",
        "            k_1 = -G[:,i][:,None]\n",
        "            k_1[i] += I\n",
        "            G_1 = G - (gamma1_tmp / r_1) * (k_1*G[i,:])\n",
        "            k_2 = -G_1[:,i+N_s][:,None]\n",
        "            k_2[i+N_s] += I\n",
        "            G = G_1 - (gamma2_tmp / r_2) * (k_2*G_1[i+N_s,:])\n",
        "            sign_partition_accu = cp.sign(r) *sign_partition_accu\n",
        "            hs[-1,i] = -hs[-1,i]\n",
        " \n",
        "    return G, hs, sign_partition_accu\n",
        " \n",
        "def time_wrap(G, Bk, Bk_inv, h, cl, sign_U_interact,probability, gamma1, gamma2):\n",
        "    B = Bk[-1].dot(cp.diag(cp.exp(cp.concatenate([h[-1,:],-sign_U_interact[-1]*h[-1,:]]))))\n",
        "    B_inv = cp.diag(cp.exp(-cp.concatenate([h[-1,:],-sign_U_interact[-1]*h[-1,:]]))).dot(Bk_inv[-1])\n",
        "    G = B.dot(G).dot(B_inv)\n",
        "    cl[-1]= B\n",
        " \n",
        "    h = cp.roll(h,1,axis = 0)\n",
        "    Bk = cp.roll(Bk,1,axis = 0)\n",
        "    Bk_inv = cp.roll(Bk_inv,1,axis = 0)\n",
        "    cl = cp.roll(cl,1,axis = 0)\n",
        "    probability = cp.roll(probability,1,axis = 0)\n",
        "    gamma1 = cp.roll(gamma1,1,axis = 0)\n",
        "    gamma2 = cp.roll(gamma2,1,axis = 0)\n",
        "    sign_U_interact = cp.roll(sign_U_interact,1,axis = 0)\n",
        "    return G, Bk, Bk_inv, h, cl, sign_U_interact, probability, gamma1, gamma2\n",
        " \n",
        "def cluster(h,Bk,sign_U_interact):\n",
        "    cl = []\n",
        "    for i in range(h.shape[0]):\n",
        "        cl.append(Bk[i].dot(cp.diag(cp.exp(cp.concatenate([h[i,:],-sign_U_interact[i]*h[i,:]])))))\n",
        "    cl = cp.array(cl)\n",
        "    return cl\n",
        " \n",
        "def init_trotter(Beta,N_time,U_eff,H0):\n",
        "    T_hop = np.concatenate(([1], np.ones(N_time-1))) * (Beta / N_time)\n",
        "    U_interact = U_eff * np.ones(N_time)\n",
        "    sign_U_interact = np.array(np.sign(U_interact))\n",
        "    T_u = np.concatenate(([1], np.ones(N_time - 2), [1])) * (Beta / N_time)\n",
        "    H0_array = np.array([H0 for i in range(N_time)])\n",
        "    lamda = np.arccosh(np.exp(np.abs(U_interact)*T_u/2))\n",
        "    probability = cp.array(np.exp(-(1 - np.sign(U_interact)) * lamda))\n",
        "    gamma1 = cp.array(np.exp(-2*lamda)-1)\n",
        "    gamma2 = cp.array(np.exp( 2*lamda*sign_U_interact)-1)\n",
        "    return cp.array(sign_U_interact), T_hop, H0_array, cp.array(lamda), probability, gamma1, gamma2\n",
        " \n",
        "def expmk(H0_array, T_hop): #cpu\n",
        "    Bk = []\n",
        "    Bk_inv = []\n",
        "    for i in range(len(T_hop)):\n",
        "        Bk.append(expm(-H0_array[i]*T_hop[i]))\n",
        "        Bk_inv.append(expm(H0_array[i]*T_hop[i]))\n",
        "    Bk = cp.array(Bk)\n",
        "    Bk_inv = cp.array(Bk_inv)\n",
        "    return Bk, Bk_inv\n",
        " \n",
        " \n",
        "def from_scratch(cl,n_qr):\n",
        "    Q,D,T = QR_prime(cl.copy(), n_qr)\n",
        "    G = invers(Q, D, T)\n",
        "    return G\n",
        " \n",
        "def main():\n",
        " \n",
        "    pass\n",
        "def measure():\n",
        "    pass"
      ],
      "execution_count": null,
      "outputs": []
    },
    {
      "cell_type": "code",
      "metadata": {
        "colab": {
          "base_uri": "https://localhost:8080/"
        },
        "id": "NLmQgLCaPvA3",
        "outputId": "d12bc5a4-594a-44ed-f390-dae05a524790"
      },
      "source": [
        "# Set model.\n",
        "X_dimension = 10\n",
        "Y_dimension = 1\n",
        "N_s = X_dimension * Y_dimension \n",
        "periodic_X = 1\n",
        "periodic_Y = 1\n",
        "tunneling = 1\n",
        "U = 4\n",
        "chemical_potential = 0  # half filling 0\n",
        "n_markov = 1\n",
        "N_sw_measure = 1\n",
        "N_warm_up = N_sw_measure // 5\n",
        "N_from_scratch = 10\n",
        "N_qr = 10  # default = 2 * N_from_scratch\n",
        "# type_of_mul = 1  # 1 = svd  ,0 = QR\n",
        "# done\n",
        " \n",
        "# Set generalized trotter\n",
        "Beta = 2\n",
        "N_time = 10\n",
        "U_eff =  U\n",
        " \n",
        "# making tunneling Hamiltonian matrix\n",
        "H_0 = make_hopping(X_dimension, Y_dimension, periodic_X, periodic_Y, tunneling)\n",
        "H_0_measure = H_0.copy()\n",
        "H_0 += np.identity(X_dimension * Y_dimension) * ((-1) * chemical_potential)\n",
        "H_0 = np.kron(np.array([[1, 0], [0, 1]]), H_0) \n",
        " \n",
        "filling_mar = cp.zeros(n_markov)\n",
        "kinetic_mar = cp.zeros(n_markov)\n",
        "interaction_mar = cp.zeros(n_markov)\n",
        "sign_mar = cp.zeros(n_markov)\n",
        "I = cp.array(1)\n",
        "sign_U_interact, T_hop, H0_array, lamda, probability, gamma1, gamma2 = init_trotter(Beta,N_time,U_eff,H_0)\n",
        "Bk, Bk_inv = expmk(H0_array.copy(), T_hop.copy())\n",
        "for markov in range(n_markov):\n",
        "    \n",
        "    hs = lamda[:,None]*((-1)**cp.random.randint(2,size=(N_time,N_s)))\n",
        "    cl = cluster(hs.copy(),Bk.copy(),sign_U_interact.copy())\n",
        "    G = from_scratch(cl.copy(),N_qr)\n",
        "#    print(G[0,0],\"clus\")\n",
        "    G_msr = 0\n",
        "    sign = 0\n",
        "    N_measure = 0\n",
        "    for msr in range(N_sw_measure+N_warm_up):\n",
        "        print(msr)\n",
        "        for l in range(N_time):\n",
        " \n",
        "            probability_tmp = probability[-1].copy()\n",
        "            gamma1_tmp = gamma1[-1].copy()\n",
        "            gamma2_tmp = gamma2[-1].copy()\n",
        "            G, hs, sign_tmp = update(G.copy(), hs.copy(), N_s, probability_tmp, gamma1_tmp, gamma2_tmp, I)\n",
        "            cl = cluster(hs.copy(),Bk.copy(),sign_U_interact.copy())\n",
        "            G_f = from_scratch(cl.copy(),N_qr)\n",
        "            print(2* cp.isclose(G,G_f))\n",
        "            G, Bk, Bk_inv, hs, cl, sign_U_interact,probability, gamma1, gamma2 = time_wrap(G.copy(), Bk.copy(), Bk_inv.copy(), hs.copy(), cl.copy(), sign_U_interact.copy(),probability.copy(), gamma1.copy(), gamma2.copy())\n",
        "\n",
        "            if l%N_from_scratch == 0:\n",
        "                G = from_scratch(cl.copy(),N_qr)\n",
        "        if msr> N_warm_up:\n",
        "            N_measure +=1\n",
        "            G_msr += G"
      ],
      "execution_count": null,
      "outputs": [
        {
          "output_type": "stream",
          "text": [
            "0\n",
            "[[0 0 0 0 0 0 0 0 0 0 2 2 2 2 2 2 2 2 2 2]\n",
            " [0 0 0 0 0 0 0 0 0 0 2 2 2 2 2 2 2 2 2 2]\n",
            " [0 0 0 0 0 0 0 0 0 0 2 2 2 2 2 2 2 2 2 2]\n",
            " [0 0 0 0 0 0 0 0 0 0 2 2 2 2 2 2 2 2 2 2]\n",
            " [0 0 0 0 0 0 0 0 0 0 2 2 2 2 2 2 2 2 2 2]\n",
            " [0 0 0 0 0 0 0 0 0 0 2 2 2 2 2 2 2 2 2 2]\n",
            " [0 0 0 0 0 0 0 0 0 0 2 2 2 2 2 2 2 2 2 2]\n",
            " [0 0 0 0 0 0 0 0 0 0 2 2 2 2 2 2 2 2 2 2]\n",
            " [0 0 0 0 0 0 0 0 0 0 2 2 2 2 2 2 2 2 2 2]\n",
            " [0 0 0 0 0 0 0 0 0 0 2 2 2 2 2 2 2 2 2 2]\n",
            " [2 2 2 2 2 2 2 2 2 2 0 0 0 0 0 0 0 0 0 0]\n",
            " [2 2 2 2 2 2 2 2 2 2 0 0 0 0 0 0 0 0 0 0]\n",
            " [2 2 2 2 2 2 2 2 2 2 0 0 0 0 0 0 0 0 0 0]\n",
            " [2 2 2 2 2 2 2 2 2 2 0 0 0 0 0 0 0 0 0 0]\n",
            " [2 2 2 2 2 2 2 2 2 2 0 0 0 0 0 0 0 0 0 0]\n",
            " [2 2 2 2 2 2 2 2 2 2 0 0 0 0 0 0 0 0 0 0]\n",
            " [2 2 2 2 2 2 2 2 2 2 0 0 0 0 0 0 0 0 0 0]\n",
            " [2 2 2 2 2 2 2 2 2 2 0 0 0 0 0 0 0 0 0 0]\n",
            " [2 2 2 2 2 2 2 2 2 2 0 0 0 0 0 0 0 0 0 0]\n",
            " [2 2 2 2 2 2 2 2 2 2 0 0 0 0 0 0 0 0 0 0]]\n",
            "[[0 0 0 0 0 0 0 0 0 0 2 2 2 2 2 2 2 2 2 2]\n",
            " [0 0 0 0 0 0 0 0 0 0 2 2 2 2 2 2 2 2 2 2]\n",
            " [0 0 0 0 0 0 0 0 0 0 2 2 2 2 2 2 2 2 2 2]\n",
            " [0 0 0 0 0 0 0 0 0 0 2 2 2 2 2 2 2 2 2 2]\n",
            " [0 0 0 0 0 0 0 0 0 0 2 2 2 2 2 2 2 2 2 2]\n",
            " [0 0 0 0 0 0 0 0 0 0 2 2 2 2 2 2 2 2 2 2]\n",
            " [0 0 0 0 0 0 0 0 0 0 2 2 2 2 2 2 2 2 2 2]\n",
            " [0 0 0 0 0 0 0 0 0 0 2 2 2 2 2 2 2 2 2 2]\n",
            " [0 0 0 0 0 0 0 0 0 0 2 2 2 2 2 2 2 2 2 2]\n",
            " [0 0 0 0 0 0 0 0 0 0 2 2 2 2 2 2 2 2 2 2]\n",
            " [2 2 2 2 2 2 2 2 2 2 0 0 0 0 0 0 0 0 0 0]\n",
            " [2 2 2 2 2 2 2 2 2 2 0 0 0 0 0 0 0 0 0 0]\n",
            " [2 2 2 2 2 2 2 2 2 2 0 0 0 0 0 0 0 0 0 0]\n",
            " [2 2 2 2 2 2 2 2 2 2 0 0 0 0 0 0 0 0 0 0]\n",
            " [2 2 2 2 2 2 2 2 2 2 0 0 0 0 0 0 0 0 0 0]\n",
            " [2 2 2 2 2 2 2 2 2 2 0 0 0 0 0 0 0 0 0 0]\n",
            " [2 2 2 2 2 2 2 2 2 2 0 0 0 0 0 0 0 0 0 0]\n",
            " [2 2 2 2 2 2 2 2 2 2 0 0 0 0 0 0 0 0 0 0]\n",
            " [2 2 2 2 2 2 2 2 2 2 0 0 0 0 0 0 0 0 0 0]\n",
            " [2 2 2 2 2 2 2 2 2 2 0 0 0 0 0 0 0 0 0 0]]\n",
            "[[0 0 0 0 0 0 0 0 0 0 2 2 2 2 2 2 2 2 2 2]\n",
            " [0 0 0 0 0 0 0 0 0 0 2 2 2 2 2 2 2 2 2 2]\n",
            " [0 0 0 0 0 0 0 0 0 0 2 2 2 2 2 2 2 2 2 2]\n",
            " [0 0 0 0 0 0 0 0 0 0 2 2 2 2 2 2 2 2 2 2]\n",
            " [0 0 0 0 0 0 0 0 0 0 2 2 2 2 2 2 2 2 2 2]\n",
            " [0 0 0 0 0 0 0 0 0 0 2 2 2 2 2 2 2 2 2 2]\n",
            " [0 0 0 0 0 0 0 0 0 0 2 2 2 2 2 2 2 2 2 2]\n",
            " [0 0 0 0 0 0 0 0 0 0 2 2 2 2 2 2 2 2 2 2]\n",
            " [0 0 0 0 0 0 0 0 0 0 2 2 2 2 2 2 2 2 2 2]\n",
            " [0 0 0 0 0 0 0 0 0 0 2 2 2 2 2 2 2 2 2 2]\n",
            " [2 2 2 2 2 2 2 2 2 2 0 0 0 0 0 0 0 0 0 0]\n",
            " [2 2 2 2 2 2 2 2 2 2 0 0 0 0 0 0 0 0 0 0]\n",
            " [2 2 2 2 2 2 2 2 2 2 0 0 0 0 0 0 0 0 0 0]\n",
            " [2 2 2 2 2 2 2 2 2 2 0 0 0 0 0 0 0 0 0 0]\n",
            " [2 2 2 2 2 2 2 2 2 2 0 0 0 0 0 0 0 0 0 0]\n",
            " [2 2 2 2 2 2 2 2 2 2 0 0 0 0 0 0 0 0 0 0]\n",
            " [2 2 2 2 2 2 2 2 2 2 0 0 0 0 0 0 0 0 0 0]\n",
            " [2 2 2 2 2 2 2 2 2 2 0 0 0 0 0 0 0 0 0 0]\n",
            " [2 2 2 2 2 2 2 2 2 2 0 0 0 0 0 0 0 0 0 0]\n",
            " [2 2 2 2 2 2 2 2 2 2 0 0 0 0 0 0 0 0 0 0]]\n",
            "[[0 0 0 0 0 0 0 0 0 0 2 2 2 2 2 2 2 2 2 2]\n",
            " [0 0 0 0 0 0 0 0 0 0 2 2 2 2 2 2 2 2 2 2]\n",
            " [0 0 0 0 0 0 0 0 0 0 2 2 2 2 2 2 2 2 2 2]\n",
            " [0 0 0 0 0 0 0 0 0 0 2 2 2 2 2 2 2 2 2 2]\n",
            " [0 0 0 0 0 0 0 0 0 0 2 2 2 2 2 2 2 2 2 2]\n",
            " [0 0 0 0 0 0 0 0 0 0 2 2 2 2 2 2 2 2 2 2]\n",
            " [0 0 0 0 0 0 0 0 0 0 2 2 2 2 2 2 2 2 2 2]\n",
            " [0 0 0 0 0 0 0 0 0 0 2 2 2 2 2 2 2 2 2 2]\n",
            " [0 0 0 0 0 0 0 0 0 0 2 2 2 2 2 2 2 2 2 2]\n",
            " [0 0 0 0 0 0 0 0 0 0 2 2 2 2 2 2 2 2 2 2]\n",
            " [2 2 2 2 2 2 2 2 2 2 0 0 0 0 0 0 0 0 0 0]\n",
            " [2 2 2 2 2 2 2 2 2 2 0 0 0 0 0 0 0 0 0 0]\n",
            " [2 2 2 2 2 2 2 2 2 2 0 0 0 0 0 0 0 0 0 0]\n",
            " [2 2 2 2 2 2 2 2 2 2 0 0 0 0 0 0 0 0 0 0]\n",
            " [2 2 2 2 2 2 2 2 2 2 0 0 0 0 0 0 0 0 0 0]\n",
            " [2 2 2 2 2 2 2 2 2 2 0 0 0 0 0 0 0 0 0 0]\n",
            " [2 2 2 2 2 2 2 2 2 2 0 0 0 0 0 0 0 0 0 0]\n",
            " [2 2 2 2 2 2 2 2 2 2 0 0 0 0 0 0 0 0 0 0]\n",
            " [2 2 2 2 2 2 2 2 2 2 0 0 0 0 0 0 0 0 0 0]\n",
            " [2 2 2 2 2 2 2 2 2 2 0 0 0 0 0 0 0 0 0 0]]\n",
            "[[0 0 0 0 0 0 0 0 0 0 2 2 2 2 2 2 2 2 2 2]\n",
            " [0 0 0 0 0 0 0 0 0 0 2 2 2 2 2 2 2 2 2 2]\n",
            " [0 0 0 0 0 0 0 0 0 0 2 2 2 2 2 2 2 2 2 2]\n",
            " [0 0 0 0 0 0 0 0 0 0 2 2 2 2 2 2 2 2 2 2]\n",
            " [0 0 0 0 0 0 0 0 0 0 2 2 2 2 2 2 2 2 2 2]\n",
            " [0 0 0 0 0 0 0 0 0 0 2 2 2 2 2 2 2 2 2 2]\n",
            " [0 0 0 0 0 0 0 0 0 0 2 2 2 2 2 2 2 2 2 2]\n",
            " [0 0 0 0 0 0 0 0 0 0 2 2 2 2 2 2 2 2 2 2]\n",
            " [0 0 0 0 0 0 0 0 0 0 2 2 2 2 2 2 2 2 2 2]\n",
            " [0 0 0 0 0 0 0 0 0 0 2 2 2 2 2 2 2 2 2 2]\n",
            " [2 2 2 2 2 2 2 2 2 2 0 0 0 0 0 0 0 0 0 0]\n",
            " [2 2 2 2 2 2 2 2 2 2 0 0 0 0 0 0 0 0 0 0]\n",
            " [2 2 2 2 2 2 2 2 2 2 0 0 0 0 0 0 0 0 0 0]\n",
            " [2 2 2 2 2 2 2 2 2 2 0 0 0 0 0 0 0 0 0 0]\n",
            " [2 2 2 2 2 2 2 2 2 2 0 0 0 0 0 0 0 0 0 0]\n",
            " [2 2 2 2 2 2 2 2 2 2 0 0 0 0 0 0 0 0 0 0]\n",
            " [2 2 2 2 2 2 2 2 2 2 0 0 0 0 0 0 0 0 0 0]\n",
            " [2 2 2 2 2 2 2 2 2 2 0 0 0 0 0 0 0 0 0 0]\n",
            " [2 2 2 2 2 2 2 2 2 2 0 0 0 0 0 0 0 0 0 0]\n",
            " [2 2 2 2 2 2 2 2 2 2 0 0 0 0 0 0 0 0 0 0]]\n",
            "[[0 0 0 0 0 0 0 0 0 0 2 2 2 2 2 2 2 2 2 2]\n",
            " [0 0 0 0 0 0 0 0 0 0 2 2 2 2 2 2 2 2 2 2]\n",
            " [0 0 0 0 0 0 0 0 0 0 2 2 2 2 2 2 2 2 2 2]\n",
            " [0 0 0 0 0 0 0 0 0 0 2 2 2 2 2 2 2 2 2 2]\n",
            " [0 0 0 0 0 0 0 0 0 0 2 2 2 2 2 2 2 2 2 2]\n",
            " [0 0 0 0 0 0 0 0 0 0 2 2 2 2 2 2 2 2 2 2]\n",
            " [0 0 0 0 0 0 0 0 0 0 2 2 2 2 2 2 2 2 2 2]\n",
            " [0 0 0 0 0 0 0 0 0 0 2 2 2 2 2 2 2 2 2 2]\n",
            " [0 0 0 0 0 0 0 0 0 0 2 2 2 2 2 2 2 2 2 2]\n",
            " [0 0 0 0 0 0 0 0 0 0 2 2 2 2 2 2 2 2 2 2]\n",
            " [2 2 2 2 2 2 2 2 2 2 0 0 0 0 0 0 0 0 0 0]\n",
            " [2 2 2 2 2 2 2 2 2 2 0 0 0 0 0 0 0 0 0 0]\n",
            " [2 2 2 2 2 2 2 2 2 2 0 0 0 0 0 0 0 0 0 0]\n",
            " [2 2 2 2 2 2 2 2 2 2 0 0 0 0 0 0 0 0 0 0]\n",
            " [2 2 2 2 2 2 2 2 2 2 0 0 0 0 0 0 0 0 0 0]\n",
            " [2 2 2 2 2 2 2 2 2 2 0 0 0 0 0 0 0 0 0 0]\n",
            " [2 2 2 2 2 2 2 2 2 2 0 0 0 0 0 0 0 0 0 0]\n",
            " [2 2 2 2 2 2 2 2 2 2 0 0 0 0 0 0 0 0 0 0]\n",
            " [2 2 2 2 2 2 2 2 2 2 0 0 0 0 0 0 0 0 0 0]\n",
            " [2 2 2 2 2 2 2 2 2 2 0 0 0 0 0 0 0 0 0 0]]\n",
            "[[0 0 0 0 0 0 0 0 0 0 2 2 2 2 2 2 2 2 2 2]\n",
            " [0 0 0 0 0 0 0 0 0 0 2 2 2 2 2 2 2 2 2 2]\n",
            " [0 0 0 0 0 0 0 0 0 0 2 2 2 2 2 2 2 2 2 2]\n",
            " [0 0 0 0 0 0 0 0 0 0 2 2 2 2 2 2 2 2 2 2]\n",
            " [0 0 0 0 0 0 0 0 0 0 2 2 2 2 2 2 2 2 2 2]\n",
            " [0 0 0 0 0 0 0 0 0 0 2 2 2 2 2 2 2 2 2 2]\n",
            " [0 0 0 0 0 0 0 0 0 0 2 2 2 2 2 2 2 2 2 2]\n",
            " [0 0 0 0 0 0 0 0 0 0 2 2 2 2 2 2 2 2 2 2]\n",
            " [0 0 0 0 0 0 0 0 0 0 2 2 2 2 2 2 2 2 2 2]\n",
            " [0 0 0 0 0 0 0 0 0 0 2 2 2 2 2 2 2 2 2 2]\n",
            " [2 2 2 2 2 2 2 2 2 2 0 0 0 0 0 0 0 0 0 0]\n",
            " [2 2 2 2 2 2 2 2 2 2 0 0 0 0 0 0 0 0 0 0]\n",
            " [2 2 2 2 2 2 2 2 2 2 0 0 0 0 0 0 0 0 0 0]\n",
            " [2 2 2 2 2 2 2 2 2 2 0 0 0 0 0 0 0 0 0 0]\n",
            " [2 2 2 2 2 2 2 2 2 2 0 0 0 0 0 0 0 0 0 0]\n",
            " [2 2 2 2 2 2 2 2 2 2 0 0 0 0 0 0 0 0 0 0]\n",
            " [2 2 2 2 2 2 2 2 2 2 0 0 0 0 0 0 0 0 0 0]\n",
            " [2 2 2 2 2 2 2 2 2 2 0 0 0 0 0 0 0 0 0 0]\n",
            " [2 2 2 2 2 2 2 2 2 2 0 0 0 0 0 0 0 0 0 0]\n",
            " [2 2 2 2 2 2 2 2 2 2 0 0 0 0 0 0 0 0 0 0]]\n",
            "[[0 0 0 0 0 0 0 0 0 0 2 2 2 2 2 2 2 2 2 2]\n",
            " [0 0 0 0 0 0 0 0 0 0 2 2 2 2 2 2 2 2 2 2]\n",
            " [0 0 0 0 0 0 0 0 0 0 2 2 2 2 2 2 2 2 2 2]\n",
            " [0 0 0 0 0 0 0 0 0 0 2 2 2 2 2 2 2 2 2 2]\n",
            " [0 0 0 0 0 0 0 0 0 0 2 2 2 2 2 2 2 2 2 2]\n",
            " [0 0 0 0 0 0 0 0 0 0 2 2 2 2 2 2 2 2 2 2]\n",
            " [0 0 0 0 0 0 0 0 0 0 2 2 2 2 2 2 2 2 2 2]\n",
            " [0 0 0 0 0 0 0 0 0 0 2 2 2 2 2 2 2 2 2 2]\n",
            " [0 0 0 0 0 0 0 0 0 0 2 2 2 2 2 2 2 2 2 2]\n",
            " [0 0 0 0 0 0 0 0 0 0 2 2 2 2 2 2 2 2 2 2]\n",
            " [2 2 2 2 2 2 2 2 2 2 0 0 0 0 0 0 0 0 0 0]\n",
            " [2 2 2 2 2 2 2 2 2 2 0 0 0 0 0 0 0 0 0 0]\n",
            " [2 2 2 2 2 2 2 2 2 2 0 0 0 0 0 0 0 0 0 0]\n",
            " [2 2 2 2 2 2 2 2 2 2 0 0 0 0 0 0 0 0 0 0]\n",
            " [2 2 2 2 2 2 2 2 2 2 0 0 0 0 0 0 0 0 0 0]\n",
            " [2 2 2 2 2 2 2 2 2 2 0 0 0 0 0 0 0 0 0 0]\n",
            " [2 2 2 2 2 2 2 2 2 2 0 0 0 0 0 0 0 0 0 0]\n",
            " [2 2 2 2 2 2 2 2 2 2 0 0 0 0 0 0 0 0 0 0]\n",
            " [2 2 2 2 2 2 2 2 2 2 0 0 0 0 0 0 0 0 0 0]\n",
            " [2 2 2 2 2 2 2 2 2 2 0 0 0 0 0 0 0 0 0 0]]\n",
            "[[0 0 0 0 0 0 0 0 0 0 2 2 2 2 2 2 2 2 2 2]\n",
            " [0 0 0 0 0 0 0 0 0 0 2 2 2 2 2 2 2 2 2 2]\n",
            " [0 0 0 0 0 0 0 0 0 0 2 2 2 2 2 2 2 2 2 2]\n",
            " [0 0 0 0 0 0 0 0 0 0 2 2 2 2 2 2 2 2 2 2]\n",
            " [0 0 0 0 0 0 0 0 0 0 2 2 2 2 2 2 2 2 2 2]\n",
            " [0 0 0 0 0 0 0 0 0 0 2 2 2 2 2 2 2 2 2 2]\n",
            " [0 0 0 0 0 0 0 0 0 0 2 2 2 2 2 2 2 2 2 2]\n",
            " [0 0 0 0 0 0 0 0 0 0 2 2 2 2 2 2 2 2 2 2]\n",
            " [0 0 0 0 0 0 0 0 0 0 2 2 2 2 2 2 2 2 2 2]\n",
            " [0 0 0 0 0 0 0 0 0 0 2 2 2 2 2 2 2 2 2 2]\n",
            " [2 2 2 2 2 2 2 2 2 2 0 0 0 0 0 0 0 0 0 0]\n",
            " [2 2 2 2 2 2 2 2 2 2 0 0 0 0 0 0 0 0 0 0]\n",
            " [2 2 2 2 2 2 2 2 2 2 0 0 0 0 0 0 0 0 0 0]\n",
            " [2 2 2 2 2 2 2 2 2 2 0 0 0 0 0 0 0 0 0 0]\n",
            " [2 2 2 2 2 2 2 2 2 2 0 0 0 0 0 0 0 0 0 0]\n",
            " [2 2 2 2 2 2 2 2 2 2 0 0 0 0 0 0 0 0 0 0]\n",
            " [2 2 2 2 2 2 2 2 2 2 0 0 0 0 0 0 0 0 0 0]\n",
            " [2 2 2 2 2 2 2 2 2 2 0 0 0 0 0 0 0 0 0 0]\n",
            " [2 2 2 2 2 2 2 2 2 2 0 0 0 0 0 0 0 0 0 0]\n",
            " [2 2 2 2 2 2 2 2 2 2 0 0 0 0 0 0 0 0 0 0]]\n",
            "[[0 0 0 0 0 0 0 0 0 0 2 2 2 2 2 2 2 2 2 2]\n",
            " [0 0 0 0 0 0 0 0 0 0 2 2 2 2 2 2 2 2 2 2]\n",
            " [0 0 0 0 0 0 0 0 0 0 2 2 2 2 2 2 2 2 2 2]\n",
            " [0 0 0 0 0 0 0 0 0 0 2 2 2 2 2 2 2 2 2 2]\n",
            " [0 0 0 0 0 0 0 0 0 0 2 2 2 2 2 2 2 2 2 2]\n",
            " [0 0 0 0 0 0 0 0 0 0 2 2 2 2 2 2 2 2 2 2]\n",
            " [0 0 0 0 0 0 0 0 0 0 2 2 2 2 2 2 2 2 2 2]\n",
            " [0 0 0 0 0 0 0 0 0 0 2 2 2 2 2 2 2 2 2 2]\n",
            " [0 0 0 0 0 0 0 0 0 0 2 2 2 2 2 2 2 2 2 2]\n",
            " [0 0 0 0 0 0 0 0 0 0 2 2 2 2 2 2 2 2 2 2]\n",
            " [2 2 2 2 2 2 2 2 2 2 0 0 0 0 0 0 0 0 0 0]\n",
            " [2 2 2 2 2 2 2 2 2 2 0 0 0 0 0 0 0 0 0 0]\n",
            " [2 2 2 2 2 2 2 2 2 2 0 0 0 0 0 0 0 0 0 0]\n",
            " [2 2 2 2 2 2 2 2 2 2 0 0 0 0 0 0 0 0 0 0]\n",
            " [2 2 2 2 2 2 2 2 2 2 0 0 0 0 0 0 0 0 0 0]\n",
            " [2 2 2 2 2 2 2 2 2 2 0 0 0 0 0 0 0 0 0 0]\n",
            " [2 2 2 2 2 2 2 2 2 2 0 0 0 0 0 0 0 0 0 0]\n",
            " [2 2 2 2 2 2 2 2 2 2 0 0 0 0 0 0 0 0 0 0]\n",
            " [2 2 2 2 2 2 2 2 2 2 0 0 0 0 0 0 0 0 0 0]\n",
            " [2 2 2 2 2 2 2 2 2 2 0 0 0 0 0 0 0 0 0 0]]\n"
          ],
          "name": "stdout"
        }
      ]
    },
    {
      "cell_type": "code",
      "metadata": {
        "id": "xl5yAkpXGxkH"
      },
      "source": [
        "def main():\n",
        "        # Set model.\n",
        "    X_dimension = 10\n",
        "    Y_dimension = 10\n",
        "    N_s = X_dimension * Y_dimension \n",
        "    periodic_X = 1\n",
        "    periodic_Y = 1\n",
        "    tunneling = 1\n",
        "    U = 4\n",
        "    chemical_potential = 0  # half filling 0\n",
        "    n_markov = 1\n",
        "    N_sw_measure = 100\n",
        "    N_warm_up = N_sw_measure // 5\n",
        "    N_from_scratch = 10\n",
        "    N_qr = 10  # default = 2 * N_from_scratch\n",
        "    # type_of_mul = 1  # 1 = svd  ,0 = QR\n",
        "    # done\n",
        "    \n",
        "    # Set generalized trotter\n",
        "    Beta = 2\n",
        "    N_time = 10\n",
        "    U_eff =  U\n",
        "    \n",
        "    # making tunneling Hamiltonian matrix\n",
        "    H_0 = make_hopping(X_dimension, Y_dimension, periodic_X, periodic_Y, tunneling)\n",
        "    H_0_measure = H_0.copy()\n",
        "    H_0 += np.identity(X_dimension * Y_dimension) * ((-1) * chemical_potential)\n",
        "    H_0 = np.kron(np.array([[1, 0], [0, 1]]), H_0) \n",
        "    \n",
        "    filling_mar = cp.zeros(n_markov)\n",
        "    kinetic_mar = cp.zeros(n_markov)\n",
        "    interaction_mar = cp.zeros(n_markov)\n",
        "    sign_mar = cp.zeros(n_markov)\n",
        "    I = cp.array(1)\n",
        "    sign_U_interact, T_hop, H0_array, lamda, probability, gamma1, gamma2 = init_trotter(Beta,N_time,U_eff,H_0)\n",
        "    Bk, Bk_inv = expmk(H0_array, T_hop)\n",
        "    for markov in range(n_markov):\n",
        "        \n",
        "        hs = lamda[:,None]*((-1)**cp.random.randint(2,size=(N_time+1,N_s)))\n",
        "        cl = cluster(hs,Bk,sign_U_interact)\n",
        "        G = from_scratch(cl,N_qr)\n",
        "    #    print(G[0,0],\"clus\")\n",
        "        G_msr = 0\n",
        "        sign = 0\n",
        "        N_measure = 0\n",
        "        for msr in range(N_sw_measure+N_warm_up):\n",
        "            # print(msr)\n",
        "            for l in range(N_time):\n",
        "    \n",
        "                probability_tmp = probability[-1]\n",
        "                gamma1_tmp = gamma1[-1]\n",
        "                gamma2_tmp = gamma2[-1]\n",
        "                G, hs, sign_tmp = update(G, hs, N_s, probability_tmp, gamma1_tmp, gamma2_tmp, I)\n",
        "                G, Bk, Bk_inv, hs, cl, sign_U_interact,probability, gamma1, gamma2 = time_wrap(G, Bk, Bk_inv, hs, cl, sign_U_interact,probability, gamma1, gamma2)\n",
        "                # cl = cluster(hs,Bk,sign_U_interact)\n",
        "                # G_f = from_scratch(cl,N_qr)\n",
        "                # print(2* cp.isclose(G,G_f))\n",
        "                # time.sleep(10)\n",
        "                if l%N_from_scratch == 0:\n",
        "                    G = from_scratch(cl,N_qr)\n",
        "            if msr> N_warm_up:\n",
        "                N_measure +=1\n",
        "                G_msr += G"
      ],
      "execution_count": null,
      "outputs": []
    },
    {
      "cell_type": "code",
      "metadata": {
        "colab": {
          "base_uri": "https://localhost:8080/"
        },
        "id": "0r9DML6rKSKz",
        "outputId": "76260141-5630-4790-effd-a229104cf9ff"
      },
      "source": [
        "%timeit main()"
      ],
      "execution_count": null,
      "outputs": [
        {
          "output_type": "stream",
          "text": [
            "1 loop, best of 3: 49.1 s per loop\n"
          ],
          "name": "stdout"
        }
      ]
    },
    {
      "cell_type": "code",
      "metadata": {
        "colab": {
          "base_uri": "https://localhost:8080/"
        },
        "id": "ZeuFhdZfKuLF",
        "outputId": "e457830b-d664-4fc6-8941-018bb1f68d21"
      },
      "source": [
        "%timeit update(G, hs, N_s, probability_tmp, gamma1_tmp, gamma2_tmp, I)"
      ],
      "execution_count": null,
      "outputs": [
        {
          "output_type": "stream",
          "text": [
            "10 loops, best of 3: 164 ms per loop\n"
          ],
          "name": "stdout"
        }
      ]
    },
    {
      "cell_type": "code",
      "metadata": {
        "colab": {
          "base_uri": "https://localhost:8080/"
        },
        "id": "wMRtODlMKzjl",
        "outputId": "0d59be85-0075-43a4-8151-d8d482871cb3"
      },
      "source": [
        "%timeit from_scratch(cl,N_qr)"
      ],
      "execution_count": null,
      "outputs": [
        {
          "output_type": "stream",
          "text": [
            "10 loops, best of 3: 88.4 ms per loop\n"
          ],
          "name": "stdout"
        }
      ]
    },
    {
      "cell_type": "code",
      "metadata": {
        "colab": {
          "base_uri": "https://localhost:8080/",
          "height": 283
        },
        "id": "qsJmi307wOmR",
        "outputId": "c89a3c49-91bf-42d9-f160-0ee32d001aa2"
      },
      "source": [
        "G_f = from_scratch(cl,N_qr)\n",
        "plt.imshow(cp.asnumpy(G_f-G))"
      ],
      "execution_count": null,
      "outputs": [
        {
          "output_type": "execute_result",
          "data": {
            "text/plain": [
              "<matplotlib.image.AxesImage at 0x7f226be46a20>"
            ]
          },
          "metadata": {
            "tags": []
          },
          "execution_count": 129
        },
        {
          "output_type": "display_data",
          "data": {
            "image/png": "[encoded data removed]",
            "text/plain": [
              "<Figure size 432x288 with 1 Axes>"
            ]
          },
          "metadata": {
            "tags": []
          }
        }
      ]
    },
    {
      "cell_type": "code",
      "metadata": {
        "colab": {
          "base_uri": "https://localhost:8080/",
          "height": 1000
        },
        "id": "6-K5xibjwqBj",
        "outputId": "a34c4bc6-8bc6-4f71-f7af-75489e52ebbb"
      },
      "source": [
        "# def update(G, hs, N_s, probability_tmp, gamma1_tmp, gamma2_tmp, I):\n",
        "import time\n",
        "sign_U_interact, T_hop, H0_array, lamda, probability, gamma1, gamma2 = init_trotter(Beta,N_time,U_eff,H_0)\n",
        "probability_tmp = probability[-1]\n",
        "gamma1_tmp = gamma1[-1]\n",
        "gamma2_tmp = gamma2[-1]\n",
        "sign_partition_accu = I\n",
        "hs = lamda[:,None]*((-1)**cp.random.randint(2,size=(N_time+1,N_s)))\n",
        "cl = cluster(hs,Bk,sign_U_interact)\n",
        "G = from_scratch(cl,N_qr)\n",
        "plt.plot(cp.asnumpy(cp.diag(G)))\n",
        "print(cp.trace(G)/200)\n",
        "sign_partition_accu = I\n",
        "for i in range(N_s):\n",
        "    # acceptance ratio\n",
        "    P = (probability_tmp if hs[-1,i]>0 else 1/probability_tmp)\n",
        "    r_1 = (I + gamma1_tmp*(I-G[i,i]))\n",
        "    alpha = G[i+N_s,i+N_s] + gamma1_tmp * G[i+N_s,i] * G[i,i+N_s] / r_1\n",
        "    r_2 = I + gamma2_tmp*(I-alpha)\n",
        "    r = r_1 * r_2 * P\n",
        "    if cp.abs(r) > cp.random.random():\n",
        "    # update greens \n",
        "        k_1 = -G[:,i][:,None]\n",
        "        k_1[i] += I\n",
        "        G_1 = G - (gamma1_tmp / r_1) * (k_1*G[i,:])\n",
        "        k_2 = -G_1[:,i+N_s][:,None]\n",
        "        k_2[i+N_s] += I\n",
        "        G = G_1 - (gamma2_tmp / r_2) * (k_2*G_1[i+N_s,:])\n",
        "        print(cp.trace(G_1)/200)\n",
        "        sign_partition_accu = cp.sign(r) *sign_partition_accu\n",
        "        hs[-1,i] = -hs[-1,i]\n"
      ],
      "execution_count": null,
      "outputs": [
        {
          "output_type": "stream",
          "text": [
            "0.4999999999999998\n",
            "0.5000975670787858\n",
            "0.5002601312784787\n",
            "0.5003137339869166\n",
            "0.5002639048025794\n",
            "0.5003330601596764\n",
            "0.500289273613383\n",
            "0.5001263265535454\n",
            "0.5003986306023048\n",
            "0.5001877417792882\n",
            "0.5004461543273578\n",
            "0.5002687983730278\n",
            "0.5004053058458962\n",
            "0.5003169717993569\n",
            "0.5004123127751307\n",
            "0.5003565663825401\n",
            "0.5002225568302694\n",
            "0.5003446983831921\n",
            "0.5004230977900321\n",
            "0.5003151097873396\n",
            "0.5003914797906556\n",
            "0.5004035587371516\n",
            "0.5000382260383494\n",
            "0.5000918886951291\n",
            "0.5004143497301936\n",
            "0.5002955965981911\n",
            "0.5002367493646935\n",
            "0.5002153259089613\n",
            "0.5001679646675324\n",
            "0.5003984601324588\n",
            "0.5002650460122063\n",
            "0.5003378033482226\n",
            "0.5002066003970472\n",
            "0.5002415517719391\n",
            "0.5003025719413867\n",
            "0.5002408363650569\n",
            "0.5002140884756265\n",
            "0.5003599926361542\n",
            "0.500254276561793\n",
            "0.5002860353841679\n",
            "0.50024772529851\n",
            "0.500275230184205\n",
            "0.500478963926223\n",
            "0.5003776930423062\n",
            "0.5002774988823355\n",
            "0.5003691236943756\n",
            "0.5000969111800816\n",
            "0.5002671509056503\n",
            "0.5003666464262461\n",
            "0.500359181602121\n",
            "0.5004068252116567\n",
            "0.5003204684804053\n",
            "0.5003239603748844\n",
            "0.5002111207096515\n",
            "0.500359993580919\n",
            "0.500231571436196\n",
            "0.5003728752652628\n",
            "0.5004037799758072\n",
            "0.500362782369137\n",
            "0.500274291255953\n",
            "0.5002731534998528\n",
            "0.5003334149200971\n",
            "0.500073678243969\n",
            "0.5002185480811189\n",
            "0.500180105607937\n",
            "0.5003582280456174\n",
            "0.5003113166683302\n",
            "0.5003242333191735\n",
            "0.5004289600172157\n",
            "0.5001624375866165\n",
            "0.5002623662546573\n",
            "0.5004579817354621\n",
            "0.5001816135546833\n",
            "0.5002729565636845\n",
            "0.5002890405194761\n",
            "0.5003892491740064\n",
            "0.500280890693963\n",
            "0.5002276192972122\n",
            "0.5001988869835609\n",
            "0.500461332632622\n",
            "0.5001263624006739\n",
            "0.5004756538290154\n",
            "0.5001914804426311\n",
            "0.500323502966223\n",
            "0.5004255978864636\n",
            "0.5001478641297549\n",
            "0.5001962458713534\n",
            "0.5004683378137039\n"
          ],
          "name": "stdout"
        },
        {
          "output_type": "display_data",
          "data": {
            "image/png": "[encoded data removed]",
            "text/plain": [
              "<Figure size 432x288 with 1 Axes>"
            ]
          },
          "metadata": {
            "tags": []
          }
        }
      ]
    },
    {
      "cell_type": "code",
      "metadata": {
        "colab": {
          "base_uri": "https://localhost:8080/"
        },
        "id": "C2jmZKXJlk17",
        "outputId": "883da326-df2a-4841-9637-fea5b6627b60"
      },
      "source": [
        "gamma1_tmp,gamma2_tmp"
      ],
      "execution_count": null,
      "outputs": [
        {
          "output_type": "execute_result",
          "data": {
            "text/plain": [
              "(array(-0.63975023), array(1.7758519))"
            ]
          },
          "metadata": {
            "tags": []
          },
          "execution_count": 85
        }
      ]
    },
    {
      "cell_type": "code",
      "metadata": {
        "colab": {
          "base_uri": "https://localhost:8080/",
          "height": 283
        },
        "id": "H-iSY_emAbc0",
        "outputId": "80e58e10-1ab4-4a49-8593-92dd29274dcc"
      },
      "source": [
        "plt.plot(cp.asnumpy(cp.diag(G)))"
      ],
      "execution_count": null,
      "outputs": [
        {
          "output_type": "execute_result",
          "data": {
            "text/plain": [
              "[<matplotlib.lines.Line2D at 0x7f5e012d4518>]"
            ]
          },
          "metadata": {
            "tags": []
          },
          "execution_count": 87
        },
        {
          "output_type": "display_data",
          "data": {
            "image/png": "[encoded data removed]",
            "text/plain": [
              "<Figure size 432x288 with 1 Axes>"
            ]
          },
          "metadata": {
            "tags": []
          }
        }
      ]
    },
    {
      "cell_type": "code",
      "metadata": {
        "colab": {
          "base_uri": "https://localhost:8080/"
        },
        "id": "Rpe3GwXdaFzG",
        "outputId": "673487c8-7164-4bcf-e283-6b2a52181f64"
      },
      "source": [
        "cp.trace(G)/16"
      ],
      "execution_count": null,
      "outputs": [
        {
          "output_type": "execute_result",
          "data": {
            "text/plain": [
              "array(0.51748253)"
            ]
          },
          "metadata": {
            "tags": []
          },
          "execution_count": 74
        }
      ]
    },
    {
      "cell_type": "code",
      "metadata": {
        "id": "F1yLb1brkKY3"
      },
      "source": [
        "def QR(z,I):\n",
        "    Q = I\n",
        "    D = cp.diag(I)\n",
        "    T = I\n",
        " \n",
        "    for i in range(len(z)):\n",
        "        A = (z[len(z) - i - 1]).dot(Q*D)\n",
        "        Q, R = cp.linalg.qr(A)\n",
        "        D = cp.diag(R)\n",
        "        T_prime = R / D[:,None]\n",
        "        T = T_prime.dot(T)\n",
        " \n",
        "    return Q, D, T\n",
        " \n",
        " \n",
        " \n",
        "def QR_prime(z, n):\n",
        "    len_z,len_z0,_ = z.shape\n",
        "    m = len_z // n\n",
        "    if len_z % n != 0:\n",
        "        m += 1\n",
        "    z_0 = cp.empty((m,len_z0,len_z0))\n",
        "    A0 = cp.eye(len_z0)\n",
        "    A = A0\n",
        "    for i in range(len_z):\n",
        "        A = A.dot(z[i])\n",
        "        if i%n == n-1:\n",
        "            z_0[int(i/n),...] = A\n",
        "            A = A0\n",
        "    if len(z) % n != 0:\n",
        "        z_0[int(i/n),...] = A\n",
        "    # print(z_0)\n",
        "    usvh = QR(z_0,A0)\n",
        " \n",
        "    return usvh[0], usvh[1], usvh[2]\n",
        " \n",
        " \n",
        " \n",
        "def invers(Q, D, T):\n",
        "    D_p = cp.where(cp.abs(D)>1,1,D)\n",
        "    D_m = cp.where(cp.abs(D)<1,1,D)\n",
        "    A1 = cp.conj(Q.T)/D_p[:,None] + D_m[:,None]*T\n",
        "    A2 = 1/D_p\n",
        "    A3 = cp.conj(Q.T)\n",
        "    g = (cp.linalg.inv(A1)*A2).dot(A3)\n",
        "    \n",
        "    return g\n",
        "\n",
        "def from_scratch(cl,n_qr):\n",
        "    Q,D,T = QR_prime(cl, n_qr)\n",
        "    G = invers(Q, D, T)\n",
        "    return G\n",
        "\n",
        "def cluster(h,Bk,sign_U_interact):\n",
        "    cl = []\n",
        "    for i in range(h.shape[0]):\n",
        "        cl.append(Bk[i].dot(cp.diag(cp.exp(cp.concatenate([h[i,:],-sign_U_interact[i]*h[i,:]])))))\n",
        "    cl = cp.array(cl)\n",
        "    return cl\n",
        " \n",
        "def update(G, hs, N_s, probability_tmp, gamma1_tmp, gamma2_tmp, I):\n",
        "    sign_partition_accu = I\n",
        "        # acceptance ratio\n",
        "    i = 1\n",
        "    if hs[-1,i]<0:\n",
        "        gamma1_tmp, gamma2_tmp = gamma2_tmp, gamma1_tmp\n",
        "\n",
        "    P = (probability_tmp if hs[-1,i]>0 else 1/probability_tmp)\n",
        "    r_1 = (I + gamma1_tmp*(I-G[i,i]))\n",
        "    alpha = G[i+N_s,i+N_s] + gamma1_tmp * G[i+N_s,i] * G[i,i+N_s] / r_1\n",
        "    r_2 = I + gamma2_tmp*(I-alpha)\n",
        "    r = r_1 * r_2 * P\n",
        "    if cp.abs(r) > 0:\n",
        "    # update greens \n",
        "        k_1 = -G[:,i][:,None]\n",
        "        k_1[i] += I\n",
        "        G_1 = G - (gamma1_tmp / r_1) * (k_1*G[i,:])\n",
        "        k_2 = -G_1[:,i+N_s][:,None]\n",
        "        k_2[i+N_s] += I\n",
        "        G = G_1 - (gamma2_tmp / r_2) * (k_2*G_1[i+N_s,:])\n",
        "        sign_partition_accu = cp.sign(r) *sign_partition_accu\n",
        "        # hs[-1,i] = -hs[-1,i]\n",
        " \n",
        "    return G, hs, sign_partition_accu"
      ],
      "execution_count": null,
      "outputs": []
    },
    {
      "cell_type": "code",
      "metadata": {
        "id": "TWU4__buoLk2"
      },
      "source": [
        "import cupy as cp\n",
        " \n",
        "lamda = 0.5\n",
        "\n",
        "\n",
        "Bk = cp.random.normal(size= (6,6))\n",
        "B0 = Bk.dot(cp.diag(cp.exp(lamda * cp.array([-1,-1,-1,1,1,1]))))\n",
        "B1 = Bk.dot(cp.diag(cp.exp(lamda * cp.array([1,1,-1,-1,-1,1]))))\n",
        "B2 = Bk.dot(cp.diag(cp.exp(lamda * cp.array([-1,-1,-1,1,1,1]))))\n",
        "B2_0 = Bk.dot(cp.diag(cp.exp(lamda * cp.array([-1,1,-1,1,1,1]))))\n",
        "B2_1 = Bk.dot(cp.diag(cp.exp(lamda * cp.array([-1,1,-1,1,-1,1]))))\n",
        "hs_old = lamda * cp.array([cp.array([-1,-1,-1]),cp.array([1,1,-1]),cp.array([-1,-1,-1])])\n",
        "hs = lamda * cp.array([cp.array([-1,-1,-1]),cp.array([1,1,-1]),cp.array([-1,1,-1])])\n",
        "\n",
        "cl = cluster(hs,cp.array([Bk,Bk,Bk]),cp.array([1,1,1]))\n",
        "\n",
        "g = from_scratch(cl,2)\n",
        "\n",
        "\n",
        "G = cp.linalg.inv(cp.eye(6) + B0.dot(B1.dot(B2)))\n",
        "G_0 = cp.linalg.inv(cp.eye(6) + B0.dot(B1.dot(B2_0)))\n",
        "G_new = cp.linalg.inv(cp.eye(6) + B0.dot(B1.dot(B2_1)))"
      ],
      "execution_count": null,
      "outputs": []
    },
    {
      "cell_type": "code",
      "metadata": {
        "colab": {
          "base_uri": "https://localhost:8080/"
        },
        "id": "xpaEi2k9eBxh",
        "outputId": "2d560dcf-a1b1-436a-8c37-65965de458ca"
      },
      "source": [
        "cp.isclose(cl,cp.array([B0,B1,B2_1]))"
      ],
      "execution_count": null,
      "outputs": [
        {
          "output_type": "execute_result",
          "data": {
            "text/plain": [
              "array([[[ True,  True,  True,  True,  True,  True],\n",
              "        [ True,  True,  True,  True,  True,  True],\n",
              "        [ True,  True,  True,  True,  True,  True],\n",
              "        [ True,  True,  True,  True,  True,  True],\n",
              "        [ True,  True,  True,  True,  True,  True],\n",
              "        [ True,  True,  True,  True,  True,  True]],\n",
              "\n",
              "       [[ True,  True,  True,  True,  True,  True],\n",
              "        [ True,  True,  True,  True,  True,  True],\n",
              "        [ True,  True,  True,  True,  True,  True],\n",
              "        [ True,  True,  True,  True,  True,  True],\n",
              "        [ True,  True,  True,  True,  True,  True],\n",
              "        [ True,  True,  True,  True,  True,  True]],\n",
              "\n",
              "       [[ True,  True,  True,  True,  True,  True],\n",
              "        [ True,  True,  True,  True,  True,  True],\n",
              "        [ True,  True,  True,  True,  True,  True],\n",
              "        [ True,  True,  True,  True,  True,  True],\n",
              "        [ True,  True,  True,  True,  True,  True],\n",
              "        [ True,  True,  True,  True,  True,  True]]])"
            ]
          },
          "metadata": {
            "tags": []
          },
          "execution_count": 16
        }
      ]
    },
    {
      "cell_type": "code",
      "metadata": {
        "colab": {
          "base_uri": "https://localhost:8080/"
        },
        "id": "dvbQgFJR63oG",
        "outputId": "4cccaf88-4f59-49a8-faaf-a5e6a2a1d418"
      },
      "source": [
        "cp.isclose(g,G_new)"
      ],
      "execution_count": null,
      "outputs": [
        {
          "output_type": "execute_result",
          "data": {
            "text/plain": [
              "array([[ True,  True,  True,  True,  True,  True],\n",
              "       [ True,  True,  True,  True,  True,  True],\n",
              "       [ True,  True,  True,  True,  True,  True],\n",
              "       [ True,  True,  True,  True,  True,  True],\n",
              "       [ True,  True,  True,  True,  True,  True],\n",
              "       [ True,  True,  True,  True,  True,  True]])"
            ]
          },
          "metadata": {
            "tags": []
          },
          "execution_count": 17
        }
      ]
    },
    {
      "cell_type": "code",
      "metadata": {
        "colab": {
          "base_uri": "https://localhost:8080/"
        },
        "id": "zrr1DS6igrB6",
        "outputId": "488c4ebe-cc69-491a-ff20-e90aae9852af"
      },
      "source": [
        "# %%debug\n",
        "# def update(G, hs, N_s, probability_tmp, gamma1_tmp, gamma2_tmp, I):\n",
        "gamma1 = cp.array(cp.exp(-2*lamda)-1)\n",
        "gamma2 = cp.array(cp.exp(2*lamda)-1)\n",
        "I =1\n",
        "gamma1_tmp = gamma1\n",
        "gamma2_tmp = gamma2\n",
        "probability_tmp = 1\n",
        "\n",
        "N_s = 3\n",
        "sign_partition_accu = I\n",
        "    # acceptance ratio\n",
        "i =1\n",
        "if hs_old[-1,i]<0:\n",
        "    print(\"8\")\n",
        "    gamma1_tmp, gamma2_tmp = gamma2_tmp, gamma1_tmp\n",
        "\n",
        "P = (probability_tmp if hs_old[-1,i]>0 else 1/probability_tmp)\n",
        "r_1 = (I + gamma1_tmp*(I-G[i,i]))\n",
        "alpha = G[i+N_s,i+N_s] + gamma1_tmp * G[i+N_s,i] * G[i,i+N_s] / r_1\n",
        "r_2 = I + gamma2_tmp*(I-alpha)\n",
        "r = r_1 * r_2 * P\n",
        "# if cp.abs(r) > 0:\n",
        "# update greens \n",
        "k_1 = -G[:,i][:,None]\n",
        "k_1[i] += I\n",
        "G_1 = G - (gamma1_tmp / r_1) * (k_1*G[i,:])\n",
        "k_2 = -G_1[:,i+N_s][:,None]\n",
        "k_2[i+N_s] += I\n",
        "G_sher = G_1 - (gamma2_tmp / r_2) * (k_2*G_1[i+N_s,:])\n",
        "# sign_partition_accu = cp.sign(r) *sign_partition_accu\n",
        "# hs_old[-1,i] = -hs_old[-1,i]\n",
        " \n",
        "    # return G, hs, sign_partition_accu\n",
        " "
      ],
      "execution_count": null,
      "outputs": [
        {
          "output_type": "stream",
          "text": [
            "8\n"
          ],
          "name": "stdout"
        }
      ]
    },
    {
      "cell_type": "code",
      "metadata": {
        "colab": {
          "base_uri": "https://localhost:8080/"
        },
        "id": "McM0aDm6soHa",
        "outputId": "0e9cbe9d-967a-4719-8b45-1ef82171a1ec"
      },
      "source": [
        "cp.isclose(G_sher,g)"
      ],
      "execution_count": null,
      "outputs": [
        {
          "output_type": "execute_result",
          "data": {
            "text/plain": [
              "array([[ True,  True,  True,  True,  True,  True],\n",
              "       [ True,  True,  True,  True,  True,  True],\n",
              "       [ True,  True,  True,  True,  True,  True],\n",
              "       [ True,  True,  True,  True,  True,  True],\n",
              "       [ True,  True,  True,  True,  True,  True],\n",
              "       [ True,  True,  True,  True,  True,  True]])"
            ]
          },
          "metadata": {
            "tags": []
          },
          "execution_count": 19
        }
      ]
    },
    {
      "cell_type": "code",
      "metadata": {
        "id": "Awd0FunfgyhQ"
      },
      "source": [
        "gamma1 = cp.array(cp.exp(-2*lamda)-1)\n",
        "gamma2 = cp.array(cp.exp(2*lamda)-1)\n",
        "G_sher,_,_ = update(G,hs_old,3,1,gamma1,gamma2,1)"
      ],
      "execution_count": null,
      "outputs": []
    },
    {
      "cell_type": "code",
      "metadata": {
        "colab": {
          "base_uri": "https://localhost:8080/"
        },
        "id": "NcK6Ykd-pacw",
        "outputId": "b2b216b8-1e3e-442a-91db-dc7b905cc497"
      },
      "source": [
        "cp.isclose(G_sher,g)"
      ],
      "execution_count": null,
      "outputs": [
        {
          "output_type": "execute_result",
          "data": {
            "text/plain": [
              "array([[ True,  True,  True,  True,  True,  True],\n",
              "       [ True,  True,  True,  True,  True,  True],\n",
              "       [ True,  True,  True,  True,  True,  True],\n",
              "       [ True,  True,  True,  True,  True,  True],\n",
              "       [ True,  True,  True,  True,  True,  True],\n",
              "       [ True,  True,  True,  True,  True,  True]])"
            ]
          },
          "metadata": {
            "tags": []
          },
          "execution_count": 7
        }
      ]
    },
    {
      "cell_type": "code",
      "metadata": {
        "colab": {
          "base_uri": "https://localhost:8080/"
        },
        "id": "av742819s_2-",
        "outputId": "dcc31c59-b89e-41d7-f1e6-324dc1301321"
      },
      "source": [
        "cp.trace(G_sher)"
      ],
      "execution_count": null,
      "outputs": [
        {
          "output_type": "execute_result",
          "data": {
            "text/plain": [
              "array(4.11350428)"
            ]
          },
          "metadata": {
            "tags": []
          },
          "execution_count": 15
        }
      ]
    },
    {
      "cell_type": "code",
      "metadata": {
        "id": "VB1putMbbwZ9"
      },
      "source": [
        "N_s = 3\n",
        "I =1\n",
        "i = 2\n",
        "r_1 = (I + gamma1*(I-G[i,i]))\n",
        "alpha = G[i+N_s,i+N_s] + gamma1 * G[i+N_s,i] * G[i,i+N_s] / r_1\n",
        "r_2 = I + gamma2*(I-alpha)\n",
        "\n",
        "\n",
        "k_1 = -G[:,i][:,None]\n",
        "k_1[i] += I\n",
        "G_1 = G - (gamma1 / r_1) * (k_1*G[i,:])\n",
        "k_2 = -G_1[:,i+N_s][:,None]\n",
        "k_2[i+N_s] += I\n",
        "G_sher = G_1 - (gamma2 / r_2) * (k_2*G_1[i+N_s,:])\n"
      ],
      "execution_count": null,
      "outputs": []
    },
    {
      "cell_type": "code",
      "metadata": {
        "colab": {
          "base_uri": "https://localhost:8080/"
        },
        "id": "MEb-QLTLre3x",
        "outputId": "5f316004-b636-48b8-b6a0-1e2229a5503b"
      },
      "source": [
        "N_s = 3\n",
        "I =1\n",
        "i = 3\n",
        "r_1 = (I + gamma2*(I-G[i,i]))\n",
        "\n",
        "\n",
        "G_1 = G - (gamma2 / r_1) * cp.outer((cp.eye(6)-G)[:,i],G[i,:])\n",
        "\n"
      ],
      "execution_count": null,
      "outputs": [
        {
          "output_type": "execute_result",
          "data": {
            "text/plain": [
              "(array([[ 0.36597629, -0.16047024,  0.36902856, -0.84958411,  0.24657736,\n",
              "         -0.85117425],\n",
              "        [-0.10542338, -0.3803568 ,  0.37011512, -1.23441354, -0.37688386,\n",
              "         -1.07904496],\n",
              "        [ 0.15057617,  0.39254327, -0.10309857,  1.28010768, -0.06486296,\n",
              "          0.7984074 ],\n",
              "        [-1.98550329,  0.94177423,  0.11111417, -1.70273121,  1.07132597,\n",
              "          1.70400628],\n",
              "        [-1.59726558, -0.74083006,  1.09785817, -2.96619483,  0.80260161,\n",
              "         -0.38950102],\n",
              "        [-0.2361974 ,  0.06778141, -0.07746467,  0.22771516,  0.28626394,\n",
              "          0.903608  ]]),\n",
              " array([[ 0.36597629, -0.16047024,  0.36902856, -0.84958411,  0.24657736,\n",
              "         -0.85117425],\n",
              "        [-0.10542338, -0.3803568 ,  0.37011512, -1.23441354, -0.37688386,\n",
              "         -1.07904496],\n",
              "        [ 0.15057617,  0.39254327, -0.10309857,  1.28010768, -0.06486296,\n",
              "          0.7984074 ],\n",
              "        [-1.98550329,  0.94177423,  0.11111417, -1.70273121,  1.07132597,\n",
              "          1.70400628],\n",
              "        [-1.59726558, -0.74083006,  1.09785817, -2.96619483,  0.80260161,\n",
              "         -0.38950102],\n",
              "        [-0.2361974 ,  0.06778141, -0.07746467,  0.22771516,  0.28626394,\n",
              "          0.903608  ]]))"
            ]
          },
          "metadata": {
            "tags": []
          },
          "execution_count": 51
        }
      ]
    },
    {
      "cell_type": "code",
      "metadata": {
        "id": "Zas7hGxSVyTs"
      },
      "source": [
        "index = cp.array(list(range(4)))\n",
        "indexp = cp.roll(index,1)"
      ],
      "execution_count": null,
      "outputs": []
    },
    {
      "cell_type": "code",
      "metadata": {
        "colab": {
          "base_uri": "https://localhost:8080/"
        },
        "id": "C2mE9AaiZ6P1",
        "outputId": "80a8b745-f5db-4b98-b061-0aad5295e3d0"
      },
      "source": [
        "index,indexp"
      ],
      "execution_count": null,
      "outputs": [
        {
          "output_type": "execute_result",
          "data": {
            "text/plain": [
              "(array([0, 1, 2, 3]), array([3, 0, 1, 2]))"
            ]
          },
          "metadata": {
            "tags": []
          },
          "execution_count": 73
        }
      ]
    },
    {
      "cell_type": "code",
      "metadata": {
        "colab": {
          "base_uri": "https://localhost:8080/"
        },
        "id": "n2L1jWxzUzKq",
        "outputId": "e5601835-5b16-4f16-eea5-3c8fb621410e"
      },
      "source": [
        "%%timeit \n",
        "\n",
        "h[indexp]\n",
        "G[indexp]\n",
        "G[indexp]"
      ],
      "execution_count": null,
      "outputs": [
        {
          "output_type": "stream",
          "text": [
            "1000 loops, best of 3: 2.15 ms per loop\n"
          ],
          "name": "stdout"
        }
      ]
    },
    {
      "cell_type": "code",
      "metadata": {
        "colab": {
          "base_uri": "https://localhost:8080/"
        },
        "id": "6eNs5QrLYpdK",
        "outputId": "379c9bf6-959f-43ed-cf55-39af2bfb60e0"
      },
      "source": [
        "\n",
        "cp.roll(h,-1,axis=0)[0],h[1]\n"
      ],
      "execution_count": null,
      "outputs": [
        {
          "output_type": "execute_result",
          "data": {
            "text/plain": [
              "(array([[[ 0.20291433],\n",
              "         [-0.66918769]],\n",
              " \n",
              "        [[ 0.58185911],\n",
              "         [-0.73547444]]]), array([[[ 0.20291433],\n",
              "         [-0.66918769]],\n",
              " \n",
              "        [[ 0.58185911],\n",
              "         [-0.73547444]]]))"
            ]
          },
          "metadata": {
            "tags": []
          },
          "execution_count": 84
        }
      ]
    },
    {
      "cell_type": "code",
      "metadata": {
        "id": "tZRIJ3WoA-kn"
      },
      "source": [
        "one = cp.asarray(1.0)\n",
        "alpha = G[0,0] + I\n",
        "beta = 1"
      ],
      "execution_count": null,
      "outputs": []
    },
    {
      "cell_type": "code",
      "metadata": {
        "colab": {
          "base_uri": "https://localhost:8080/"
        },
        "id": "E730_po0N2US",
        "outputId": "40013baf-74d8-4a4c-f455-d56ae3e257b7"
      },
      "source": [
        "%timeit beta + I\n",
        "II = cp.int(1)\n",
        "%timeit I + II\n",
        "%timeit I + 1.0"
      ],
      "execution_count": null,
      "outputs": [
        {
          "output_type": "stream",
          "text": [
            "The slowest run took 9.51 times longer than the fastest. This could mean that an intermediate result is being cached.\n",
            "10000 loops, best of 3: 41.9 µs per loop\n",
            "10000 loops, best of 3: 26.7 µs per loop\n",
            "10000 loops, best of 3: 25.8 µs per loop\n"
          ],
          "name": "stdout"
        }
      ]
    },
    {
      "cell_type": "code",
      "metadata": {
        "colab": {
          "base_uri": "https://localhost:8080/"
        },
        "id": "gmE0ugq0NQAU",
        "outputId": "05da0fc7-c238-405f-ade2-125d894965b6"
      },
      "source": [
        "G[0,0],alpha,I.device,I+II"
      ],
      "execution_count": null,
      "outputs": [
        {
          "output_type": "execute_result",
          "data": {
            "text/plain": [
              "(array(0.52252296), array(1.52252296), <CUDA Device 0>, array(2.))"
            ]
          },
          "metadata": {
            "tags": []
          },
          "execution_count": 35
        }
      ]
    },
    {
      "cell_type": "code",
      "metadata": {
        "id": "M9GVRBLeLkfB"
      },
      "source": [
        "%lprun -f update update(G,h,128,I,I,I)"
      ],
      "execution_count": null,
      "outputs": []
    },
    {
      "cell_type": "code",
      "metadata": {
        "id": "RUqcc-drfsf_"
      },
      "source": [
        "np."
      ],
      "execution_count": null,
      "outputs": []
    },
    {
      "cell_type": "code",
      "metadata": {
        "colab": {
          "base_uri": "https://localhost:8080/",
          "height": 1000
        },
        "id": "xAJSX4cgzwIK",
        "outputId": "a9450375-5dd3-4b16-b82f-f1c852c286b2"
      },
      "source": [
        "%%timeit\n",
        "for i in range(30):\n",
        "    g,hh = update(G,h,128,1,1)\n",
        "    # g = cp.asarray(g)\n",
        "    # hh = cp.asarray(hh)"
      ],
      "execution_count": null,
      "outputs": [
        {
          "output_type": "error",
          "ename": "TypingError",
          "evalue": "ignored",
          "traceback": [
            "\u001b[0;31m---------------------------------------------------------------------------\u001b[0m",
            "\u001b[0;31mTypingError\u001b[0m                               Traceback (most recent call last)",
            "\u001b[0;32m<ipython-input-35-760f33a62323>\u001b[0m in \u001b[0;36m<module>\u001b[0;34m()\u001b[0m\n\u001b[0;32m----> 1\u001b[0;31m \u001b[0mget_ipython\u001b[0m\u001b[0;34m(\u001b[0m\u001b[0;34m)\u001b[0m\u001b[0;34m.\u001b[0m\u001b[0mrun_cell_magic\u001b[0m\u001b[0;34m(\u001b[0m\u001b[0;34m'timeit'\u001b[0m\u001b[0;34m,\u001b[0m \u001b[0;34m''\u001b[0m\u001b[0;34m,\u001b[0m \u001b[0;34m'for i in range(30):\\n    g,hh = update(G,h,128,1,1)\\n    # g = cp.asarray(g)\\n    # hh = cp.asarray(hh)'\u001b[0m\u001b[0;34m)\u001b[0m\u001b[0;34m\u001b[0m\u001b[0;34m\u001b[0m\u001b[0m\n\u001b[0m",
            "\u001b[0;32m/usr/local/lib/python3.6/dist-packages/IPython/core/interactiveshell.py\u001b[0m in \u001b[0;36mrun_cell_magic\u001b[0;34m(self, magic_name, line, cell)\u001b[0m\n\u001b[1;32m   2115\u001b[0m             \u001b[0mmagic_arg_s\u001b[0m \u001b[0;34m=\u001b[0m \u001b[0mself\u001b[0m\u001b[0;34m.\u001b[0m\u001b[0mvar_expand\u001b[0m\u001b[0;34m(\u001b[0m\u001b[0mline\u001b[0m\u001b[0;34m,\u001b[0m \u001b[0mstack_depth\u001b[0m\u001b[0;34m)\u001b[0m\u001b[0;34m\u001b[0m\u001b[0;34m\u001b[0m\u001b[0m\n\u001b[1;32m   2116\u001b[0m             \u001b[0;32mwith\u001b[0m \u001b[0mself\u001b[0m\u001b[0;34m.\u001b[0m\u001b[0mbuiltin_trap\u001b[0m\u001b[0;34m:\u001b[0m\u001b[0;34m\u001b[0m\u001b[0;34m\u001b[0m\u001b[0m\n\u001b[0;32m-> 2117\u001b[0;31m                 \u001b[0mresult\u001b[0m \u001b[0;34m=\u001b[0m \u001b[0mfn\u001b[0m\u001b[0;34m(\u001b[0m\u001b[0mmagic_arg_s\u001b[0m\u001b[0;34m,\u001b[0m \u001b[0mcell\u001b[0m\u001b[0;34m)\u001b[0m\u001b[0;34m\u001b[0m\u001b[0;34m\u001b[0m\u001b[0m\n\u001b[0m\u001b[1;32m   2118\u001b[0m             \u001b[0;32mreturn\u001b[0m \u001b[0mresult\u001b[0m\u001b[0;34m\u001b[0m\u001b[0;34m\u001b[0m\u001b[0m\n\u001b[1;32m   2119\u001b[0m \u001b[0;34m\u001b[0m\u001b[0m\n",
            "\u001b[0;32m<decorator-gen-59>\u001b[0m in \u001b[0;36mtimeit\u001b[0;34m(self, line, cell)\u001b[0m\n",
            "\u001b[0;32m/usr/local/lib/python3.6/dist-packages/IPython/core/magic.py\u001b[0m in \u001b[0;36m<lambda>\u001b[0;34m(f, *a, **k)\u001b[0m\n\u001b[1;32m    186\u001b[0m     \u001b[0;31m# but it's overkill for just that one bit of state.\u001b[0m\u001b[0;34m\u001b[0m\u001b[0;34m\u001b[0m\u001b[0;34m\u001b[0m\u001b[0m\n\u001b[1;32m    187\u001b[0m     \u001b[0;32mdef\u001b[0m \u001b[0mmagic_deco\u001b[0m\u001b[0;34m(\u001b[0m\u001b[0marg\u001b[0m\u001b[0;34m)\u001b[0m\u001b[0;34m:\u001b[0m\u001b[0;34m\u001b[0m\u001b[0;34m\u001b[0m\u001b[0m\n\u001b[0;32m--> 188\u001b[0;31m         \u001b[0mcall\u001b[0m \u001b[0;34m=\u001b[0m \u001b[0;32mlambda\u001b[0m \u001b[0mf\u001b[0m\u001b[0;34m,\u001b[0m \u001b[0;34m*\u001b[0m\u001b[0ma\u001b[0m\u001b[0;34m,\u001b[0m \u001b[0;34m**\u001b[0m\u001b[0mk\u001b[0m\u001b[0;34m:\u001b[0m \u001b[0mf\u001b[0m\u001b[0;34m(\u001b[0m\u001b[0;34m*\u001b[0m\u001b[0ma\u001b[0m\u001b[0;34m,\u001b[0m \u001b[0;34m**\u001b[0m\u001b[0mk\u001b[0m\u001b[0;34m)\u001b[0m\u001b[0;34m\u001b[0m\u001b[0;34m\u001b[0m\u001b[0m\n\u001b[0m\u001b[1;32m    189\u001b[0m \u001b[0;34m\u001b[0m\u001b[0m\n\u001b[1;32m    190\u001b[0m         \u001b[0;32mif\u001b[0m \u001b[0mcallable\u001b[0m\u001b[0;34m(\u001b[0m\u001b[0marg\u001b[0m\u001b[0;34m)\u001b[0m\u001b[0;34m:\u001b[0m\u001b[0;34m\u001b[0m\u001b[0;34m\u001b[0m\u001b[0m\n",
            "\u001b[0;32m/usr/local/lib/python3.6/dist-packages/IPython/core/magics/execution.py\u001b[0m in \u001b[0;36mtimeit\u001b[0;34m(self, line, cell)\u001b[0m\n\u001b[1;32m   1055\u001b[0m             \u001b[0mnumber\u001b[0m \u001b[0;34m=\u001b[0m \u001b[0;36m1\u001b[0m\u001b[0;34m\u001b[0m\u001b[0;34m\u001b[0m\u001b[0m\n\u001b[1;32m   1056\u001b[0m             \u001b[0;32mfor\u001b[0m \u001b[0m_\u001b[0m \u001b[0;32min\u001b[0m \u001b[0mrange\u001b[0m\u001b[0;34m(\u001b[0m\u001b[0;36m1\u001b[0m\u001b[0;34m,\u001b[0m \u001b[0;36m10\u001b[0m\u001b[0;34m)\u001b[0m\u001b[0;34m:\u001b[0m\u001b[0;34m\u001b[0m\u001b[0;34m\u001b[0m\u001b[0m\n\u001b[0;32m-> 1057\u001b[0;31m                 \u001b[0mtime_number\u001b[0m \u001b[0;34m=\u001b[0m \u001b[0mtimer\u001b[0m\u001b[0;34m.\u001b[0m\u001b[0mtimeit\u001b[0m\u001b[0;34m(\u001b[0m\u001b[0mnumber\u001b[0m\u001b[0;34m)\u001b[0m\u001b[0;34m\u001b[0m\u001b[0;34m\u001b[0m\u001b[0m\n\u001b[0m\u001b[1;32m   1058\u001b[0m                 \u001b[0mworst_tuning\u001b[0m \u001b[0;34m=\u001b[0m \u001b[0mmax\u001b[0m\u001b[0;34m(\u001b[0m\u001b[0mworst_tuning\u001b[0m\u001b[0;34m,\u001b[0m \u001b[0mtime_number\u001b[0m \u001b[0;34m/\u001b[0m \u001b[0mnumber\u001b[0m\u001b[0;34m)\u001b[0m\u001b[0;34m\u001b[0m\u001b[0;34m\u001b[0m\u001b[0m\n\u001b[1;32m   1059\u001b[0m                 \u001b[0;32mif\u001b[0m \u001b[0mtime_number\u001b[0m \u001b[0;34m>=\u001b[0m \u001b[0;36m0.2\u001b[0m\u001b[0;34m:\u001b[0m\u001b[0;34m\u001b[0m\u001b[0;34m\u001b[0m\u001b[0m\n",
            "\u001b[0;32m/usr/local/lib/python3.6/dist-packages/IPython/core/magics/execution.py\u001b[0m in \u001b[0;36mtimeit\u001b[0;34m(self, number)\u001b[0m\n\u001b[1;32m    137\u001b[0m         \u001b[0mgc\u001b[0m\u001b[0;34m.\u001b[0m\u001b[0mdisable\u001b[0m\u001b[0;34m(\u001b[0m\u001b[0;34m)\u001b[0m\u001b[0;34m\u001b[0m\u001b[0;34m\u001b[0m\u001b[0m\n\u001b[1;32m    138\u001b[0m         \u001b[0;32mtry\u001b[0m\u001b[0;34m:\u001b[0m\u001b[0;34m\u001b[0m\u001b[0;34m\u001b[0m\u001b[0m\n\u001b[0;32m--> 139\u001b[0;31m             \u001b[0mtiming\u001b[0m \u001b[0;34m=\u001b[0m \u001b[0mself\u001b[0m\u001b[0;34m.\u001b[0m\u001b[0minner\u001b[0m\u001b[0;34m(\u001b[0m\u001b[0mit\u001b[0m\u001b[0;34m,\u001b[0m \u001b[0mself\u001b[0m\u001b[0;34m.\u001b[0m\u001b[0mtimer\u001b[0m\u001b[0;34m)\u001b[0m\u001b[0;34m\u001b[0m\u001b[0;34m\u001b[0m\u001b[0m\n\u001b[0m\u001b[1;32m    140\u001b[0m         \u001b[0;32mfinally\u001b[0m\u001b[0;34m:\u001b[0m\u001b[0;34m\u001b[0m\u001b[0;34m\u001b[0m\u001b[0m\n\u001b[1;32m    141\u001b[0m             \u001b[0;32mif\u001b[0m \u001b[0mgcold\u001b[0m\u001b[0;34m:\u001b[0m\u001b[0;34m\u001b[0m\u001b[0;34m\u001b[0m\u001b[0m\n",
            "\u001b[0;32m<magic-timeit>\u001b[0m in \u001b[0;36minner\u001b[0;34m(_it, _timer)\u001b[0m\n",
            "\u001b[0;32m/usr/local/lib/python3.6/dist-packages/numba/dispatcher.py\u001b[0m in \u001b[0;36m_compile_for_args\u001b[0;34m(self, *args, **kws)\u001b[0m\n\u001b[1;32m    399\u001b[0m                 \u001b[0me\u001b[0m\u001b[0;34m.\u001b[0m\u001b[0mpatch_message\u001b[0m\u001b[0;34m(\u001b[0m\u001b[0mmsg\u001b[0m\u001b[0;34m)\u001b[0m\u001b[0;34m\u001b[0m\u001b[0;34m\u001b[0m\u001b[0m\n\u001b[1;32m    400\u001b[0m \u001b[0;34m\u001b[0m\u001b[0m\n\u001b[0;32m--> 401\u001b[0;31m             \u001b[0merror_rewrite\u001b[0m\u001b[0;34m(\u001b[0m\u001b[0me\u001b[0m\u001b[0;34m,\u001b[0m \u001b[0;34m'typing'\u001b[0m\u001b[0;34m)\u001b[0m\u001b[0;34m\u001b[0m\u001b[0;34m\u001b[0m\u001b[0m\n\u001b[0m\u001b[1;32m    402\u001b[0m         \u001b[0;32mexcept\u001b[0m \u001b[0merrors\u001b[0m\u001b[0;34m.\u001b[0m\u001b[0mUnsupportedError\u001b[0m \u001b[0;32mas\u001b[0m \u001b[0me\u001b[0m\u001b[0;34m:\u001b[0m\u001b[0;34m\u001b[0m\u001b[0;34m\u001b[0m\u001b[0m\n\u001b[1;32m    403\u001b[0m             \u001b[0;31m# Something unsupported is present in the user code, add help info\u001b[0m\u001b[0;34m\u001b[0m\u001b[0;34m\u001b[0m\u001b[0;34m\u001b[0m\u001b[0m\n",
            "\u001b[0;32m/usr/local/lib/python3.6/dist-packages/numba/dispatcher.py\u001b[0m in \u001b[0;36merror_rewrite\u001b[0;34m(e, issue_type)\u001b[0m\n\u001b[1;32m    342\u001b[0m                 \u001b[0;32mraise\u001b[0m \u001b[0me\u001b[0m\u001b[0;34m\u001b[0m\u001b[0;34m\u001b[0m\u001b[0m\n\u001b[1;32m    343\u001b[0m             \u001b[0;32melse\u001b[0m\u001b[0;34m:\u001b[0m\u001b[0;34m\u001b[0m\u001b[0;34m\u001b[0m\u001b[0m\n\u001b[0;32m--> 344\u001b[0;31m                 \u001b[0mreraise\u001b[0m\u001b[0;34m(\u001b[0m\u001b[0mtype\u001b[0m\u001b[0;34m(\u001b[0m\u001b[0me\u001b[0m\u001b[0;34m)\u001b[0m\u001b[0;34m,\u001b[0m \u001b[0me\u001b[0m\u001b[0;34m,\u001b[0m \u001b[0;32mNone\u001b[0m\u001b[0;34m)\u001b[0m\u001b[0;34m\u001b[0m\u001b[0;34m\u001b[0m\u001b[0m\n\u001b[0m\u001b[1;32m    345\u001b[0m \u001b[0;34m\u001b[0m\u001b[0m\n\u001b[1;32m    346\u001b[0m         \u001b[0margtypes\u001b[0m \u001b[0;34m=\u001b[0m \u001b[0;34m[\u001b[0m\u001b[0;34m]\u001b[0m\u001b[0;34m\u001b[0m\u001b[0;34m\u001b[0m\u001b[0m\n",
            "\u001b[0;32m/usr/local/lib/python3.6/dist-packages/numba/six.py\u001b[0m in \u001b[0;36mreraise\u001b[0;34m(tp, value, tb)\u001b[0m\n\u001b[1;32m    666\u001b[0m             \u001b[0mvalue\u001b[0m \u001b[0;34m=\u001b[0m \u001b[0mtp\u001b[0m\u001b[0;34m(\u001b[0m\u001b[0;34m)\u001b[0m\u001b[0;34m\u001b[0m\u001b[0;34m\u001b[0m\u001b[0m\n\u001b[1;32m    667\u001b[0m         \u001b[0;32mif\u001b[0m \u001b[0mvalue\u001b[0m\u001b[0;34m.\u001b[0m\u001b[0m__traceback__\u001b[0m \u001b[0;32mis\u001b[0m \u001b[0;32mnot\u001b[0m \u001b[0mtb\u001b[0m\u001b[0;34m:\u001b[0m\u001b[0;34m\u001b[0m\u001b[0;34m\u001b[0m\u001b[0m\n\u001b[0;32m--> 668\u001b[0;31m             \u001b[0;32mraise\u001b[0m \u001b[0mvalue\u001b[0m\u001b[0;34m.\u001b[0m\u001b[0mwith_traceback\u001b[0m\u001b[0;34m(\u001b[0m\u001b[0mtb\u001b[0m\u001b[0;34m)\u001b[0m\u001b[0;34m\u001b[0m\u001b[0;34m\u001b[0m\u001b[0m\n\u001b[0m\u001b[1;32m    669\u001b[0m         \u001b[0;32mraise\u001b[0m \u001b[0mvalue\u001b[0m\u001b[0;34m\u001b[0m\u001b[0;34m\u001b[0m\u001b[0m\n\u001b[1;32m    670\u001b[0m \u001b[0;34m\u001b[0m\u001b[0m\n",
            "\u001b[0;31mTypingError\u001b[0m: Failed in nopython mode pipeline (step: nopython frontend)\nInvalid use of Function(<built-in function getitem>) with argument(s) of type(s): (array(float64, 1d, A), Tuple(slice<a:b>, none))\n * parameterized\nIn definition 0:\n    All templates rejected with literals.\nIn definition 1:\n    All templates rejected without literals.\nIn definition 2:\n    All templates rejected with literals.\nIn definition 3:\n    All templates rejected without literals.\nIn definition 4:\n    All templates rejected with literals.\nIn definition 5:\n    All templates rejected without literals.\nIn definition 6:\n    All templates rejected with literals.\nIn definition 7:\n    All templates rejected without literals.\nIn definition 8:\n    All templates rejected with literals.\nIn definition 9:\n    All templates rejected without literals.\nIn definition 10:\n    All templates rejected with literals.\nIn definition 11:\n    All templates rejected without literals.\nIn definition 12:\n    TypeError: unsupported array index type none in Tuple(slice<a:b>, none)\n    raised from /usr/local/lib/python3.6/dist-packages/numba/typing/arraydecl.py:71\nIn definition 13:\n    TypeError: unsupported array index type none in Tuple(slice<a:b>, none)\n    raised from /usr/local/lib/python3.6/dist-packages/numba/typing/arraydecl.py:71\nThis error is usually caused by passing an argument of a type that is unsupported by the named function.\n[1] During: typing of intrinsic-call at <ipython-input-33-6544551980d0> (140)\n[2] During: typing of static-get-item at <ipython-input-33-6544551980d0> (140)\n\nFile \"<ipython-input-33-6544551980d0>\", line 140:\ndef update(G, hs, N_s, gamma1, gamma2):\n    <source elided>\n        # update greens \n            k = G[:,i][:,None]\n            ^\n"
          ]
        }
      ]
    },
    {
      "cell_type": "code",
      "metadata": {
        "id": "QcL8P2dkQOWU"
      },
      "source": [
        "from numba.cuda.random import create_xoroshiro128p_states, xoroshiro128p_uniform_float32"
      ],
      "execution_count": null,
      "outputs": []
    },
    {
      "cell_type": "code",
      "metadata": {
        "colab": {
          "base_uri": "https://localhost:8080/"
        },
        "id": "U1bn0wIKRwsT",
        "outputId": "f60151d8-964e-4130-dfd6-739f9c5f3dc1"
      },
      "source": [
        "from __future__ import print_function, absolute_import\n",
        "\n",
        "from numba import cuda\n",
        "from numba.cuda.random import create_xoroshiro128p_states, xoroshiro128p_uniform_float32\n",
        "import numpy as np\n",
        "\n",
        "@cuda.jit\n",
        "def compute_pi(rng_states, iterations, out):\n",
        "    \"\"\"Find the maximum value in values and store in result[0]\"\"\"\n",
        "    thread_id = cuda.grid(1)\n",
        "\n",
        "    # Compute pi by drawing random (x, y) points and finding what\n",
        "    # fraction lie inside a unit circle\n",
        "    inside = 0\n",
        "    for i in range(iterations):\n",
        "        x = xoroshiro128p_uniform_float32(rng_states, thread_id)\n",
        "        y = xoroshiro128p_uniform_float32(rng_states, thread_id)\n",
        "        if x**2 + y**2 <= 1.0:\n",
        "            inside += 1\n",
        "\n",
        "    out[thread_id] = 4.0 * inside / iterations\n",
        "\n",
        "threads_per_block = 64\n",
        "blocks = 24\n",
        "rng_states = create_xoroshiro128p_states(threads_per_block * blocks, seed=1)\n",
        "out = np.zeros(threads_per_block * blocks, dtype=np.float32)\n",
        "\n",
        "compute_pi[blocks, threads_per_block](rng_states, 100000000, out)\n",
        "print('pi:', out.mean())\n"
      ],
      "execution_count": null,
      "outputs": [
        {
          "output_type": "stream",
          "text": [
            "pi: 3.1415894\n"
          ],
          "name": "stdout"
        }
      ]
    },
    {
      "cell_type": "code",
      "metadata": {
        "colab": {
          "base_uri": "https://localhost:8080/"
        },
        "id": "qhoewFN3_Q_1",
        "outputId": "6d9ff18d-1ead-4a6d-eb5c-9c6a0f0817b8"
      },
      "source": [
        "1000000*10/3600/24/30"
      ],
      "execution_count": null,
      "outputs": [
        {
          "output_type": "execute_result",
          "data": {
            "text/plain": [
              "3.858024691358025"
            ]
          },
          "metadata": {
            "tags": []
          },
          "execution_count": 228
        }
      ]
    },
    {
      "cell_type": "code",
      "metadata": {
        "id": "VNux9snQ7kZ8"
      },
      "source": [
        "def test(G):\n",
        "    G[i+128,i+128] \n",
        "    1 * G[i+128,i] * G[i,i+128] \n",
        "    1-G[i,i]\n",
        "    1-2\n",
        "    a = G[i,i]\n",
        "    G[i,i]\n",
        "    1-a"
      ],
      "execution_count": null,
      "outputs": []
    },
    {
      "cell_type": "code",
      "metadata": {
        "id": "vX46dqRZ7zka"
      },
      "source": [
        "G = np.random.normal(size=(256,256))\n",
        "%lprun -f test test(G)"
      ],
      "execution_count": null,
      "outputs": []
    },
    {
      "cell_type": "code",
      "metadata": {
        "id": "pVXTmh5uhT4T"
      },
      "source": [
        "a = cp.random.normal(size=(30,256,256))\n",
        "b = cp.asnumpy(a)"
      ],
      "execution_count": null,
      "outputs": []
    },
    {
      "cell_type": "code",
      "metadata": {
        "colab": {
          "base_uri": "https://localhost:8080/"
        },
        "id": "IcRoseOmm0p7",
        "outputId": "0727bd96-5b43-49bb-859e-47ab1e34e724"
      },
      "source": [
        "%timeit QR_prime(b,10)"
      ],
      "execution_count": null,
      "outputs": [
        {
          "output_type": "stream",
          "text": [
            "10 loops, best of 3: 56.6 ms per loop\n"
          ],
          "name": "stdout"
        }
      ]
    },
    {
      "cell_type": "code",
      "metadata": {
        "colab": {
          "base_uri": "https://localhost:8080/"
        },
        "id": "r9MNqlD7pM08",
        "outputId": "82a11e08-9fcd-41bd-af03-c0f8fa28310c"
      },
      "source": [
        "%timeit QR_prime2(a,10)"
      ],
      "execution_count": null,
      "outputs": [
        {
          "output_type": "stream",
          "text": [
            "10 loops, best of 3: 17.6 ms per loop\n"
          ],
          "name": "stdout"
        }
      ]
    },
    {
      "cell_type": "code",
      "metadata": {
        "id": "4eDqbJ-IksbX"
      },
      "source": [
        "%lprun -f QR QR(b)"
      ],
      "execution_count": null,
      "outputs": []
    },
    {
      "cell_type": "code",
      "metadata": {
        "id": "e-a1HJKSj47N"
      },
      "source": [
        "I = cp.eye(len(a[0]))\n",
        "%lprun -f QR2 QR2(a,I)"
      ],
      "execution_count": null,
      "outputs": []
    },
    {
      "cell_type": "code",
      "metadata": {
        "id": "7mHtjzdwwgfG"
      },
      "source": [
        "Q1,D1,T1 = QR(b)"
      ],
      "execution_count": null,
      "outputs": []
    },
    {
      "cell_type": "code",
      "metadata": {
        "id": "C_tYzC0-3O1l"
      },
      "source": [
        "Q2,D2,T2 = QR2(a,I)"
      ],
      "execution_count": null,
      "outputs": []
    },
    {
      "cell_type": "code",
      "metadata": {
        "colab": {
          "base_uri": "https://localhost:8080/"
        },
        "id": "RuFdCjlMEehs",
        "outputId": "66071668-62dd-419b-a947-bfa1f69dd6ac"
      },
      "source": [
        "g1 = invers(Q1,D1,T1)"
      ],
      "execution_count": null,
      "outputs": [
        {
          "output_type": "stream",
          "text": [
            "10 loops, best of 3: 52.6 ms per loop\n"
          ],
          "name": "stdout"
        }
      ]
    },
    {
      "cell_type": "code",
      "metadata": {
        "id": "ndOjc-2TFM1O"
      },
      "source": [
        "g2 = invers2(Q2,D2,T2)"
      ],
      "execution_count": null,
      "outputs": []
    },
    {
      "cell_type": "code",
      "metadata": {
        "colab": {
          "base_uri": "https://localhost:8080/"
        },
        "id": "fAocnWlyFTE_",
        "outputId": "378cff69-9070-497e-e3b0-c27eb3290f86"
      },
      "source": [
        "np.isclose(g1,cp.asnumpy(g2))"
      ],
      "execution_count": null,
      "outputs": [
        {
          "output_type": "execute_result",
          "data": {
            "text/plain": [
              "array([[ True,  True,  True, ...,  True,  True,  True],\n",
              "       [ True,  True,  True, ...,  True,  True,  True],\n",
              "       [ True,  True,  True, ...,  True,  True,  True],\n",
              "       ...,\n",
              "       [ True,  True,  True, ...,  True,  True,  True],\n",
              "       [ True,  True,  True, ...,  True,  True,  True],\n",
              "       [ True,  True,  True, ...,  True,  True,  True]])"
            ]
          },
          "metadata": {
            "tags": []
          },
          "execution_count": 22
        }
      ]
    },
    {
      "cell_type": "code",
      "metadata": {
        "colab": {
          "base_uri": "https://localhost:8080/"
        },
        "id": "FVN9zWgrFbmT",
        "outputId": "a126ade7-6292-433b-a6e5-96c360b17a5b"
      },
      "source": [
        "g1"
      ],
      "execution_count": null,
      "outputs": [
        {
          "output_type": "execute_result",
          "data": {
            "text/plain": [
              "array([[ 0.08069409, -0.34624383, -0.14043474, ..., -0.09710991,\n",
              "        -0.08077082, -0.0762052 ],\n",
              "       [-0.07961458,  0.34078457,  0.13815014, ...,  0.09556778,\n",
              "         0.0796993 ,  0.07510105],\n",
              "       [ 0.17334411, -0.74328726, -0.30144608, ..., -0.2084629 ,\n",
              "        -0.17349993, -0.16364319],\n",
              "       ...,\n",
              "       [ 0.12159123, -0.52163127, -0.21157225, ..., -0.1463003 ,\n",
              "        -0.12169891, -0.11481339],\n",
              "       [-0.08223615,  0.35320466,  0.14330137, ...,  0.09906876,\n",
              "         0.0822972 ,  0.07769048],\n",
              "       [ 0.04013221, -0.1711738 , -0.06934522, ..., -0.04799572,\n",
              "        -0.04017664, -0.03779238]])"
            ]
          },
          "metadata": {
            "tags": []
          },
          "execution_count": 23
        }
      ]
    },
    {
      "cell_type": "code",
      "metadata": {
        "colab": {
          "base_uri": "https://localhost:8080/"
        },
        "id": "v1DHXCsfFduF",
        "outputId": "6438ea27-fa54-4ee5-baff-004c2b1e5745"
      },
      "source": [
        "g2"
      ],
      "execution_count": null,
      "outputs": [
        {
          "output_type": "execute_result",
          "data": {
            "text/plain": [
              "array([[ 0.08069409, -0.34624383, -0.14043474, ..., -0.09710991,\n",
              "        -0.08077082, -0.0762052 ],\n",
              "       [-0.07961458,  0.34078457,  0.13815014, ...,  0.09556778,\n",
              "         0.0796993 ,  0.07510105],\n",
              "       [ 0.17334411, -0.74328726, -0.30144608, ..., -0.2084629 ,\n",
              "        -0.17349993, -0.16364319],\n",
              "       ...,\n",
              "       [ 0.12159123, -0.52163127, -0.21157225, ..., -0.1463003 ,\n",
              "        -0.12169891, -0.11481339],\n",
              "       [-0.08223615,  0.35320466,  0.14330137, ...,  0.09906876,\n",
              "         0.0822972 ,  0.07769048],\n",
              "       [ 0.04013221, -0.1711738 , -0.06934522, ..., -0.04799572,\n",
              "        -0.04017664, -0.03779238]])"
            ]
          },
          "metadata": {
            "tags": []
          },
          "execution_count": 24
        }
      ]
    },
    {
      "cell_type": "code",
      "metadata": {
        "colab": {
          "base_uri": "https://localhost:8080/"
        },
        "id": "5LcdF_kU3k5V",
        "outputId": "13e8a74a-ad2d-42b7-c5f7-3fa3ae6d7f79"
      },
      "source": [
        "np.max(Q1-cp.asnumpy(Q2))"
      ],
      "execution_count": null,
      "outputs": [
        {
          "output_type": "execute_result",
          "data": {
            "text/plain": [
              "6.014806708254383e-14"
            ]
          },
          "metadata": {
            "tags": []
          },
          "execution_count": 117
        }
      ]
    },
    {
      "cell_type": "code",
      "metadata": {
        "colab": {
          "base_uri": "https://localhost:8080/"
        },
        "id": "4gX0RbAs3-CI",
        "outputId": "3d296c02-d24e-4303-d34e-b8ef3836564f"
      },
      "source": [
        "np.isclose(D1,np.diag(cp.asnumpy(D2)))"
      ],
      "execution_count": null,
      "outputs": [
        {
          "output_type": "execute_result",
          "data": {
            "text/plain": [
              "array([[ True,  True,  True, ...,  True,  True,  True],\n",
              "       [ True,  True,  True, ...,  True,  True,  True],\n",
              "       [ True,  True,  True, ...,  True,  True,  True],\n",
              "       ...,\n",
              "       [ True,  True,  True, ...,  True,  True,  True],\n",
              "       [ True,  True,  True, ...,  True,  True,  True],\n",
              "       [ True,  True,  True, ...,  True,  True,  True]])"
            ]
          },
          "metadata": {
            "tags": []
          },
          "execution_count": 122
        }
      ]
    },
    {
      "cell_type": "code",
      "metadata": {
        "colab": {
          "base_uri": "https://localhost:8080/"
        },
        "id": "1W7TGNVF4FOx",
        "outputId": "8a63d65c-5811-4735-82ee-ef15ce42eeee"
      },
      "source": [
        "np.max(T1-cp.asnumpy(T2))"
      ],
      "execution_count": null,
      "outputs": [
        {
          "output_type": "execute_result",
          "data": {
            "text/plain": [
              "3.2880365097298636e-12"
            ]
          },
          "metadata": {
            "tags": []
          },
          "execution_count": 119
        }
      ]
    },
    {
      "cell_type": "code",
      "metadata": {
        "colab": {
          "base_uri": "https://localhost:8080/"
        },
        "id": "ZH3iwfWmWlSb",
        "outputId": "20f38d4a-1b27-4e97-890a-4f72481c0244"
      },
      "source": [
        "D2"
      ],
      "execution_count": null,
      "outputs": [
        {
          "output_type": "execute_result",
          "data": {
            "text/plain": [
              "array([ 1.07384992e+36,  1.09819751e+36, -1.26512615e+36,  1.32223897e+36,\n",
              "       -1.25922481e+36, -1.00151505e+36,  8.47926620e+35,  1.07296155e+36,\n",
              "       -6.61013828e+35,  1.36882718e+36,  7.10816743e+35,  3.99909045e+35,\n",
              "       -7.71049141e+35, -6.48919000e+35,  4.71907214e+35,  4.41789358e+35,\n",
              "       -4.43333240e+35,  5.20271686e+35,  5.60688385e+35,  3.19461712e+35,\n",
              "        4.79590422e+35, -4.24904424e+35,  3.56947968e+35,  2.43991626e+35,\n",
              "        2.74854203e+35, -3.55829035e+35, -2.73351605e+35, -3.38482737e+35,\n",
              "       -2.67919622e+35,  2.19847611e+35,  1.35799432e+35,  1.55505628e+35,\n",
              "        2.03220716e+35,  1.35755368e+35, -1.74525434e+35, -1.28094149e+35,\n",
              "       -1.01309161e+35, -1.42373079e+35,  8.81167661e+34, -1.61097664e+35,\n",
              "        1.00973140e+35,  9.25674605e+34,  8.35789577e+34, -7.89386353e+34,\n",
              "       -6.96719442e+34,  8.38272806e+34, -7.93278898e+34, -4.94780146e+34,\n",
              "        4.10006217e+34, -5.66687847e+34, -4.15963293e+34, -2.65750139e+34,\n",
              "        4.52694707e+34, -5.16102230e+34, -5.85594964e+34, -3.19320523e+34,\n",
              "       -3.58553191e+34,  2.65007532e+34,  2.24796115e+34, -2.75317728e+34,\n",
              "       -2.79184917e+34,  1.53181272e+34, -2.28029099e+34, -1.73298144e+34,\n",
              "       -1.09768859e+34,  1.36076275e+34,  1.10394761e+34,  7.00462826e+33,\n",
              "       -7.93224210e+33,  1.27514769e+34, -1.01442636e+34, -9.95727978e+33,\n",
              "       -4.04722792e+33,  1.07689786e+34, -6.88680140e+33,  6.79169070e+33,\n",
              "       -6.84261248e+33, -3.76989413e+33, -3.88562414e+33,  4.46258807e+33,\n",
              "       -4.36359039e+33, -6.37683314e+33, -4.18953014e+33,  3.05309826e+33,\n",
              "        3.86408517e+33, -3.17895910e+33, -2.34141523e+33, -2.46964545e+33,\n",
              "       -2.58988439e+33,  1.94927081e+33, -2.73831187e+33, -2.12214651e+33,\n",
              "        1.91539810e+33, -1.79620959e+33,  8.70109315e+32, -5.58717531e+32,\n",
              "       -1.24980708e+33, -8.30723067e+32, -1.46294665e+33,  6.93129378e+32,\n",
              "       -6.38585044e+32, -7.66235414e+32, -3.64128040e+32, -4.65974209e+32,\n",
              "       -6.20433014e+32,  3.07120179e+32,  4.01834722e+32, -3.76085736e+32,\n",
              "        3.36002459e+32, -4.53978564e+32,  3.06243010e+32, -3.49534120e+32,\n",
              "       -2.40717691e+32,  1.72222868e+32,  1.38136140e+32, -1.13128718e+32,\n",
              "       -1.32945783e+32, -1.35123972e+32, -5.09219801e+31,  7.41845583e+31,\n",
              "       -7.98629618e+31, -6.33502795e+31, -4.02446984e+31, -1.09870708e+32,\n",
              "        4.12995678e+31,  5.39182101e+31, -5.06804363e+31,  3.00274535e+31,\n",
              "        6.59897229e+31, -2.38540850e+31, -1.72465675e+31, -1.62386537e+31,\n",
              "       -2.89204860e+31,  1.68100093e+31,  2.13105372e+31, -1.75847639e+31,\n",
              "       -8.06166291e+30, -1.03443506e+31,  9.02406779e+30,  7.93174974e+30,\n",
              "        6.87884928e+30,  7.59934092e+30, -8.80470861e+30,  1.63702982e+31,\n",
              "        7.73886921e+30,  2.57189056e+30, -5.24025072e+30,  3.29676175e+30,\n",
              "       -3.34065950e+30, -2.67917078e+30, -1.85131818e+30, -1.63948432e+30,\n",
              "        1.70548371e+30,  1.29094493e+30, -7.62944267e+29,  9.38297709e+29,\n",
              "       -1.36626607e+30, -6.19841295e+29,  9.43513522e+29, -3.49585116e+29,\n",
              "        9.65174164e+29, -3.55474357e+29,  3.69813389e+29,  1.35352738e+29,\n",
              "        3.03948504e+29, -1.13964917e+29,  1.66569158e+29, -2.43859390e+29,\n",
              "       -6.03948586e+28, -6.34204919e+28,  1.88835009e+29, -1.12068943e+29,\n",
              "        4.23743228e+28, -1.33817326e+29, -3.64157917e+28,  6.17029176e+28,\n",
              "        5.34020594e+28,  5.23573327e+28, -3.53771846e+28, -1.23821029e+28,\n",
              "        1.07647376e+28, -1.79204719e+28,  5.11629786e+27,  5.00183713e+27,\n",
              "       -6.60249281e+27,  6.15723772e+27,  1.65060774e+27, -5.87800867e+27,\n",
              "       -1.46409465e+27, -2.13632701e+27, -6.68070331e+26,  1.45289496e+27,\n",
              "       -9.06921969e+26, -4.91812460e+26,  2.26121354e+26,  4.89148018e+26,\n",
              "       -3.54644975e+26, -1.88989995e+26, -2.36008538e+26, -2.21403765e+26,\n",
              "        1.81923170e+26, -1.82138564e+26, -1.14803879e+26,  1.69632161e+26,\n",
              "       -6.96414580e+25,  3.71762948e+25,  1.60603145e+25,  1.39785203e+25,\n",
              "       -1.97349365e+25, -1.00073364e+25,  6.28935309e+24, -5.47630409e+24,\n",
              "        3.67887515e+24,  2.86318721e+24, -7.22231936e+23, -1.46761258e+24,\n",
              "        4.53145715e+23,  5.67851602e+23, -2.42012473e+23, -2.09234072e+23,\n",
              "       -1.91231733e+23,  1.16830811e+23,  5.70983942e+22, -3.34621378e+22,\n",
              "        1.26921122e+22, -1.42948008e+22, -3.29143907e+22,  1.41744855e+22,\n",
              "        9.70506693e+21, -9.18571786e+20,  6.85584893e+20, -6.95433106e+20,\n",
              "       -8.03484907e+20, -2.61532918e+20, -6.80985798e+19, -4.29317025e+18,\n",
              "        2.82844621e+19,  3.50747291e+18, -4.03536743e+18, -6.11776187e+18,\n",
              "       -2.32698347e+17,  2.32512237e+17, -8.73662650e+16,  7.23675803e+15,\n",
              "       -2.81261166e+15, -4.64054824e+14,  5.66302605e+14, -2.51207127e+13,\n",
              "        4.22633669e+13,  1.36559531e+12,  7.94906593e+10,  1.81745564e+09,\n",
              "        7.39045495e+06,  9.70239630e+04,  3.73821231e+00, -2.87845293e-14])"
            ]
          },
          "metadata": {
            "tags": []
          },
          "execution_count": 121
        }
      ]
    },
    {
      "cell_type": "code",
      "metadata": {
        "id": "xFO9LS_PWpA8"
      },
      "source": [
        "%timeit [np.linalg.qr(a[i]) for i in range(30)]"
      ],
      "execution_count": null,
      "outputs": []
    },
    {
      "cell_type": "code",
      "metadata": {
        "id": "P1T18pxOhRBs"
      },
      "source": [
        "%%prun\n",
        "Q = I\n",
        "D = I\n",
        "T = I\n",
        "\n",
        "for i in range(len(a)):\n",
        "    A = (a[len(a) - i - 1]).dot(Q.dot(D))\n",
        "    Q, R = cp.linalg.qr(A)\n",
        "\n",
        "    T_prime = (cp.diag(1 / cp.diag(R))).dot(R)\n",
        "    T = T_prime.dot(T)\n",
        "    D = cp.diag(cp.diag(R))"
      ],
      "execution_count": null,
      "outputs": []
    },
    {
      "cell_type": "code",
      "metadata": {
        "id": "orHkgVXIiF0N"
      },
      "source": [
        "def qr(z):\n",
        "    s = np.identity(len(z[0]))\n",
        "    u = np.identity(len(z[0]))\n",
        "    vh = np.identity(len(z[0]))\n",
        "\n",
        "    for j in range(len(z)):\n",
        "        u_1, s_1 = np.linalg.qr(z[j], full_matrices=True)\n",
        "        s_1_diag = np.diag(s_1)\n",
        "        a = np.matmul(s_1_diag, np.matmul(np.matmul(vh_1, u), s))\n",
        "        u_2, s_2, vh_2 = np.linalg.qr(a, full_matrices=True)\n",
        "        u = np.matmul(u_1, u_2)\n",
        "        s_2_diag = np.diag(s_2)\n",
        "        s = s_2_diag\n",
        "        vh = np.matmul(vh_2, vh)\n",
        "\n",
        "    return u, s, vh\n",
        "\n",
        "\n",
        "\n"
      ],
      "execution_count": null,
      "outputs": []
    },
    {
      "cell_type": "code",
      "metadata": {
        "id": "jLXRQ-5ujfbm"
      },
      "source": [
        "%timeit qr(a)"
      ],
      "execution_count": null,
      "outputs": []
    },
    {
      "cell_type": "code",
      "metadata": {
        "id": "NZX1xwOZjkdq"
      },
      "source": [
        "x_cpu = b[0]\n",
        "x_gpu = a[0]\n",
        "\n",
        "%timeit np.linalg.qr(x_cpu)\n",
        "\n",
        "%timeit cp.linalg.qr(x_gpu)\n"
      ],
      "execution_count": null,
      "outputs": []
    },
    {
      "cell_type": "code",
      "metadata": {
        "id": "WxMIB3zLmKXm"
      },
      "source": [
        "x_gpud = cp.diag(x_gpu)"
      ],
      "execution_count": null,
      "outputs": []
    },
    {
      "cell_type": "code",
      "metadata": {
        "id": "uiuCvDqiqcdb"
      },
      "source": [
        "aa = x_gpud[:,None]*x_gpu"
      ],
      "execution_count": null,
      "outputs": []
    },
    {
      "cell_type": "code",
      "metadata": {
        "id": "RfZ7BGxUqmnj"
      },
      "source": [
        "bb =  cp.diag(x_gpud).dot(x_gpu)"
      ],
      "execution_count": null,
      "outputs": []
    },
    {
      "cell_type": "code",
      "metadata": {
        "id": "LFtr-n9WqvXo"
      },
      "source": [
        "np.isclose(aa,bb)"
      ],
      "execution_count": null,
      "outputs": []
    },
    {
      "cell_type": "code",
      "metadata": {
        "id": "QZ3cJVM4rdKv"
      },
      "source": [
        "sad = cp.random.normal(1,2,(1,10))"
      ],
      "execution_count": null,
      "outputs": []
    },
    {
      "cell_type": "code",
      "metadata": {
        "id": "9y3JnzGD5Hpp"
      },
      "source": [
        "sad2 = sad\n",
        "sad2[sad<1] = 1 "
      ],
      "execution_count": null,
      "outputs": []
    },
    {
      "cell_type": "code",
      "metadata": {
        "colab": {
          "base_uri": "https://localhost:8080/"
        },
        "id": "p0EERWUj5IRf",
        "outputId": "fbc2cf20-874f-4e47-b1b9-3f4637ed6953"
      },
      "source": [
        "nnn"
      ],
      "execution_count": null,
      "outputs": [
        {
          "output_type": "execute_result",
          "data": {
            "text/plain": [
              "array([[4.0638364 , 2.08147052, 1.        , 1.        , 1.73449968,\n",
              "        1.        , 2.0223453 , 1.71693217, 1.        , 1.        ]])"
            ]
          },
          "metadata": {
            "tags": []
          },
          "execution_count": 149
        }
      ]
    },
    {
      "cell_type": "code",
      "metadata": {
        "colab": {
          "base_uri": "https://localhost:8080/"
        },
        "id": "joxYL4qL5RBG",
        "outputId": "6de21548-5a7d-405a-ad13-aae0a69c9911"
      },
      "source": [
        "sad2"
      ],
      "execution_count": null,
      "outputs": [
        {
          "output_type": "execute_result",
          "data": {
            "text/plain": [
              "array([[1.        , 1.        , 2.00357005, 2.29041817, 1.79996971,\n",
              "        4.27379476, 1.        , 1.        , 4.78986567, 1.        ]])"
            ]
          },
          "metadata": {
            "tags": []
          },
          "execution_count": 243
        }
      ]
    },
    {
      "cell_type": "code",
      "metadata": {
        "id": "nrsp1Ang5fTI"
      },
      "source": [
        "import numpy as np\n",
        "k = np.array([[0,0,1,0]])\n",
        "G = np.random.normal(size = (k.shape[1],k.shape[1]))"
      ],
      "execution_count": null,
      "outputs": []
    },
    {
      "cell_type": "code",
      "metadata": {
        "id": "hMY6p7Re1Ng0"
      },
      "source": [
        "kk = np.dot(k.T,k)"
      ],
      "execution_count": null,
      "outputs": []
    },
    {
      "cell_type": "code",
      "metadata": {
        "colab": {
          "base_uri": "https://localhost:8080/"
        },
        "id": "6n-_WqO81jaB",
        "outputId": "8e6e48e4-a86a-4e6b-9859-1fd9ddb3731b"
      },
      "source": [
        "%%timeit\n",
        "\n",
        "k = np.array([[0,0,1,0]])\n",
        "a = (np.eye(G.shape[0])-G).dot(np.dot(k.T,k)).dot(G)"
      ],
      "execution_count": null,
      "outputs": [
        {
          "output_type": "stream",
          "text": [
            "The slowest run took 28.05 times longer than the fastest. This could mean that an intermediate result is being cached.\n",
            "100000 loops, best of 3: 8.43 µs per loop\n"
          ],
          "name": "stdout"
        }
      ]
    },
    {
      "cell_type": "code",
      "metadata": {
        "colab": {
          "base_uri": "https://localhost:8080/"
        },
        "id": "Ye8dDCQp1y45",
        "outputId": "f029d9bf-8ba5-4584-9ba3-e9b5cbbfaa72"
      },
      "source": [
        "%%timeit\n",
        "\n",
        "b = np.outer((np.eye(G.shape[0]) - G)[:, 2], G[2, :])"
      ],
      "execution_count": null,
      "outputs": [
        {
          "output_type": "stream",
          "text": [
            "The slowest run took 15.21 times longer than the fastest. This could mean that an intermediate result is being cached.\n",
            "100000 loops, best of 3: 7.78 µs per loop\n"
          ],
          "name": "stdout"
        }
      ]
    },
    {
      "cell_type": "code",
      "metadata": {
        "id": "BMLX8moBSd6Q"
      },
      "source": [
        "G = cupy.asarray(G)\n",
        "k = cupy.zeros(G.shape)"
      ],
      "execution_count": null,
      "outputs": []
    },
    {
      "cell_type": "code",
      "metadata": {
        "colab": {
          "base_uri": "https://localhost:8080/"
        },
        "id": "oTc2KqkK2nUs",
        "outputId": "1c906440-b7b6-4aaa-f3df-685b22c576d0"
      },
      "source": [
        "%%timeit\n",
        "\n",
        "\n",
        "k[:,2] = (cupy.eye(G.shape[0])-G)[:,2]\n",
        "c = k.dot(G)"
      ],
      "execution_count": null,
      "outputs": [
        {
          "output_type": "stream",
          "text": [
            "1000 loops, best of 3: 574 µs per loop\n"
          ],
          "name": "stdout"
        }
      ]
    },
    {
      "cell_type": "code",
      "metadata": {
        "colab": {
          "base_uri": "https://localhost:8080/"
        },
        "id": "WawXMxNe74ac",
        "outputId": "ff86ba35-1ef1-43b5-ff0a-b4b1a32b397e"
      },
      "source": [
        "c"
      ],
      "execution_count": null,
      "outputs": [
        {
          "output_type": "execute_result",
          "data": {
            "text/plain": [
              "array([[-0.171966  , -0.2483357 , -0.05883828, -0.2440736 ],\n",
              "       [-0.58000409, -0.83758256, -0.1984488 , -0.82320743],\n",
              "       [ 0.48749052,  0.70398392,  0.16679522,  0.6919017 ],\n",
              "       [-0.58721316, -0.84799316, -0.20091539, -0.83343936]])"
            ]
          },
          "metadata": {
            "tags": []
          },
          "execution_count": 36
        }
      ]
    },
    {
      "cell_type": "code",
      "metadata": {
        "colab": {
          "base_uri": "https://localhost:8080/"
        },
        "id": "u_iOV2wm8HFb",
        "outputId": "7739c072-53c8-4f58-ac0a-5cd286ab0859"
      },
      "source": [
        "c[1,:]/k[1,2],G[2,:]"
      ],
      "execution_count": null,
      "outputs": [
        {
          "output_type": "execute_result",
          "data": {
            "text/plain": [
              "(array([-1.64661502, -1.73992686,  1.08018836,  0.1163992 ]),\n",
              " array([-1.64661502, -1.73992686,  1.08018836,  0.1163992 ]))"
            ]
          },
          "metadata": {
            "tags": []
          },
          "execution_count": 102
        }
      ]
    },
    {
      "cell_type": "code",
      "metadata": {
        "colab": {
          "base_uri": "https://localhost:8080/"
        },
        "id": "9Y0-8JSa3lBh",
        "outputId": "d60721e7-daaf-4302-9458-c34a21c675b4"
      },
      "source": [
        "%%timeit\n",
        "l = np.zeros((4,4))\n",
        "for i in range(4):\n",
        "    l[i,:] = (int(i==2)-G[i,2])*G[2,:]"
      ],
      "execution_count": null,
      "outputs": [
        {
          "output_type": "stream",
          "text": [
            "The slowest run took 6.31 times longer than the fastest. This could mean that an intermediate result is being cached.\n",
            "100000 loops, best of 3: 12 µs per loop\n"
          ],
          "name": "stdout"
        }
      ]
    },
    {
      "cell_type": "code",
      "metadata": {
        "colab": {
          "base_uri": "https://localhost:8080/"
        },
        "id": "rX6Zo_dD_P-u",
        "outputId": "d9c4c1b1-f3d1-4c95-aaa8-388e0c7de5d7"
      },
      "source": [
        "%timeit (np.eye(G.shape[0])-G)[:,2][:,None]*G[2,:]"
      ],
      "execution_count": null,
      "outputs": [
        {
          "output_type": "stream",
          "text": [
            "The slowest run took 10.28 times longer than the fastest. This could mean that an intermediate result is being cached.\n",
            "100000 loops, best of 3: 4.78 µs per loop\n"
          ],
          "name": "stdout"
        }
      ]
    },
    {
      "cell_type": "code",
      "metadata": {
        "id": "AbvbgdTz30PZ"
      },
      "source": [
        "from numba import cuda,guvectorize\n",
        "import cupy\n",
        "@guvectorize(['void(float64[:,:],float64[:,:])'],'(m,n)->(m,n)')\n",
        "def prod(G,l):\n",
        "    for i in range(G.shape[0]):\n",
        "        for j in range(G.shape[0]):\n",
        "            l[i,j] = (int(i==3)-G[i,3])*G[3,j]"
      ],
      "execution_count": null,
      "outputs": []
    },
    {
      "cell_type": "code",
      "metadata": {
        "id": "ipAhGkfGlvui"
      },
      "source": [
        "@cupy.fuse()\n",
        "def prod2(G1,G2):\n",
        "    return G1*G2"
      ],
      "execution_count": null,
      "outputs": []
    },
    {
      "cell_type": "code",
      "metadata": {
        "colab": {
          "base_uri": "https://localhost:8080/"
        },
        "id": "yiq-ROZmmJCI",
        "outputId": "5808b372-8e7d-4539-9405-506631403b1c"
      },
      "source": [
        "%%timeit \n",
        "k = -G[:,3][:,None]\n",
        "k[3] += 1\n",
        "prod2(k,G[3,:])"
      ],
      "execution_count": null,
      "outputs": [
        {
          "output_type": "stream",
          "text": [
            "The slowest run took 7.64 times longer than the fastest. This could mean that an intermediate result is being cached.\n",
            "10000 loops, best of 3: 71.3 µs per loop\n"
          ],
          "name": "stdout"
        }
      ]
    },
    {
      "cell_type": "code",
      "metadata": {
        "id": "bQH31GXSSod_"
      },
      "source": [
        "G =cupy.random.random(size=(200,200))\n"
      ],
      "execution_count": null,
      "outputs": []
    },
    {
      "cell_type": "code",
      "metadata": {
        "colab": {
          "base_uri": "https://localhost:8080/"
        },
        "id": "ii0NBsB7ftfF",
        "outputId": "f4534db9-b346-4db6-c189-b1689416780e"
      },
      "source": [
        "%%timeit \n",
        "k = -G[:,3][:,None]\n",
        "k[3] += 1\n",
        "k*G[3,:]"
      ],
      "execution_count": null,
      "outputs": [
        {
          "output_type": "stream",
          "text": [
            "The slowest run took 14.91 times longer than the fastest. This could mean that an intermediate result is being cached.\n",
            "10000 loops, best of 3: 64.1 µs per loop\n"
          ],
          "name": "stdout"
        }
      ]
    },
    {
      "cell_type": "code",
      "metadata": {
        "colab": {
          "base_uri": "https://localhost:8080/"
        },
        "id": "vY9SRTmGlY_M",
        "outputId": "2ce4400d-d544-4b55-f13a-467413217609"
      },
      "source": [
        ""
      ],
      "execution_count": null,
      "outputs": [
        {
          "output_type": "execute_result",
          "data": {
            "text/plain": [
              "<function ndarray.put>"
            ]
          },
          "metadata": {
            "tags": []
          },
          "execution_count": 149
        }
      ]
    },
    {
      "cell_type": "code",
      "metadata": {
        "colab": {
          "base_uri": "https://localhost:8080/"
        },
        "id": "S0CCvJIJ64Pr",
        "outputId": "460c0e9f-746d-4d9d-bb50-234f9531bd0e"
      },
      "source": [
        "%%timeit\n",
        "l =np.empty_like(cupy.asnumpy(G))\n",
        "prod(cupy.asnumpy(G),l)\n",
        "t = cupy.asarray(l)"
      ],
      "execution_count": null,
      "outputs": [
        {
          "output_type": "stream",
          "text": [
            "1000 loops, best of 3: 472 µs per loop\n"
          ],
          "name": "stdout"
        }
      ]
    },
    {
      "cell_type": "code",
      "metadata": {
        "colab": {
          "base_uri": "https://localhost:8080/"
        },
        "id": "XzmOY1y068pl",
        "outputId": "1b910ce7-af6a-40c7-e374-718779e799ae"
      },
      "source": [
        "t"
      ],
      "execution_count": null,
      "outputs": [
        {
          "output_type": "execute_result",
          "data": {
            "text/plain": [
              "array([[-0.19245095, -0.3872126 , -0.49078754, ..., -0.37337387,\n",
              "        -0.47085559, -0.4539432 ],\n",
              "       [-0.19849739, -0.39937807, -0.50620714, ..., -0.38510456,\n",
              "        -0.48564896, -0.46820522],\n",
              "       [-0.077481  , -0.15589228, -0.19759168, ..., -0.15032079,\n",
              "        -0.18956705, -0.18275811],\n",
              "       ...,\n",
              "       [-0.31705423, -0.63791523, -0.80855026, ..., -0.61511656,\n",
              "        -0.77571327, -0.74785088],\n",
              "       [-0.1758216 , -0.35375422, -0.44837943, ..., -0.34111128,\n",
              "        -0.43016976, -0.41471875],\n",
              "       [-0.10525473, -0.21177323, -0.26842014, ..., -0.20420459,\n",
              "        -0.25751901, -0.24826934]])"
            ]
          },
          "metadata": {
            "tags": []
          },
          "execution_count": 138
        }
      ]
    },
    {
      "cell_type": "code",
      "metadata": {
        "id": "KvA-LoL2Ev4o"
      },
      "source": [
        "import cupy\n",
        "\n",
        "x = cupy.array([1, 3, 2])\n",
        "expected = x.sort()\n",
        "cupy.cuda.Device().synchronize()\n",
        "\n",
        "stream = cupy.cuda.stream.Stream()\n",
        "with stream:\n",
        "    y = x.sort()\n",
        "stream.synchronize()\n",
        "cupy.testing.assert_array_equal(y, expected)\n",
        "\n",
        "stream = cupy.cuda.stream.Stream()\n",
        "stream.use()\n",
        "y = x.sort()\n",
        "stream.synchronize()\n",
        "cupy.testing.assert_array_equal(y, expected)"
      ],
      "execution_count": null,
      "outputs": []
    },
    {
      "cell_type": "code",
      "metadata": {
        "colab": {
          "base_uri": "https://localhost:8080/"
        },
        "id": "UrvO31AJevJ8",
        "outputId": "f62ce921-2e41-456c-8eeb-60e65078048a"
      },
      "source": [
        "print(cupy.testing.assert_array_equal(y, expected))"
      ],
      "execution_count": null,
      "outputs": [
        {
          "output_type": "stream",
          "text": [
            "None\n"
          ],
          "name": "stdout"
        }
      ]
    },
    {
      "cell_type": "code",
      "metadata": {
        "colab": {
          "base_uri": "https://localhost:8080/"
        },
        "id": "cZ04fPdEfrf5",
        "outputId": "1e054bdc-e0c5-40be-a98e-09094828179e"
      },
      "source": [
        "# nvprof --print-gpu-trace python examples/stream/cupy_memcpy.py\n",
        "import cupy\n",
        "import numpy\n",
        "\n",
        "pinned_memory_pool = cupy.cuda.PinnedMemoryPool()\n",
        "cupy.cuda.set_pinned_memory_allocator(pinned_memory_pool.malloc)\n",
        "\n",
        "\n",
        "def _pin_memory(array):\n",
        "    mem = cupy.cuda.alloc_pinned_memory(array.nbytes)\n",
        "    ret = numpy.frombuffer(mem, array.dtype, array.size).reshape(array.shape)\n",
        "    ret[...] = array\n",
        "    return ret\n",
        "\n",
        "\n",
        "SIZE = 1024 * 1024\n",
        "x_cpu_src = numpy.arange(SIZE, dtype=numpy.float32)\n",
        "x_gpu_src = cupy.arange(SIZE, dtype=numpy.float32)\n",
        "\n",
        "\n",
        "# synchronous\n",
        "stream = cupy.cuda.Stream.null\n",
        "start = stream.record()\n",
        "x_gpu_dst = cupy.empty(x_cpu_src.shape, x_cpu_src.dtype)\n",
        "x_gpu_dst.set(x_cpu_src)\n",
        "x_cpu_dst = x_gpu_src.get()\n",
        "end = stream.record()\n",
        "\n",
        "print('Synchronous Device to Host / Host to Device (ms)')\n",
        "print(cupy.cuda.get_elapsed_time(start, end))\n",
        "\n",
        "\n",
        "# asynchronous\n",
        "x_gpu_dst = cupy.empty(x_cpu_src.shape, x_cpu_src.dtype)\n",
        "x_cpu_dst = numpy.empty(x_gpu_src.shape, x_gpu_src.dtype)\n",
        "\n",
        "x_pinned_cpu_src = _pin_memory(x_cpu_src)\n",
        "x_pinned_cpu_dst = _pin_memory(x_cpu_dst)\n",
        "\n",
        "with cupy.cuda.stream.Stream() as stream_htod:\n",
        "    start = stream_htod.record()\n",
        "    x_gpu_dst.set(x_pinned_cpu_src)\n",
        "    with cupy.cuda.stream.Stream() as stream_dtoh:\n",
        "        x_gpu_src.get(out=x_pinned_cpu_dst)\n",
        "        stream_dtoh.synchronize()\n",
        "    stream_htod.synchronize()\n",
        "    end = stream_htod.record()\n",
        "\n",
        "print('Asynchronous Device to Host / Host to Device (ms)')\n",
        "print(cupy.cuda.get_elapsed_time(start, end))"
      ],
      "execution_count": null,
      "outputs": [
        {
          "output_type": "stream",
          "text": [
            "Synchronous Device to Host / Host to Device (ms)\n",
            "3.8452160358428955\n",
            "Asynchronous Device to Host / Host to Device (ms)\n",
            "0.5066879987716675\n"
          ],
          "name": "stdout"
        }
      ]
    },
    {
      "cell_type": "code",
      "metadata": {
        "colab": {
          "base_uri": "https://localhost:8080/"
        },
        "id": "SL3U8OzxgOLT",
        "outputId": "22754559-8b0d-492f-83c8-45d4ee43b705"
      },
      "source": [
        "# nvprof --print-gpu-trace python examples/stream/cublas.py\n",
        "import cupy\n",
        "\n",
        "x = cupy.random.normal(size=(1,10000))\n",
        "y = cupy.random.normal(size=(10000,1))\n",
        "expected = cupy.dot(y, x)\n",
        "cupy.cuda.Device().synchronize()\n",
        "\n",
        "stream = cupy.cuda.stream.Stream()\n",
        "with stream as st:\n",
        "    start = st.record()\n",
        "    z = cupy.dot(y, x)\n",
        "\n",
        "stream.synchronize()\n",
        "end = st.record()\n",
        "cupy.testing.assert_array_equal(z, expected)\n",
        "print(cupy.cuda.get_elapsed_time(start, end))\n",
        "# stream = cupy.cuda.stream.Stream()\n",
        "# stream.use()\n",
        "# z = cupy.dot(x, y)\n",
        "# stream.synchronize()\n",
        "# cupy.testing.assert_array_equal(z, expected)\n",
        "\n"
      ],
      "execution_count": null,
      "outputs": [
        {
          "output_type": "stream",
          "text": [
            "5.220736026763916\n"
          ],
          "name": "stdout"
        }
      ]
    },
    {
      "cell_type": "code",
      "metadata": {
        "colab": {
          "base_uri": "https://localhost:8080/"
        },
        "id": "Q56osce-ienD",
        "outputId": "c51939fc-d8ad-46eb-f8b3-ef09ce92c200"
      },
      "source": [
        "%time expected = cupy.dot(y, x)"
      ],
      "execution_count": null,
      "outputs": [
        {
          "output_type": "stream",
          "text": [
            "CPU times: user 480 µs, sys: 1.9 ms, total: 2.38 ms\n",
            "Wall time: 1.97 ms\n"
          ],
          "name": "stdout"
        }
      ]
    },
    {
      "cell_type": "code",
      "metadata": {
        "id": "8eiAR9PZifQE"
      },
      "source": [
        "for nx_1 in range(N_x)\n",
        "    for ny_1 in range(N_y)\n",
        "        \n",
        "        R1_0 = nx_1*N_y + ny_1 # first coordinate of the correlation function\n",
        "        R2_0 = N_y*cp.concatenate([cp.arange(nx_1+1,N_x) ,cp.arange(0,nx_1+1)]) - N_y + ny_1  # 2nd coordinate of the correlation function\n",
        "        \n",
        "        \n",
        "        # <sz(R1_0)sz(R2_0)> computation\n",
        "        szsz = sz_tmp[R1_0]*sz_tmp[R2_0] - cp.multiply(GF_up_tmp[R1_0,R2_0],GF_up_tmp[R2_0,R1_0])/4\n",
        "            -cp.multiply(GF_dn_tmp[R1_0,R2_0],GF_dn_tmp[R2_0,R1_0])/4\n",
        "        \n",
        "        szsz[0] = -n_up_tmp[R1_0]*n_dn_tmp[R1_0]/2 + rho_tmp[R1_0]/2\n",
        "        \n",
        "        # <sx(R1_0)sx(R2_0)> computation\n",
        "        sxsx = -cp.multiply(GF_up_tmp[R1_0,R2_0],GF_dn_tmp[R2_0,R1_0])/2\n",
        "        \n",
        "        sxsx[1] = n_up_tmp[R1_0]*(1-n_dn_tmp[R1_0])/2\n",
        "        \n",
        "        # <rho(R1_0)\\rho(R2_0)> computation\n",
        "        rho =  (rho_tmp[R1_0]*rho_tmp[R2_0]) - cp.multiply(GF_up_tmp[R1_0,R2_0],GF_up_tmp[R2_0,R1_0])/4 - cp.multiply(GF_dn_tmp[R1_0,R2_0],GF_dn_tmp[R2_0,R1_0])/4\n",
        "        rho[1] = n_up_tmp[R1_0]*n_dn_tmp[R1_0]/2 + rho_tmp[R1_0]/2\n",
        "                                "
      ],
      "execution_count": null,
      "outputs": []
    },
    {
      "cell_type": "code",
      "metadata": {
        "colab": {
          "base_uri": "https://localhost:8080/"
        },
        "id": "fc4DvYKs55IO",
        "outputId": "50a9b713-8621-4b22-ed0b-9e31aa186fe7"
      },
      "source": [
        "N_y = 8\n",
        "nx_1 = 0\n",
        "N_x = 16\n",
        "ny_1 = 0\n",
        "N_y*cp.concatenate([cp.arange(nx_1+1,N_x) ,cp.arange(0,nx_1+1)]) - N_y + ny_1 "
      ],
      "execution_count": null,
      "outputs": [
        {
          "output_type": "execute_result",
          "data": {
            "text/plain": [
              "array([  0,   8,  16,  24,  32,  40,  48,  56,  64,  72,  80,  88,  96,\n",
              "       104, 112,  -8])"
            ]
          },
          "metadata": {
            "tags": []
          },
          "execution_count": 45
        }
      ]
    },
    {
      "cell_type": "code",
      "metadata": {
        "colab": {
          "base_uri": "https://localhost:8080/"
        },
        "id": "TlfiPQR36Cdy",
        "outputId": "e311d400-8853-4e72-f812-6964f69e1a50"
      },
      "source": [
        "cp.arange(nx_1,N_x)"
      ],
      "execution_count": null,
      "outputs": [
        {
          "output_type": "execute_result",
          "data": {
            "text/plain": [
              "array([5, 6, 7])"
            ]
          },
          "metadata": {
            "tags": []
          },
          "execution_count": 28
        }
      ]
    },
    {
      "cell_type": "code",
      "metadata": {
        "id": "jY3yL5Np6XYi"
      },
      "source": [
        ""
      ],
      "execution_count": null,
      "outputs": []
    }
  ]
}